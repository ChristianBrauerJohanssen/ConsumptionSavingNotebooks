{
 "cells": [
  {
   "cell_type": "code",
   "execution_count": 19,
   "metadata": {},
   "outputs": [],
   "source": [
    "from numba import njit, prange\n",
    "import numpy as np\n",
    "\n",
    "@njit(parallel=True)\n",
    "def f(a,b,compute_a=True,compute_b=True):\n",
    "    for i in prange(10):\n",
    "        if compute_a:\n",
    "            a[i,:] = 1\n",
    "        if compute_b:\n",
    "            b[i,:] = 1     \n",
    "\n",
    "a = np.zeros((10,10))\n",
    "b = np.zeros((10,10))  \n",
    "f(a,b)"
   ]
  }
 ],
 "metadata": {
  "kernelspec": {
   "display_name": "Python 3",
   "language": "python",
   "name": "python3"
  },
  "language_info": {
   "codemirror_mode": {
    "name": "ipython",
    "version": 3
   },
   "file_extension": ".py",
   "mimetype": "text/x-python",
   "name": "python",
   "nbconvert_exporter": "python",
   "pygments_lexer": "ipython3",
   "version": "3.7.7"
  }
 },
 "nbformat": 4,
 "nbformat_minor": 4
}
