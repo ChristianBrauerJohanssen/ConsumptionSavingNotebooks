{
 "cells": [
  {
   "cell_type": "markdown",
   "metadata": {},
   "source": [
    "# Example with C++"
   ]
  },
  {
   "cell_type": "markdown",
   "metadata": {},
   "source": [
    "This notebooks shows how to **call C++ functions** using the interface from **consav**.\n",
    "\n",
    "**Platforms:** It only works on **Windows** computers. \n",
    "\n",
    "**Compilers:** One of these compilers must be installed:\n",
    "\n",
    "* **vs**: Free *Microsoft Visual Studio 2017/2019 Community Edition* ([link](https://visualstudio.microsoft.com/downloads/))\n",
    "* **intel:** Costly *Intel Parallel Studio 2018 Composer Edition* ([link](https://software.intel.com/en-us/parallel-studio-xe))\n",
    "\n",
    "**Computer used for timings:** Windows 10 computer with two Intel(R) Xeon(R) Gold 6254 3.10 GHz CPUs (18 cores, 36 logical processes each) and 768 GB of RAM."
   ]
  },
  {
   "cell_type": "markdown",
   "metadata": {},
   "source": [
    "# Setup"
   ]
  },
  {
   "cell_type": "code",
   "execution_count": 1,
   "metadata": {},
   "outputs": [],
   "source": [
    "# reload module each time cell is run\n",
    "%load_ext autoreload\n",
    "%autoreload 2\n",
    "\n",
    "import numpy as np\n",
    "import numba as nb\n",
    "\n",
    "# load the BufferStockModel module\n",
    "from BufferStockModel import BufferStockModelClass"
   ]
  },
  {
   "cell_type": "code",
   "execution_count": 2,
   "metadata": {},
   "outputs": [],
   "source": [
    "DO_INTEL = False"
   ]
  },
  {
   "cell_type": "markdown",
   "metadata": {},
   "source": [
    "## C++"
   ]
  },
  {
   "cell_type": "code",
   "execution_count": 3,
   "metadata": {},
   "outputs": [],
   "source": [
    "threads_list = [x for x in np.arange(1,nb.config.NUMBA_NUM_THREADS+1) if x in [1,4,8] or x%8 == 0]\n",
    "compilers = ['vs','intel'] if DO_INTEL else ['vs']"
   ]
  },
  {
   "cell_type": "code",
   "execution_count": 4,
   "metadata": {},
   "outputs": [],
   "source": [
    "model = BufferStockModelClass(name='',par={'solmethod':'egm'})"
   ]
  },
  {
   "cell_type": "code",
   "execution_count": 5,
   "metadata": {},
   "outputs": [
    {
     "name": "stdout",
     "output_type": "stream",
     "text": [
      "Linking to: cppfuncs/egm.cpp\n",
      "\n",
      "### finding all included files ###\n",
      "\n",
      "logs.cpp\n",
      "par_struct.cpp\n",
      "sol_struct.cpp\n",
      "sim_struct.cpp\n",
      "\n",
      "### writing structs ###\n",
      "\n",
      "cppfuncs/par_struct.cpp\n",
      "\n",
      " char *solmethod;\n",
      " int T;\n",
      " double beta;\n",
      " double rho;\n",
      " double R;\n",
      " double sigma_psi;\n",
      " int Npsi;\n",
      " double sigma_xi;\n",
      " int Nxi;\n",
      " double pi;\n",
      " double mu;\n",
      " int Nm;\n",
      " int Np;\n",
      " int Na;\n",
      " double tol;\n",
      " bool do_print;\n",
      " bool do_simple_w;\n",
      " int cppthreads;\n",
      " int simT;\n",
      " int simN;\n",
      " int sim_seed;\n",
      " double* grid_m;\n",
      " double* grid_p;\n",
      " double* grid_a;\n",
      " double* psi;\n",
      " double* psi_w;\n",
      " double* xi;\n",
      " double* xi_w;\n",
      " int Nshocks;\n",
      "\n",
      "cppfuncs/sol_struct.cpp\n",
      "\n",
      " double* c;\n",
      " double* v;\n",
      " double* w;\n",
      " double* q;\n",
      "\n",
      "cppfuncs/sim_struct.cpp\n",
      "\n",
      " double* p;\n",
      " double* m;\n",
      " double* c;\n",
      " double* a;\n",
      " double* psi;\n",
      " double* xi;\n",
      "\n",
      "### analyzing cppfuncs/egm.cpp ###\n",
      "\n",
      "function: solve\n",
      "return type: void\n",
      "argument types: ['par_struct*', 'sol_struct*']\n",
      "\n",
      "### analyzing cppfuncs/logs.cpp ###\n",
      "\n",
      "### analyzing cppfuncs/par_struct.cpp ###\n",
      "\n",
      "### analyzing cppfuncs/sol_struct.cpp ###\n",
      "\n",
      "### analyzing cppfuncs/sim_struct.cpp ###\n",
      "\n",
      "### compiling and linking ###\n",
      "\n",
      "C++ files compiled\n",
      "C++ files loaded\n",
      "\n",
      "DONE!\n",
      "\n",
      "compiler = vs, threads = 1,\n",
      "solved in 4.7 secs\n",
      "checksum: 3.6669632410613224\n",
      "\n",
      "compiler = vs, threads = 4,\n",
      "solved in 1.4 secs\n",
      "checksum: 3.6669632410613224\n",
      "\n",
      "compiler = vs, threads = 8,\n",
      "solved in 0.8 secs\n",
      "checksum: 3.6669632410613224\n",
      "\n"
     ]
    }
   ],
   "source": [
    "for compiler in compilers:\n",
    "    \n",
    "    # a. compile\n",
    "    model.cpp_options['compiler'] = compiler\n",
    "    model.link_to_cpp(do_print=(compiler=='vs'))\n",
    "    \n",
    "    # b. run with different number of threads\n",
    "    for threads in threads_list:\n",
    "        \n",
    "        print(f'compiler = {compiler}, threads = {threads},')\n",
    "        model.par.cppthreads = threads\n",
    "        \n",
    "        tic,toc = model.solve_cpp()\n",
    "        print(f'solved in {toc-tic:.1f} secs')\n",
    "        model.checksum()\n",
    "        print('')\n",
    "        \n",
    "    # c. unlink\n",
    "    model.cpp.delink()"
   ]
  }
 ],
 "metadata": {
  "kernelspec": {
   "display_name": "Python 3",
   "language": "python",
   "name": "python3"
  },
  "language_info": {
   "codemirror_mode": {
    "name": "ipython",
    "version": 3
   },
   "file_extension": ".py",
   "mimetype": "text/x-python",
   "name": "python",
   "nbconvert_exporter": "python",
   "pygments_lexer": "ipython3",
   "version": "3.8.5"
  }
 },
 "nbformat": 4,
 "nbformat_minor": 4
}
