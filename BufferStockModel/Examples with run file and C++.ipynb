{
 "cells": [
  {
   "cell_type": "markdown",
   "metadata": {},
   "source": [
    "# Examples with run file and C++"
   ]
  },
  {
   "cell_type": "markdown",
   "metadata": {},
   "source": [
    "This notebooks shows how to **write and execute run files** and **call C++ functions** using the interface from **consav**.\n",
    "\n",
    "**Requirements:** You must have these two compilers installed:\n",
    "\n",
    "* **vs**: Free *Microsoft Visual Studio 2017 Community Edition* ([link](https://visualstudio.microsoft.com/downloads/))\n",
    "* **intel:** Costly *Intel Parallel Studio 2018 Composer Edition* ([link](https://software.intel.com/en-us/parallel-studio-xe))\n",
    "\n",
    "**Computer used for timings:** Windows 10 computer with two Intel(R) Xeon(R) Gold 6154 3.00 GHz CPUs (18 cores, 36 logical processes each) and 192 GB of RAM."
   ]
  },
  {
   "cell_type": "markdown",
   "metadata": {},
   "source": [
    "# Setup"
   ]
  },
  {
   "cell_type": "code",
   "execution_count": null,
   "metadata": {},
   "outputs": [],
   "source": [
    "%matplotlib inline\n",
    "\n",
    "# reload module each time cell is run\n",
    "%load_ext autoreload\n",
    "%autoreload 2\n",
    "\n",
    "# use 8 threads in numba\n",
    "from consav import runtools\n",
    "runtools.write_numba_config(disable=0,threads=8)\n",
    "\n",
    "# load the BufferStockModel module\n",
    "from BufferStockModel import BufferStockModelClass"
   ]
  },
  {
   "cell_type": "markdown",
   "metadata": {},
   "source": [
    "# Run files"
   ]
  },
  {
   "cell_type": "markdown",
   "metadata": {},
   "source": [
    "You can create a run file (here **run.py**) calling a specific method (here **test()**), and then run it in a system command."
   ]
  },
  {
   "cell_type": "code",
   "execution_count": null,
   "metadata": {},
   "outputs": [],
   "source": [
    "model = BufferStockModelClass(name='',solmethod='egm')\n",
    "model.write_run_file(filename='run.py',method='test') # open run.py and have a look\n",
    "!python run.py"
   ]
  },
  {
   "cell_type": "markdown",
   "metadata": {},
   "source": [
    "This is e.g. beneficial when testing how much speed-up numba provides:"
   ]
  },
  {
   "cell_type": "code",
   "execution_count": null,
   "metadata": {},
   "outputs": [],
   "source": [
    "# from consav import runtools\n",
    "# model.write_run_file(filename='run.py',method='test',solmethod='egm',Np=2000,Nm=2000,Na=2000)\n",
    "# # here we are making the grids more dense to increase the runtime\n",
    "\n",
    "# for threads in [1,4,8,16,32,64]:\n",
    "#     runtools.write_numba_config(threads=threads,threading_layer='omp')\n",
    "#     print(f'threads = {threads}')\n",
    "#     !python run.py\n",
    "#     print('')"
   ]
  },
  {
   "cell_type": "code",
   "execution_count": null,
   "metadata": {},
   "outputs": [],
   "source": [
    "# for threads in [1,4,8,16,32,64]:\n",
    "#     runtools.write_numba_config(threads=threads,threading_layer='tbb')\n",
    "#     print(f'threads = {threads}')\n",
    "#     !python run.py\n",
    "#     print('')"
   ]
  },
  {
   "cell_type": "markdown",
   "metadata": {},
   "source": [
    "## C++"
   ]
  },
  {
   "cell_type": "markdown",
   "metadata": {},
   "source": [
    "**Note:** The code below is only for **Windows** and requires installing one of the following two compilers:\n",
    "\n",
    "* **vs**: Free *Microsoft Visual Studio 2017 Community Edition* ([link](https://visualstudio.microsoft.com/downloads/))\n",
    "* **intel:** Costly *Intel Parallel Studio 2018 Composer Edition* ([link](https://software.intel.com/en-us/parallel-studio-xe))\n",
    "\n",
    "**Troubleshooting:** The installation paths for the compiler might need to be adjusted. These are passed as argument to the cpptools.compile() function. Defaults are specified in model.vs_path, model.intel_path, and model.intel_vs_version.\n",
    "\n",
    "*Additional details are provided in the notebook **Calling C++** in the **Numba and C++** folder.*"
   ]
  },
  {
   "cell_type": "markdown",
   "metadata": {},
   "source": [
    "### Overview"
   ]
  },
  {
   "cell_type": "markdown",
   "metadata": {},
   "source": [
    "The **ModelClass** class also have an interface to C++. \n",
    "\n",
    "All C++ files should be in **cpp_funcs/**. The main file (here **EGM.cpp**) should:\n",
    "\n",
    "1. Include an **export macro**\n",
    "\n",
    "  ```\n",
    "  #define EXPORT extern \"C\" __declspec(dllexport)\n",
    "  ```\n",
    "\n",
    "\n",
    "2. Include the following **struct definitions**:\n",
    "\n",
    "  ```\n",
    "  #include \"par_struct.cpp\"\n",
    "  #include \"sol_struct.cpp\"\n",
    "  #include \"sim_struct.cpp\"  \n",
    "  ```\n",
    "  \n",
    "  \n",
    "3. Define **gateway functions** as:\n",
    "\n",
    "  ```\n",
    "  EXPORT void myfunction(par_struct *par, sol_struct *sol, sim_struct *sim)\n",
    "  ```\n",
    "\n",
    "\n",
    "4. If using visual studio the following function should be included:\n",
    "\n",
    "  ```\n",
    "  EXPORT void setup_omp(){\n",
    "      SetEnvironmentVariable(\"OMP_WAIT_POLICY\", \"passive\"); \n",
    "  }\n",
    "  ```   "
   ]
  },
  {
   "cell_type": "markdown",
   "metadata": {},
   "source": [
    "Note, that the structure is such that all C++ functions for simplicity are taking both par, sol and sim as input. The numba types automatically infered and saved `.parlist`, `.sollist` and `.simlist` are used for writing `par_struct.cpp`, `sol_struc.cpp`, and `sim_struct.cpp`."
   ]
  },
  {
   "cell_type": "markdown",
   "metadata": {},
   "source": [
    "### Linking"
   ]
  },
  {
   "cell_type": "markdown",
   "metadata": {},
   "source": [
    "When initializing a model the **compiler option** can be chosen (defaults to _vs_).\n",
    "\n",
    "The most import C++ methods are:\n",
    "\n",
    "1. **setup_cpp()**: Writes *par\\_struct.cpp*, *sol\\_struct.cpp*, *sim\\_strunct.cpp* in cppfuncs/.\n",
    "2. **link_cpp(FILE,FUNCS)**: Link to C++ file **cppfuncs/FILE.cpp** with list of functions in **FUNCS**.\n",
    "3. **call_cpp(FILE,FUNC)**: Call **FUNC** from C++ **FILE**.\n",
    "4. **delink_cpp(FILE)**: Delink C++ library."
   ]
  },
  {
   "cell_type": "markdown",
   "metadata": {},
   "source": [
    "### Example"
   ]
  },
  {
   "cell_type": "code",
   "execution_count": null,
   "metadata": {},
   "outputs": [],
   "source": [
    "for compiler in ['vs','intel']:\n",
    "    for threads in [1,4,8,16,32,64]:\n",
    "        model = BufferStockModelClass(name='',solmethod='egm',Np=2000,Nm=2000,Na=2000)\n",
    "        model.cppinfo['compiler'] = compiler\n",
    "        print(f'compiler = {compiler}, threads = {threads},')\n",
    "        model.par.cppthreads = threads\n",
    "        tic,toc = model.solve_cpp()\n",
    "        print(f'solved in {toc-tic:.1f} secs')\n",
    "        model.checksum()\n",
    "        print('')"
   ]
  },
  {
   "cell_type": "markdown",
   "metadata": {},
   "source": [
    "### Installation paths"
   ]
  },
  {
   "cell_type": "code",
   "execution_count": null,
   "metadata": {},
   "outputs": [],
   "source": [
    "model = BufferStockModelClass(name='')\n",
    "print(model.cppinfo['vs_path'])\n",
    "print(model.cppinfo['intel_path'])\n",
    "print(model.cppinfo['intel_vs_version'])"
   ]
  }
 ],
 "metadata": {
  "kernelspec": {
   "display_name": "Python 3",
   "language": "python",
   "name": "python3"
  },
  "language_info": {
   "codemirror_mode": {
    "name": "ipython",
    "version": 3
   },
   "file_extension": ".py",
   "mimetype": "text/x-python",
   "name": "python",
   "nbconvert_exporter": "python",
   "pygments_lexer": "ipython3",
   "version": "3.7.7"
  }
 },
 "nbformat": 4,
 "nbformat_minor": 4
}
