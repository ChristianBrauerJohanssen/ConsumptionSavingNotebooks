{
 "cells": [
  {
   "cell_type": "markdown",
   "metadata": {},
   "source": [
    "# Examples with run file and C++"
   ]
  },
  {
   "cell_type": "markdown",
   "metadata": {},
   "source": [
    "This notebooks shows how to **write and execute run files** and **call C++ functions** using the interface from **consav**."
   ]
  },
  {
   "cell_type": "markdown",
   "metadata": {},
   "source": [
    "# Setup"
   ]
  },
  {
   "cell_type": "code",
   "execution_count": 1,
   "metadata": {},
   "outputs": [],
   "source": [
    "%matplotlib inline\n",
    "\n",
    "# reload module each time cell is run\n",
    "%load_ext autoreload\n",
    "%autoreload 2\n",
    "\n",
    "# load the BufferStockModel module\n",
    "from BufferStockModel import BufferStockModelClass\n",
    "\n",
    "# use 8 threads in numba\n",
    "from consav import runtools\n",
    "runtools.write_numba_config(disable=0,threads=8)"
   ]
  },
  {
   "cell_type": "markdown",
   "metadata": {},
   "source": [
    "# Run files"
   ]
  },
  {
   "cell_type": "markdown",
   "metadata": {},
   "source": [
    "You can create a run file (here **run.py**) calling a specific method (here **test()**), and then run it in a system command."
   ]
  },
  {
   "cell_type": "code",
   "execution_count": 2,
   "metadata": {},
   "outputs": [
    {
     "name": "stdout",
     "output_type": "stream",
     "text": [
      "solution time: 0.5 secs\n",
      "checksum: 3.6669553712300376\n"
     ]
    }
   ],
   "source": [
    "model = BufferStockModelClass(solmethod='egm')\n",
    "model.write_run_file(filename='run.py',method='test')\n",
    "!python run.py"
   ]
  },
  {
   "cell_type": "markdown",
   "metadata": {},
   "source": [
    "This is e.g. beneficial when testing how much speed-up numba provides:"
   ]
  },
  {
   "cell_type": "code",
   "execution_count": 3,
   "metadata": {},
   "outputs": [
    {
     "name": "stdout",
     "output_type": "stream",
     "text": [
      "threads = 8\n",
      "solution time: 2.7 secs\n",
      "checksum: 3.401607450896838\n",
      "\n",
      "threads = 4\n",
      "solution time: 5.0 secs\n",
      "checksum: 3.401607450896838\n",
      "\n",
      "threads = 2\n",
      "solution time: 9.0 secs\n",
      "checksum: 3.401607450896838\n",
      "\n",
      "threads = 1\n",
      "solution time: 17.4 secs\n",
      "checksum: 3.401607450896838\n",
      "\n"
     ]
    }
   ],
   "source": [
    "from consav import runtools\n",
    "model.write_run_file(filename='run.py',solmethod='egm',method='test',Np=1500,Nm=1500,Na=1500)\n",
    "\n",
    "for threads in [8,4,2,1]:\n",
    "    runtools.write_numba_config(threads=threads,threading_layer='omp') # threading_layer='tbb'\n",
    "    print(f'threads = {threads}')\n",
    "    !python run.py\n",
    "    print('')"
   ]
  },
  {
   "cell_type": "markdown",
   "metadata": {},
   "source": [
    "## C++"
   ]
  },
  {
   "cell_type": "markdown",
   "metadata": {},
   "source": [
    "**Note:** The code below requires installing one of the following two compilers:\n",
    "\n",
    "* **vs**: Free *Microsoft Visual Studio 2017 Community Edition* ([link](https://visualstudio.microsoft.com/downloads/))\n",
    "* **intel:** Costly *Intel Parallel Studio 2018 Composer Edition* ([link](https://software.intel.com/en-us/parallel-studio-xe))\n",
    "\n",
    "**Troubleshooting:** The _installation paths_ might need to be adjusted. See arguements the arguments to _cpptools.compile()_ function.\n",
    "\n",
    "*Additional details are provided in the notebook **Calling C++** in the **Numba and C++** folder.*"
   ]
  },
  {
   "cell_type": "markdown",
   "metadata": {},
   "source": [
    "### Overview"
   ]
  },
  {
   "cell_type": "markdown",
   "metadata": {},
   "source": [
    "The **ConsumptionSavingModel** class also have an interface to C++. \n",
    "\n",
    "All C++ files should be in **cppfuncs/**. The main file should:\n",
    "\n",
    "1. Include an **export macro**\n",
    "\n",
    "  ```\n",
    "  #define EXPORT extern \"C\" __declspec(dllexport)\n",
    "  ```\n",
    "\n",
    "\n",
    "2. Include the following **struct definitions**:\n",
    "\n",
    "  ```\n",
    "  #include \"par_struct.cpp\"\n",
    "  #include \"sol_struct.cpp\"\n",
    "  #include \"sim_struct.cpp\"  \n",
    "  ```\n",
    "  \n",
    "  \n",
    "3. Define **gateway functions** as:\n",
    "\n",
    "  ```\n",
    "  EXPORT void myfunction(par_struct *par, sol_struct *sol, sim_struct *sim)\n",
    "  ```\n",
    "\n",
    "\n",
    "4. If using visual studio the following function should be included:\n",
    "\n",
    "  ```\n",
    "  EXPORT void setup_omp(){\n",
    "      SetEnvironmentVariable(\"OMP_WAIT_POLICY\", \"passive\"); \n",
    "  }\n",
    "  ```   "
   ]
  },
  {
   "cell_type": "markdown",
   "metadata": {},
   "source": [
    "### Linking"
   ]
  },
  {
   "cell_type": "markdown",
   "metadata": {},
   "source": [
    "The most import methods are:\n",
    "\n",
    "1. **setup_cpp(compiler)**: Chooses the compiler (_vs_ or _intel_) and writes *par\\_struct.cpp*, *sol\\_struct.cpp*, *sim\\_strunct.cpp* in cppfuncs/.\n",
    "* **link_cpp(FILE,FUNCS)**: Link to C++ file **cppfuncs/FILE.cpp** with list of functions in **FUNCS**.\n",
    "* **call_cpp(FILE,FUNC)**: Call **FUNC** from C++ **FILE**.\n",
    "* **delink_cpp(FILE)**: Delink C++ library."
   ]
  },
  {
   "cell_type": "markdown",
   "metadata": {},
   "source": [
    "### Example"
   ]
  },
  {
   "cell_type": "code",
   "execution_count": 4,
   "metadata": {},
   "outputs": [
    {
     "name": "stdout",
     "output_type": "stream",
     "text": [
      "compiler = vs, threads = 8,\n",
      "cpp files loaded\n",
      "solved in 3.2 secs\n",
      "checksum: 3.401607450896838\n",
      "\n",
      "compiler = intel, threads = 8,\n",
      "cpp files loaded\n",
      "solved in 2.6 secs\n",
      "checksum: 3.401607450896838\n",
      "\n",
      "compiler = vs, threads = 4,\n",
      "cpp files loaded\n",
      "solved in 6.4 secs\n",
      "checksum: 3.401607450896838\n",
      "\n",
      "compiler = intel, threads = 4,\n",
      "cpp files loaded\n",
      "solved in 5.1 secs\n",
      "checksum: 3.401607450896838\n",
      "\n",
      "compiler = vs, threads = 2,\n",
      "cpp files loaded\n",
      "solved in 12.7 secs\n",
      "checksum: 3.401607450896838\n",
      "\n",
      "compiler = intel, threads = 2,\n",
      "cpp files loaded\n",
      "solved in 9.9 secs\n",
      "checksum: 3.401607450896838\n",
      "\n",
      "compiler = vs, threads = 1,\n",
      "cpp files loaded\n",
      "solved in 25.2 secs\n",
      "checksum: 3.401607450896838\n",
      "\n",
      "compiler = intel, threads = 1,\n",
      "cpp files loaded\n",
      "solved in 19.5 secs\n",
      "checksum: 3.401607450896838\n",
      "\n"
     ]
    }
   ],
   "source": [
    "model = BufferStockModelClass(solmethod='egm',Np=1500,Nm=1500,Na=1500)\n",
    "\n",
    "for threads in [8,4,2,1]:\n",
    "    for compiler in ['vs','intel']:\n",
    "        \n",
    "        print(f'compiler = {compiler}, threads = {threads},')\n",
    "        model.par.cppthreads = threads\n",
    "        tic,toc = model.solve_cpp(compiler=compiler)\n",
    "        print(f'solved in {toc-tic:.1f} secs')\n",
    "        model.checksum()\n",
    "        print('')\n"
   ]
  }
 ],
 "metadata": {
  "kernelspec": {
   "display_name": "Python 3",
   "language": "python",
   "name": "python3"
  },
  "language_info": {
   "codemirror_mode": {
    "name": "ipython",
    "version": 3
   },
   "file_extension": ".py",
   "mimetype": "text/x-python",
   "name": "python",
   "nbconvert_exporter": "python",
   "pygments_lexer": "ipython3",
   "version": "3.7.1"
  }
 },
 "nbformat": 4,
 "nbformat_minor": 2
}
