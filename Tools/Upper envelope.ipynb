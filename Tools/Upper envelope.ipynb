{
 "cells": [
  {
   "cell_type": "markdown",
   "metadata": {},
   "source": [
    "# Upper envelope"
   ]
  },
  {
   "cell_type": "markdown",
   "metadata": {},
   "source": [
    "This notebook shows how to use the **upperenvelope** module from the **consav** package."
   ]
  },
  {
   "cell_type": "markdown",
   "metadata": {},
   "source": [
    "# Model\n",
    "\n",
    "Consider a **standard consumption-saving** model\n",
    "\n",
    "\\begin{align}\n",
    "v_{t}(m_{t})&=\\max_{c_{t}}\\frac{c_{t}^{1-\\rho}}{1-\\rho}+\\beta v_{t+1}(m_{t+1})\n",
    "\\end{align}\n",
    "\n",
    "where\n",
    "\n",
    "\n",
    "\\begin{align}\n",
    "a_{t}\t&=m_{t}-c_{t} \\\\\n",
    "m_{t+1}\t&=Ra_{t}+y \\\\\n",
    "\\end{align}"
   ]
  },
  {
   "cell_type": "markdown",
   "metadata": {},
   "source": [
    "The **Euler equation** is\n",
    "\n",
    "\\begin{align}\n",
    "c_{t}^{-\\rho} &=\\beta Rc_{t+1}^{-\\rho}\n",
    "\\end{align}"
   ]
  },
  {
   "cell_type": "markdown",
   "metadata": {},
   "source": [
    "Assume that the **t+1 consumption and value functions** are given by"
   ]
  },
  {
   "cell_type": "markdown",
   "metadata": {},
   "source": [
    "\\begin{align}\n",
    "c_{t+1}(m_{t}) &= \\sqrt{m_{t}}-\\eta_{c} \\cdot 1\\{m_{t}\\geq\\underline{m}\\} \\\\\n",
    "v_{t+1}(m_{t}) &= \\sqrt{m_{t}}+\\eta_{v}\\sqrt{m_{t}-\\underline{m}} \\cdot 1\\{m_{t}\\geq\\underline{m}\\}\n",
    "\\end{align}"
   ]
  },
  {
   "cell_type": "markdown",
   "metadata": {},
   "source": [
    "This **notebook** shows how to find the **t consumption and value function** using an **upper envelope** code despite the **kink** in the next-period value function."
   ]
  },
  {
   "cell_type": "markdown",
   "metadata": {},
   "source": [
    "# Algorithm"
   ]
  },
  {
   "cell_type": "markdown",
   "metadata": {},
   "source": [
    "1. Specify an increasing grid of $m_t$ indexed by $j$, such as {${m_1,m_2,...,m_{\\#_m}}$} <br>\n",
    "2. Specify an increasing grid of $a_t $ indexed by $i$, such as {${a^1,a^2,...,a^{\\#_a}}$} <br>\n",
    "3. For each $i$ compute (using linear interpolation):<br>\n",
    "\n",
    "  a. Post-decision value function: $w^i = \\beta \\breve{v}_{t+1}(Ra^i+y)$ <br>\n",
    "  b. Post-decision marginal value of cash: $q^i = \\beta R\\breve{c}_{t+1}(Ra^i+y)^{-\\rho}$ <br>\n",
    "  c. Consumption: $c_i = (q^i)^{-1/\\rho}$ <br>\n",
    "  d. Cash-on-hand: $m^i = a^i + c^i$ <br>\n",
    "  \n",
    "4. For each $j$: <br>\n",
    "\n",
    "  a. Constraint: If $m_j < m^1$ then set $c_j = m_j$ <br>\n",
    "  b. Find best segment: If $m_j \\geq m^1$ then set $c_j =c_j^{i^{\\star}(j)} $ where <br>\n",
    "\n",
    "  $$\n",
    "  \\begin{align}\n",
    "  c_j^i=c_j^i+\\frac{c^{i+1}-c^i}{m^{i+1}-m^i}(m_j-m^i)\n",
    "  \\end{align}\n",
    "  $$\n",
    "  \n",
    "  and\n",
    "\n",
    "  $$\n",
    "  \\begin{align}\n",
    "  i^{\\star}(j)=\\arg\\max_{i\\in\\{1,\\dots\\#_{A}-1\\}}\\frac{(c_{j}^{i})^{1-\\rho}}{1-\\rho}+\\beta w_{j}^{i} \\\\\n",
    "  \\end{align}\n",
    "  $$\n",
    "  \n",
    "  subject to\n",
    "  \n",
    "  $$\n",
    "  \\begin{align}\n",
    "  m_{j} &\\in [m^{i},m^{i+1}] \\\\\n",
    "  a_{j}^{i} &= m_{j}-c_{j}^{i} \\\\\n",
    "  w_{j}^{i} &= w^{i}+\\frac{w^{i+1}-w^{i}}{a^{i+1}-a^{i}}(a_{j}^{i}-a^{i})\n",
    "  \\end{align}\n",
    "  $$\n"
   ]
  },
  {
   "cell_type": "markdown",
   "metadata": {},
   "source": [
    "# Setup"
   ]
  },
  {
   "cell_type": "code",
   "execution_count": 1,
   "metadata": {},
   "outputs": [],
   "source": [
    "import numpy as np\n",
    "from numba import njit\n",
    "\n",
    "import matplotlib.pyplot as plt\n",
    "plt.style.use('seaborn-whitegrid')\n",
    "prop_cycle = plt.rcParams[\"axes.prop_cycle\"]\n",
    "colors = prop_cycle.by_key()[\"color\"]\n",
    "import ipywidgets as widgets"
   ]
  },
  {
   "cell_type": "markdown",
   "metadata": {},
   "source": [
    "Choose parameters and create grids:"
   ]
  },
  {
   "cell_type": "code",
   "execution_count": 2,
   "metadata": {},
   "outputs": [],
   "source": [
    "def setup():\n",
    "    \n",
    "    par = dict()\n",
    "    \n",
    "    # a. model parameters\n",
    "    par['beta'] = 0.96\n",
    "    par['rho'] = 2\n",
    "    par['R'] = 1.02\n",
    "    par['y'] = 1\n",
    "    \n",
    "    # b. cash-on-hand (exogenous grid)\n",
    "    par['Nm'] = 10000\n",
    "    par['m_max'] = 10\n",
    "    \n",
    "    # c. end-of-period assets (exogenous grid)\n",
    "    par['Na'] = 1000\n",
    "    par['a_max'] = 10\n",
    "    \n",
    "    # d. next-period consumption and value function\n",
    "    par['eta_v'] = 0.5\n",
    "    par['eta_c'] = 0.5\n",
    "    par['x_ubar'] = 5\n",
    "    \n",
    "    return par\n",
    "\n",
    "def create_grids(par):\n",
    "    \n",
    "    par['grid_a'] = np.linspace(0,par['a_max'],par['Na'])\n",
    "    par['grid_m'] = np.linspace(1e-8,par['m_max'],par['Nm'])\n",
    "    \n",
    "    return par\n",
    "\n",
    "par = setup()\n",
    "par = create_grids(par)"
   ]
  },
  {
   "cell_type": "markdown",
   "metadata": {},
   "source": [
    "# Next-period functions"
   ]
  },
  {
   "cell_type": "markdown",
   "metadata": {},
   "source": [
    "Calculate the next-period consumption and value functions:"
   ]
  },
  {
   "cell_type": "code",
   "execution_count": 3,
   "metadata": {},
   "outputs": [],
   "source": [
    "sol = dict()\n",
    "    \n",
    "# a. consumption function    \n",
    "sol['c_next'] = np.sqrt(par['grid_m']) - par['eta_c']*(par['grid_m'] >= par['x_ubar']);\n",
    "\n",
    "# b. value function\n",
    "sol['v_next'] = np.sqrt(par['grid_m']) + par['eta_v']*np.sqrt(np.fmax(par['grid_m']-par['x_ubar'],0))*(par['grid_m'] >= par['x_ubar'])"
   ]
  },
  {
   "cell_type": "markdown",
   "metadata": {},
   "source": [
    "## Figures"
   ]
  },
  {
   "cell_type": "markdown",
   "metadata": {},
   "source": [
    "Plot them to see the jump in consumption and the kink in the value function."
   ]
  },
  {
   "cell_type": "code",
   "execution_count": 4,
   "metadata": {},
   "outputs": [
    {
     "data": {
      "image/png": "[encoded data removed]",
      "text/plain": [
       "<Figure size 432x288 with 1 Axes>"
      ]
     },
     "metadata": {
      "needs_background": "light"
     },
     "output_type": "display_data"
    },
    {
     "data": {
      "image/png": "[encoded data removed]",
      "text/plain": [
       "<Figure size 432x288 with 1 Axes>"
      ]
     },
     "metadata": {
      "needs_background": "light"
     },
     "output_type": "display_data"
    }
   ],
   "source": [
    "# a. next-period consumption function\n",
    "fig = plt.figure()\n",
    "ax = fig.add_subplot(1,1,1)\n",
    "\n",
    "ax.plot(par['grid_m'],sol['c_next'],'o',MarkerSize=0.5)\n",
    "    \n",
    "ax.set_title('next-period consumption function')\n",
    "ax.set_xlabel('$m_t$')\n",
    "ax.set_ylabel('$c_t$')\n",
    "\n",
    "# b. next-period value function\n",
    "fig = plt.figure()\n",
    "ax = fig.add_subplot(1,1,1)\n",
    "\n",
    "ax.plot(par['grid_m'],sol['v_next'],'o',MarkerSize=0.5)\n",
    "    \n",
    "ax.set_title('next-period value function')\n",
    "ax.set_xlabel('$m_t$')\n",
    "ax.set_ylabel('$v_t$');"
   ]
  },
  {
   "cell_type": "markdown",
   "metadata": {},
   "source": [
    "# EGM"
   ]
  },
  {
   "cell_type": "code",
   "execution_count": 5,
   "metadata": {},
   "outputs": [],
   "source": [
    "from consav import linear_interp # linear interpolation"
   ]
  },
  {
   "cell_type": "markdown",
   "metadata": {},
   "source": [
    "Apply the EGM algorithm."
   ]
  },
  {
   "cell_type": "code",
   "execution_count": 6,
   "metadata": {},
   "outputs": [],
   "source": [
    "@njit\n",
    "def u(c,rho):\n",
    "    return c**(1-2)/(1-2)\n",
    "    \n",
    "def marg_u(c,par):\n",
    "    return c**(-par['rho'])\n",
    "\n",
    "def inv_marg_u(u,par):\n",
    "    return u**(-1.0/par['rho'])\n",
    "    \n",
    "def EGM(par,sol):\n",
    "\n",
    "    # a. next-period cash-on-hand\n",
    "    m_plus = par['R']*par['grid_a'] + par['y']\n",
    "\n",
    "    # b. post-decision value function\n",
    "    sol['w_vec'] = np.empty(m_plus.size)\n",
    "    linear_interp.interp_1d_vec(par['grid_m'],sol['v_next'],m_plus,sol['w_vec'])\n",
    "    \n",
    "    # c. post-decision marginal value of cash\n",
    "    c_next_interp = np.empty(m_plus.size)\n",
    "    linear_interp.interp_1d_vec(par['grid_m'],sol['c_next'],m_plus,c_next_interp)\n",
    "    q = par['beta']*par['R']*marg_u(c_next_interp,par)\n",
    "\n",
    "    # d. EGM\n",
    "    sol['c_vec'] = inv_marg_u(q,par)\n",
    "    sol['m_vec'] = par['grid_a'] + sol['c_vec']\n",
    "    \n",
    "    return sol\n",
    "    \n",
    "sol = EGM(par,sol)"
   ]
  },
  {
   "cell_type": "markdown",
   "metadata": {},
   "source": [
    "## Figures"
   ]
  },
  {
   "cell_type": "markdown",
   "metadata": {},
   "source": [
    "Plot the result of the EGM algorithm to see that the its does not define a consumption function."
   ]
  },
  {
   "cell_type": "code",
   "execution_count": 7,
   "metadata": {},
   "outputs": [
    {
     "data": {
      "image/png": "[encoded data removed]",
      "text/plain": [
       "<Figure size 432x288 with 1 Axes>"
      ]
     },
     "metadata": {
      "needs_background": "light"
     },
     "output_type": "display_data"
    },
    {
     "data": {
      "image/png": "[encoded data removed]",
      "text/plain": [
       "<Figure size 432x288 with 1 Axes>"
      ]
     },
     "metadata": {
      "needs_background": "light"
     },
     "output_type": "display_data"
    }
   ],
   "source": [
    "# a. raw consumption function\n",
    "fig = plt.figure()\n",
    "ax = fig.add_subplot(1,1,1)\n",
    "\n",
    "ax.plot(sol['m_vec'],sol['c_vec'],'o',MarkerSize=0.5)\n",
    "    \n",
    "ax.set_title('raw consumption points')\n",
    "ax.set_xlabel('$m_t$')\n",
    "ax.set_ylabel('$c_t$')\n",
    "\n",
    "# b. raw value function\n",
    "fig = plt.figure()\n",
    "ax = fig.add_subplot(1,1,1)\n",
    "\n",
    "ax.plot(sol['m_vec'],sol['w_vec'],'o',MarkerSize=0.5)\n",
    "    \n",
    "ax.set_title('raw value function points')\n",
    "ax.set_xlabel('$m_t$')\n",
    "ax.set_ylabel('$w_t$');"
   ]
  },
  {
   "cell_type": "markdown",
   "metadata": {},
   "source": [
    "# Upper envelope"
   ]
  },
  {
   "cell_type": "code",
   "execution_count": 8,
   "metadata": {},
   "outputs": [],
   "source": [
    "from consav import upperenvelope\n",
    "\n",
    "# a. create\n",
    "myupperenvelope = upperenvelope.create(u) # where is the utility function\n",
    "\n",
    "# b. apply\n",
    "c_ast_vec = np.empty(par['grid_m'].size) # output\n",
    "v_ast_vec = np.empty(par['grid_m'].size) # output\n",
    "myupperenvelope(par['grid_a'],sol['m_vec'],sol['c_vec'],sol['w_vec'],par['grid_m'],c_ast_vec,v_ast_vec,par['rho'])"
   ]
  },
  {
   "cell_type": "markdown",
   "metadata": {},
   "source": [
    "## Figures"
   ]
  },
  {
   "cell_type": "code",
   "execution_count": 9,
   "metadata": {},
   "outputs": [
    {
     "data": {
      "image/png": "[encoded data removed]",
      "text/plain": [
       "<Figure size 432x288 with 1 Axes>"
      ]
     },
     "metadata": {
      "needs_background": "light"
     },
     "output_type": "display_data"
    },
    {
     "data": {
      "image/png": "[encoded data removed]",
      "text/plain": [
       "<Figure size 432x288 with 1 Axes>"
      ]
     },
     "metadata": {
      "needs_background": "light"
     },
     "output_type": "display_data"
    }
   ],
   "source": [
    "# a. consumption function\n",
    "fig = plt.figure()\n",
    "ax = fig.add_subplot(1,1,1)\n",
    "\n",
    "ax.plot(par['grid_m'],c_ast_vec,'o',MarkerSize=0.5)\n",
    "    \n",
    "ax.set_title('consumption function')\n",
    "ax.set_xlabel('$m_t$')\n",
    "ax.set_ylabel('$c_t$')\n",
    "\n",
    "# b. value function\n",
    "fig = plt.figure()\n",
    "ax = fig.add_subplot(1,1,1)\n",
    "\n",
    "ax.plot(par['grid_m'],v_ast_vec,'o',MarkerSize=0.5)\n",
    "    \n",
    "ax.set_title('value function')\n",
    "ax.set_xlabel('$m_t$')\n",
    "ax.set_ylabel('$v_t$')\n",
    "\n",
    "ax.set_ylim((-5,5));"
   ]
  }
 ],
 "metadata": {
  "kernelspec": {
   "display_name": "Python 3",
   "language": "python",
   "name": "python3"
  },
  "language_info": {
   "codemirror_mode": {
    "name": "ipython",
    "version": 3
   },
   "file_extension": ".py",
   "mimetype": "text/x-python",
   "name": "python",
   "nbconvert_exporter": "python",
   "pygments_lexer": "ipython3",
   "version": "3.7.4"
  },
  "toc": {
   "nav_menu": {},
   "number_sections": true,
   "sideBar": true,
   "skip_h1_title": false,
   "title_cell": "Table of Contents",
   "title_sidebar": "Contents",
   "toc_cell": true,
   "toc_position": {},
   "toc_section_display": true,
   "toc_window_display": false
  },
  "toc-autonumbering": true
 },
 "nbformat": 4,
 "nbformat_minor": 4
}
