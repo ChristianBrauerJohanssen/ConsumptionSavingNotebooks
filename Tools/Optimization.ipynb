{
 "cells": [
  {
   "cell_type": "markdown",
   "metadata": {},
   "source": [
    "# Optimization"
   ]
  },
  {
   "cell_type": "markdown",
   "metadata": {},
   "source": [
    "This notebooks shows how to use the **numerical optimizer** modules."
   ]
  },
  {
   "cell_type": "markdown",
   "metadata": {},
   "source": [
    "# Setup"
   ]
  },
  {
   "cell_type": "code",
   "execution_count": 1,
   "metadata": {},
   "outputs": [],
   "source": [
    "# imports and settings\n",
    "import time\n",
    "from numba import njit\n",
    "import numpy as np\n",
    "\n",
    "# reload module each time cell is run\n",
    "%load_ext autoreload\n",
    "%autoreload 2\n",
    "\n",
    "# use 8 threads in numba\n",
    "from consav import runtools\n",
    "runtools.write_numba_config(disable=0,threads=8)"
   ]
  },
  {
   "cell_type": "markdown",
   "metadata": {},
   "source": [
    "# Golden Section Search"
   ]
  },
  {
   "cell_type": "markdown",
   "metadata": {},
   "source": [
    "The **golden_section_search** module provides a **Numba JIT** compilled one-dimensional **optimizer function** for a user-defined Numba JIT compilled function with abirtrary number of fixed inputs."
   ]
  },
  {
   "cell_type": "code",
   "execution_count": 2,
   "metadata": {},
   "outputs": [
    {
     "name": "stdout",
     "output_type": "stream",
     "text": [
      "result = 1.34582467  with f = -5.7061033\n"
     ]
    }
   ],
   "source": [
    "from consav import golden_section_search\n",
    "\n",
    "# a. target function\n",
    "@njit\n",
    "def f(x,alpha,beta):\n",
    "    return (x-alpha)*x*(x+beta)**2\n",
    "\n",
    "# b. call optimizer\n",
    "low = 0.0\n",
    "high = 4.0\n",
    "tol = 1e-5\n",
    "alpha = 2.0\n",
    "beta = 1.2\n",
    "result = golden_section_search.optimizer(low,high,tol,f,alpha,beta)\n",
    "\n",
    "print(f'result = {result:.8f}  with f = {f(result,alpha,beta):.8}')"
   ]
  },
  {
   "cell_type": "markdown",
   "metadata": {},
   "source": [
    "# Newton-Raphson"
   ]
  },
  {
   "cell_type": "markdown",
   "metadata": {},
   "source": [
    "The **newton_raphson** module provides a **Numba JIT** compilled multi-dimensional **optimizer function** for a user-defined Numba JIT compilled function with abirtrary number of fixed inputs."
   ]
  },
  {
   "cell_type": "code",
   "execution_count": 3,
   "metadata": {},
   "outputs": [
    {
     "name": "stdout",
     "output_type": "stream",
     "text": [
      "result = 1.34567999 with f = -5.7061031\n"
     ]
    }
   ],
   "source": [
    "from consav import newton_raphson\n",
    "\n",
    "# a. target function\n",
    "@njit\n",
    "def f(x,low,high,alpha,beta):        \n",
    "\n",
    "    penalty = 0.0\n",
    "    if x[0] < low:\n",
    "        penalty += 1000*(low-x[0])\n",
    "    elif x[0] > high:\n",
    "        penalty += 1000*(x[0]-high)\n",
    "        \n",
    "    return (x[0]-alpha)*x[0]*(x[0]+beta)**2 + penalty\n",
    "\n",
    "# b. create optimizer\n",
    "alpha = 2.0\n",
    "beta = 1.2\n",
    "low = 0.0\n",
    "high = 4.0\n",
    "optimizer_newton_raphson = newton_raphson.create_optimizer(f)\n",
    "\n",
    "# c. call optimizer\n",
    "guess = np.array([1.3])\n",
    "result = optimizer_newton_raphson(guess,low,high,alpha,beta)\n",
    "\n",
    "print(f'result = {result[0]:.8f} with f = {f(result,low,high,alpha,beta):.8}')"
   ]
  }
 ],
 "metadata": {
  "kernelspec": {
   "display_name": "Python 3",
   "language": "python",
   "name": "python3"
  },
  "language_info": {
   "codemirror_mode": {
    "name": "ipython",
    "version": 3
   },
   "file_extension": ".py",
   "mimetype": "text/x-python",
   "name": "python",
   "nbconvert_exporter": "python",
   "pygments_lexer": "ipython3",
   "version": "3.7.1"
  },
  "toc": {
   "base_numbering": 1,
   "nav_menu": {},
   "number_sections": true,
   "sideBar": true,
   "skip_h1_title": false,
   "title_cell": "Table of Contents",
   "title_sidebar": "Contents",
   "toc_cell": true,
   "toc_position": {},
   "toc_section_display": true,
   "toc_window_display": false
  }
 },
 "nbformat": 4,
 "nbformat_minor": 2
}
