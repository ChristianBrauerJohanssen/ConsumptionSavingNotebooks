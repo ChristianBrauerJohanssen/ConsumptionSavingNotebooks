{
 "cells": [
  {
   "cell_type": "markdown",
   "metadata": {},
   "source": [
    "# Calling C++"
   ]
  },
  {
   "cell_type": "markdown",
   "metadata": {},
   "source": [
    "**Introduction:** Pyton contains multiple ways of calling functions written in C++. This notebooks shows how to use the **cpptools** interface from the **consav** package. \n",
    "\n",
    "**Platforms:** It only works on **Windows** computers. "
   ]
  },
  {
   "cell_type": "markdown",
   "metadata": {},
   "source": [
    "**Compilers:** One of these compilers must be installed:\n",
    "\n",
    "* **vs**: Free *Microsoft Visual Studio 2017/2019 Community Edition* ([link](https://visualstudio.microsoft.com/downloads/))\n",
    "* **intel:** Costly *Intel Parallel Studio 2018 Composer Edition* ([link](https://software.intel.com/en-us/parallel-studio-xe))\n",
    "\n",
    "For parallization we will use **OpenMP**."
   ]
  },
  {
   "cell_type": "markdown",
   "metadata": {},
   "source": [
    "## Interface"
   ]
  },
  {
   "cell_type": "markdown",
   "metadata": {},
   "source": [
    "The C++ file used in this example is in **cppfuncs/example.cpp**. \n",
    "\n",
    "**Read the following information:**\n",
    "\n",
    "1. **Functions are automatically detected**. The provided .cpp file should include:\n",
    "\n",
    " `#define EXPORT extern \"C\" __declspec(dllexport)`\n",
    "\n",
    " A function to be called in Python should be **decorated** as e.g.:\n",
    " \n",
    " `EXPORT void fun_nostruct(double *X, double *Y, int N, double a, double b, int threads, char *txt)`\n",
    " \n",
    " **Extra:** Functions are also detected in *directly* included .cpp files.\n",
    " \n",
    "2. The following **argument types** are allowed: `int` `int*` `double` `double*` `bool` `bool*` and `char*` (for strings) + **user-defined structs** (see below).\n",
    "3. The foolowing **return types** are allowed: `void` `int` `double` and `bool`.\n",
    "4. **Class:** `cppfile = cpptools.link_to_cpp(filename,force_compile,structsmap,options,do_print)` returns an interface to an object with the **C++ functions as methods**.\n",
    " \n",
    "    `filename (str)`: C++ file with .cpp extension (full path)\n",
    "    \n",
    "    `force_compile (bool,optional)`: compile even if .dll is present (default is True)\n",
    "    \n",
    "    `structsmap (dict,optional)`: struct names as keys and associated pythonobj used in C++ as values (see below)\n",
    "    \n",
    "    `options (dict,optional)`: compiler options (see below)\n",
    "    \n",
    "    `do_print (bool,optional)`: print progress\n",
    "    \n",
    "5. **User-defined structs:** Assume `par` is a Python dict-like object (e.g. SimpleNamespace) then `structsmap={'par_struct':par}` allows `par_struct*` to be used as a type in C++ after `#include \"par_struct.cpp\"`, which is automatically written (in the same folder as the *filename.cpp* file) with automatically inferred fields and their types.\n",
    " \n",
    "6. **Compiler options:** Dictionary with the following elements:\n",
    "\n",
    "    `compiler (str)`: compiler choice (*vs* (default) or *intel*)\n",
    "    \n",
    "    `vs_path (str)`: path to vs compiler (if *None* (default) then newest version found is used, e.g. *C:/Program Files (x86)/Microsoft Visual Studio/2019/Community/VC/Auxiliary/Build/*)\n",
    "    \n",
    "    `intel_path (str)`: path to intel compiler\n",
    "    \n",
    "    `intel_vs_version (str)`: vs version used by intel compiler\n",
    "    \n",
    "    `nlopt_lib (str)`: path to NLopt library (included if exists, default is *cppfuncs/nlopt-2.4.2-dll64/libnlopt-0.lib*)\n",
    "    \n",
    "    `additional_cpp (str)`: additional cpp files to include (default is '')\n",
    "    \n",
    "    `dllfilename (str)`: filename of resulting dll file (if *None* (default) it is *filename.dll* where *filename.cpp*)\n",
    "    \n",
    "    `macros (dict/list)`: preprocessor macros (default is *None*)\n",
    "    \n",
    "    **NLopt:** For installation see the notebook **02. Using NLopt in C++.ipynb**.\n",
    "    \n",
    "7. **Methods:**\n",
    "\n",
    "    `cppfile.delink()`: Delink C++ file (release the .dll file, so that it can be overwritten when e.g. re-compiling).\n",
    "    \n",
    "    `cppfile.recompile()`: Delink, re-compile and re-link to C++ file.\n",
    "    \n",
    "    `cppfile.clean_up()`: Delink, remove .dll file, and remove any struct files."
   ]
  },
  {
   "cell_type": "markdown",
   "metadata": {},
   "source": [
    "# Imports"
   ]
  },
  {
   "cell_type": "code",
   "execution_count": null,
   "metadata": {},
   "outputs": [],
   "source": [
    "%load_ext autoreload\n",
    "%autoreload 2"
   ]
  },
  {
   "cell_type": "code",
   "execution_count": null,
   "metadata": {},
   "outputs": [],
   "source": [
    "import os\n",
    "from types import SimpleNamespace\n",
    "import numpy as np"
   ]
  },
  {
   "cell_type": "code",
   "execution_count": null,
   "metadata": {},
   "outputs": [],
   "source": [
    "from consav import cpptools"
   ]
  },
  {
   "cell_type": "code",
   "execution_count": null,
   "metadata": {},
   "outputs": [],
   "source": [
    "DO_INTEL = False"
   ]
  },
  {
   "cell_type": "markdown",
   "metadata": {},
   "source": [
    "# Setup"
   ]
  },
  {
   "cell_type": "code",
   "execution_count": null,
   "metadata": {},
   "outputs": [],
   "source": [
    "par = SimpleNamespace()\n",
    "par.N = 10\n",
    "par.X = np.linspace(0,10,par.N)\n",
    "par.Y = np.zeros(par.N)\n",
    "par.a = 2.0\n",
    "par.b = 1.0\n",
    "par.threads = 4\n",
    "par.txt = 'SUCCESS!'"
   ]
  },
  {
   "cell_type": "markdown",
   "metadata": {},
   "source": [
    "# Visual Studio compiler"
   ]
  },
  {
   "cell_type": "markdown",
   "metadata": {},
   "source": [
    "## Link to C++"
   ]
  },
  {
   "cell_type": "code",
   "execution_count": 6,
   "metadata": {},
   "outputs": [
    {
     "name": "stdout",
     "output_type": "stream",
     "text": [
      "Linking to: cppfuncs/example.cpp\n",
      "\n",
      "### finding all included files ###\n",
      "\n",
      "par_struct.cpp\n",
      "example_include.cpp\n",
      "\n",
      "### writing structs ###\n",
      "\n",
      "cppfuncs/par_struct.cpp\n",
      "\n",
      " int N;\n",
      " double* X;\n",
      " double* Y;\n",
      " double a;\n",
      " double b;\n",
      " int threads;\n",
      " char *txt;\n",
      "\n",
      "### analyzing cppfuncs/example.cpp ###\n",
      "\n",
      "function: fun\n",
      "return type: void\n",
      "argument types: ['par_struct*']\n",
      "\n",
      "function: fun_nostruct\n",
      "return type: void\n",
      "argument types: ['double*', 'double*', 'int', 'double', 'double', 'int', 'char*']\n",
      "\n",
      "### analyzing cppfuncs/par_struct.cpp ###\n",
      "\n",
      "### analyzing cppfuncs/example_include.cpp ###\n",
      "\n",
      "function: fun_nostruct_alt\n",
      "return type: void\n",
      "argument types: ['double*', 'double*', 'int', 'double', 'double', 'int', 'char*']\n",
      "\n",
      "function: I_DO_NOTHING\n",
      "return type: double\n",
      "argument types: []\n",
      "\n",
      "### compiling and linking ###\n",
      "\n",
      "C++ files compiled\n",
      "C++ files loaded\n",
      "\n",
      "DONE!\n",
      "\n"
     ]
    }
   ],
   "source": [
    "example = cpptools.link_to_cpp('cppfuncs/example.cpp',structsmap={'par_struct':par},do_print=True)"
   ]
  },
  {
   "cell_type": "markdown",
   "metadata": {},
   "source": [
    "## Calling functions"
   ]
  },
  {
   "cell_type": "code",
   "execution_count": 7,
   "metadata": {},
   "outputs": [],
   "source": [
    "example.fun(par)\n",
    "assert np.allclose(par.X*(par.a+par.b),par.Y)"
   ]
  },
  {
   "cell_type": "code",
   "execution_count": 8,
   "metadata": {},
   "outputs": [],
   "source": [
    "par.Y = np.zeros(par.N)\n",
    "example.fun_nostruct(par.X,par.Y,par.N,par.a,par.b,par.threads,par.txt)\n",
    "assert np.allclose(par.X*(par.a+par.b),par.Y)"
   ]
  },
  {
   "cell_type": "code",
   "execution_count": 9,
   "metadata": {},
   "outputs": [],
   "source": [
    "par.Y = np.zeros(par.N)\n",
    "example.fun_nostruct_alt(par.X,par.Y,par.N,par.a,par.b,par.threads,par.txt)\n",
    "assert np.allclose(par.X*(par.a+par.b),par.Y)"
   ]
  },
  {
   "cell_type": "markdown",
   "metadata": {},
   "source": [
    "## Re-compile"
   ]
  },
  {
   "cell_type": "code",
   "execution_count": 10,
   "metadata": {},
   "outputs": [],
   "source": [
    "example.recompile()"
   ]
  },
  {
   "cell_type": "code",
   "execution_count": 11,
   "metadata": {},
   "outputs": [],
   "source": [
    "res = example.I_DO_NOTHING()\n",
    "assert np.isclose(res,5.0)"
   ]
  },
  {
   "cell_type": "code",
   "execution_count": 12,
   "metadata": {},
   "outputs": [],
   "source": [
    "example.delink()"
   ]
  },
  {
   "cell_type": "markdown",
   "metadata": {},
   "source": [
    "## See all availible compiler options"
   ]
  },
  {
   "cell_type": "code",
   "execution_count": 13,
   "metadata": {},
   "outputs": [
    {
     "data": {
      "text/plain": [
       "{'compiler': 'vs',\n",
       " 'vs_path': 'C:/Program Files (x86)/Microsoft Visual Studio/2017/Community/VC/Auxiliary/Build/',\n",
       " 'intel_path': 'C:/Program Files (x86)/IntelSWTools/compilers_and_libraries_2018.5.274/windows/bin/',\n",
       " 'intel_vs_version': 'vs2017',\n",
       " 'nlopt_lib': 'cppfuncs/nlopt-2.4.2-dll64/libnlopt-0.lib',\n",
       " 'additional_cpp': '',\n",
       " 'macros': None,\n",
       " 'dllfilename': None}"
      ]
     },
     "execution_count": 13,
     "metadata": {},
     "output_type": "execute_result"
    }
   ],
   "source": [
    "example.options"
   ]
  },
  {
   "cell_type": "markdown",
   "metadata": {},
   "source": [
    "# Intel compiler"
   ]
  },
  {
   "cell_type": "code",
   "execution_count": 14,
   "metadata": {},
   "outputs": [],
   "source": [
    "if DO_INTEL:\n",
    "    \n",
    "    example = cpptools.link_to_cpp('cppfuncs/example.cpp',structsmap={'par':par},options={'compiler':'intel'})\n",
    "\n",
    "    example.fun(par)\n",
    "    assert np.allclose(par.X*(par.a+par.b),par.Y)\n",
    "    \n",
    "    example.delink()"
   ]
  },
  {
   "cell_type": "markdown",
   "metadata": {},
   "source": [
    "# Using the ModelClass"
   ]
  },
  {
   "cell_type": "code",
   "execution_count": 15,
   "metadata": {},
   "outputs": [],
   "source": [
    "from consav import ModelClass"
   ]
  },
  {
   "cell_type": "markdown",
   "metadata": {},
   "source": [
    "**Interface:**\n",
    "\n",
    "1. all elements in `namespaces` are availible as C++ structs with `_struct` appended (default, else specify `.cpp_structsmap` in `.settings()`).\n",
    "2. `cpptools.link_to_cpp()` is called by `.link_to_cpp` using `.cpp_filename` and the result is returned in `.cpp`.\n",
    "3. `cpp_options` is the compiler options.\n",
    "4. by default `force_compile=True` when calling `.link_to_cpp`"
   ]
  },
  {
   "cell_type": "code",
   "execution_count": 16,
   "metadata": {},
   "outputs": [],
   "source": [
    "class MyModelClass(ModelClass):   \n",
    "    \n",
    "    def settings(self):\n",
    "        \n",
    "        self.namespaces = []\n",
    "        self.not_floats = ['N','threads'] # non-float scalar elements in namespaces (for safe type inference)\n",
    "        \n",
    "        self.cpp_filename = 'cppfuncs/example.cpp' # required\n",
    "        self.cpp_options = {'compiler':'vs'} # optional\n",
    "        self.cpp_structsmap = {'par':'par_struct'} # optional\n",
    "        \n",
    "    def setup(self):\n",
    "        \n",
    "        par = self.par\n",
    "        \n",
    "        par.N = 10\n",
    "        par.a = 2.0\n",
    "        par.b = 1.0\n",
    "        par.threads = 4\n",
    "        par.txt = 'SUCCESS!'\n",
    "        \n",
    "    def allocate(self):\n",
    "        \n",
    "        par = self.par\n",
    "        par.X = np.linspace(0,10,par.N)\n",
    "        par.Y = np.zeros(par.N)\n",
    "    "
   ]
  },
  {
   "cell_type": "markdown",
   "metadata": {},
   "source": [
    "**Create:**"
   ]
  },
  {
   "cell_type": "code",
   "execution_count": 17,
   "metadata": {},
   "outputs": [
    {
     "name": "stdout",
     "output_type": "stream",
     "text": [
      "Linking to: cppfuncs/example.cpp\n",
      "\n",
      "### finding all included files ###\n",
      "\n",
      "par_struct.cpp\n",
      "example_include.cpp\n",
      "\n",
      "### writing structs ###\n",
      "\n",
      "cppfuncs/par_struct.cpp\n",
      "\n",
      " int N;\n",
      " double a;\n",
      " double b;\n",
      " int threads;\n",
      " char *txt;\n",
      " double* X;\n",
      " double* Y;\n",
      "\n",
      "cppfuncs/sol_struct.cpp\n",
      "\n",
      "\n",
      "cppfuncs/sim_struct.cpp\n",
      "\n",
      "\n",
      "### analyzing cppfuncs/example.cpp ###\n",
      "\n",
      "function: fun\n",
      "return type: void\n",
      "argument types: ['par_struct*']\n",
      "\n",
      "function: fun_nostruct\n",
      "return type: void\n",
      "argument types: ['double*', 'double*', 'int', 'double', 'double', 'int', 'char*']\n",
      "\n",
      "### analyzing cppfuncs/par_struct.cpp ###\n",
      "\n",
      "### analyzing cppfuncs/example_include.cpp ###\n",
      "\n",
      "function: fun_nostruct_alt\n",
      "return type: void\n",
      "argument types: ['double*', 'double*', 'int', 'double', 'double', 'int', 'char*']\n",
      "\n",
      "function: I_DO_NOTHING\n",
      "return type: double\n",
      "argument types: []\n",
      "\n",
      "### compiling and linking ###\n",
      "\n",
      "C++ files compiled\n",
      "C++ files loaded\n",
      "\n",
      "DONE!\n",
      "\n"
     ]
    }
   ],
   "source": [
    "model = MyModelClass('testcpp')\n",
    "model.link_to_cpp(do_print=True)\n",
    "par = model.par"
   ]
  },
  {
   "cell_type": "markdown",
   "metadata": {},
   "source": [
    "**Call C++:**"
   ]
  },
  {
   "cell_type": "code",
   "execution_count": 18,
   "metadata": {},
   "outputs": [],
   "source": [
    "model.cpp.fun(par)\n",
    "assert np.allclose(par.X*(par.a+par.b),par.Y)"
   ]
  },
  {
   "cell_type": "markdown",
   "metadata": {},
   "source": [
    "**Re-compile:**"
   ]
  },
  {
   "cell_type": "code",
   "execution_count": 19,
   "metadata": {},
   "outputs": [],
   "source": [
    "model.cpp.recompile()"
   ]
  },
  {
   "cell_type": "markdown",
   "metadata": {},
   "source": [
    "**Multiple models:** "
   ]
  },
  {
   "cell_type": "code",
   "execution_count": 20,
   "metadata": {},
   "outputs": [],
   "source": [
    "# a. don't compile when the .dll file is already loaded\n",
    "model_alt = MyModelClass('testcpp_alt')\n",
    "model_alt.link_to_cpp(force_compile=False) # default is force_compile = True\n",
    "\n",
    "# b. function call\n",
    "par = model_alt.par\n",
    "model_alt.cpp.fun_nostruct(par.X,par.Y,par.N,par.a,par.b,par.threads,par.txt)\n",
    "assert np.allclose(par.X*(par.a+par.b),par.Y)\n",
    "\n",
    "# c. delink without removing the .dll file\n",
    "model.cpp.delink()\n",
    "\n",
    "# d. delete model -> automatically calls .cpp.delink()\n",
    "del model_alt\n",
    "\n",
    "# e. now we can compile again\n",
    "model_alt = MyModelClass('testcpp_alt')\n",
    "model_alt.link_to_cpp()\n",
    "model_alt.cpp.clean_up()"
   ]
  }
 ],
 "metadata": {
  "kernelspec": {
   "display_name": "Python 3",
   "language": "python",
   "name": "python3"
  },
  "language_info": {
   "codemirror_mode": {
    "name": "ipython",
    "version": 3
   },
   "file_extension": ".py",
   "mimetype": "text/x-python",
   "name": "python",
   "nbconvert_exporter": "python",
   "pygments_lexer": "ipython3",
   "version": "3.8.6"
  },
  "toc": {
   "base_numbering": 1,
   "nav_menu": {},
   "number_sections": true,
   "sideBar": true,
   "skip_h1_title": false,
   "title_cell": "Table of Contents",
   "title_sidebar": "Contents",
   "toc_cell": true,
   "toc_position": {},
   "toc_section_display": true,
   "toc_window_display": false
  },
  "toc-autonumbering": true
 },
 "nbformat": 4,
 "nbformat_minor": 4
}
