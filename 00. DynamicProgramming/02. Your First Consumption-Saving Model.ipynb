{
 "cells": [
  {
   "cell_type": "markdown",
   "metadata": {},
   "source": [
    "# Your First Consumption-Saving Model"
   ]
  },
  {
   "cell_type": "markdown",
   "metadata": {},
   "source": [
    "Consider the following **consumption-saving model**:\n",
    "\n",
    "$$ \n",
    "\\begin{aligned}\n",
    "v_{t}(m_{t}) &= \\max_{c_t}\\frac{c^{1-\\rho}}{1-\\rho} + \\beta \\mathbb{E}_t[v_{t+1}(m_{t+1})] \\\\\n",
    "& \\text{s.t.} \\\\ \n",
    "a_{t}&=m_{t}-c_{t} \\\\\n",
    "m_{t+1}&= R a_{t} + \\tilde{\\xi}_{t+1}\\\\\n",
    "a_t&\\geq 0\\\\\n",
    "\\end{aligned}$$\n",
    "\n",
    "where\n",
    "\n",
    "$$ \n",
    "\\begin{aligned}\n",
    "\\log\\xi_{t+1} \\sim \\mathcal{N}(-0.5\\sigma_{\\xi}^{2},\\sigma_{\\xi}^{2})\n",
    "\\end{aligned} $$\n",
    "\n",
    "In the **last period** everything is consumed such that\n",
    "\n",
    "$$ \n",
    "\\begin{aligned}\n",
    "v_{T}(m_{T}) = \\frac{m_T^{1-\\rho}}{1-\\rho} \n",
    "\\end{aligned} $$"
   ]
  },
  {
   "cell_type": "markdown",
   "metadata": {},
   "source": [
    "To **solve this model using the ConSav package** we need to define the following functions:\n",
    "\n",
    "1. `settings(model)` Choose fundamental settings\n",
    "2. `setup(model)`: Set baseline parameters\n",
    "3. `allocate(model)`: Create grids and allocate solution and simulation memory\n",
    "4. `solve(model)`: Solve the model\n",
    "5. `simulate(model)`: Simulate the model\n",
    "\n",
    "Then we collect all of these functions as methods in a **class**."
   ]
  },
  {
   "cell_type": "markdown",
   "metadata": {},
   "source": [
    "## Numerical integration"
   ]
  },
  {
   "cell_type": "markdown",
   "metadata": {},
   "source": [
    "**General problem:** How can we calculate \n",
    "\n",
    "$$\\mathbb{E}(f(x))=\\int f(x)g(x)dx$$\n",
    "\n",
    "where \n",
    "\n",
    "1. $f:\\mathbb{R}\\rightarrow\\mathbb{R}$ is some function\n",
    "2. $g(x)$ is the probability distribution function (PDF) for $x$ and $G(x)$ is the CDF\n",
    "\n",
    "**General solution:** Turn it into a discrete sum\n",
    "\n",
    "$$\\mathbb{E}(f(x))\\approx\\sum_{i=1}^{S}\\omega_{i}f(x_{i})$$\n",
    "\n",
    "**Gauss-Hermite:** Specific clever way of choosing the $\\omega_i$'s and $x_i$'s. \n",
    "\n",
    "Provided for a log-normal variable by ConSav in `normal_gauss_hermite`."
   ]
  },
  {
   "cell_type": "markdown",
   "metadata": {},
   "source": [
    "# Setup"
   ]
  },
  {
   "cell_type": "code",
   "execution_count": 1,
   "metadata": {},
   "outputs": [],
   "source": [
    "%matplotlib inline\n",
    "%load_ext autoreload\n",
    "%autoreload 2\n",
    "\n",
    "import time\n",
    "import numpy as np\n",
    "from numba import njit, prange\n",
    "from scipy import optimize\n",
    "\n",
    "import matplotlib.pyplot as plt\n",
    "plt.style.use('seaborn-whitegrid')\n",
    "prop_cycle = plt.rcParams['axes.prop_cycle']\n",
    "colors = prop_cycle.by_key()['color']\n",
    "\n",
    "# consav, install with pip install ConSav\n",
    "from consav import ModelClass, jit, linear_interp, golden_section_search\n",
    "from consav.misc import elapsed\n",
    "from consav.grids import nonlinspace\n",
    "from consav.quadrature import log_normal_gauss_hermite"
   ]
  },
  {
   "cell_type": "markdown",
   "metadata": {},
   "source": [
    "# Components"
   ]
  },
  {
   "cell_type": "markdown",
   "metadata": {},
   "source": [
    "The **setings** function:\n",
    "\n",
    "1. `namespaces`: Will be availible as `.par`, `.sol` and `.sol` and can be used in numba jitted functions.\n",
    "2. `other_attrs`: Other attributes to be saved (cannot be used in numba jitted functions).\n",
    "3. `savefolder`: Where to save the model.\n",
    "4. `not_floats`: List of non-float elements in namespaces (ensures safe type inference)."
   ]
  },
  {
   "cell_type": "code",
   "execution_count": 2,
   "metadata": {},
   "outputs": [],
   "source": [
    "def settings(model):\n",
    "    \"\"\" choose fundamental settings \"\"\"\n",
    "    \n",
    "    # a. namespaces\n",
    "    model.namespaces = ['par','sol','sim']\n",
    "    \n",
    "    # b. other attributes\n",
    "    model.other_attrs = []\n",
    "    \n",
    "    # c. savefolder\n",
    "    model.savefolder = 'saved'\n",
    "    \n",
    "    # b. list not-floates to safe type inferences\n",
    "    model.not_floats = ['T','Nxi','Nm','simN'] \n",
    "    # rho = 2 e.g. raises an error, while T = 2 does not\n"
   ]
  },
  {
   "cell_type": "markdown",
   "metadata": {},
   "source": [
    "The **setup** function:"
   ]
  },
  {
   "cell_type": "code",
   "execution_count": 3,
   "metadata": {},
   "outputs": [],
   "source": [
    "def setup(model):\n",
    "    \"\"\" set baseline parameters (independent elements) \"\"\"\n",
    "        \n",
    "    par = model.par\n",
    "\n",
    "    # b. parameters\n",
    "    par.T = 100 # number of periods\n",
    "    par.rho = 2.0 # CRRA parameter\n",
    "    par.beta = 0.96 # discount factor\n",
    "    par.sigma_xi = 0.1 # std. of transitory shock\n",
    "    par.Nxi  = 8 # number of quadrature points for xi\n",
    "    par.R = 1.04 # return factor\n",
    "    par.Nm = 100 # number of nodes in grid for m\n",
    "    par.m_min = 1e-6 # minimum point in grid for m\n",
    "    par.m_max = 20.0 # maximum point in grid for m\n",
    "    par.m_phi = 1.3 # curvature parameter for grid for m\n",
    "    par.simN = 10_000 # number of persons in simulation\n",
    "    "
   ]
  },
  {
   "cell_type": "markdown",
   "metadata": {},
   "source": [
    "The **allocate** function:"
   ]
  },
  {
   "cell_type": "code",
   "execution_count": 4,
   "metadata": {},
   "outputs": [],
   "source": [
    "def allocate(model):\n",
    "    \"\"\" allocate model, i.e. create grids and allocate solution and simluation arrays (dependent elements) \"\"\"\n",
    "    \n",
    "    par = model.par\n",
    "    sol = model.sol\n",
    "    sim = model.sim   \n",
    "    \n",
    "    # a. grids\n",
    "    \n",
    "    # non-equally spaced grid\n",
    "    par.grid_m = nonlinspace(par.m_min,par.m_max,par.Nm,par.m_phi)\n",
    "    \n",
    "    # nodes and weights using Gauss-Hermite\n",
    "    par.xi, par.xi_w = log_normal_gauss_hermite(sigma=par.sigma_xi,n=par.Nxi) \n",
    "    \n",
    "    # b. solution\n",
    "    sol.c = np.zeros((par.T,par.Nm))\n",
    "    sol.v = np.zeros((par.T,par.Nm))\n",
    "    \n",
    "    # c. simulation\n",
    "    sim.m = np.zeros((par.T,par.simN))\n",
    "    sim.c = np.zeros((par.T,par.simN))\n",
    "    sim.a = np.zeros((par.T,par.simN))\n",
    "    sim.xi = np.zeros((par.T,par.simN))\n",
    "    "
   ]
  },
  {
   "cell_type": "markdown",
   "metadata": {},
   "source": [
    "The **solve** function:"
   ]
  },
  {
   "cell_type": "code",
   "execution_count": 5,
   "metadata": {},
   "outputs": [],
   "source": [
    "def value_of_choice(c,t,m,model):\n",
    "    \"\"\" value of choice \"\"\"\n",
    "    \n",
    "    par = model.par\n",
    "    sol = model.sol\n",
    "    \n",
    "    if c <= 0: return -np.inf\n",
    "    \n",
    "    # a. end-of-period assets\n",
    "    a = m - c\n",
    "    \n",
    "    # b. next-period cash-on\n",
    "    m_plus = par.R*a + par.xi\n",
    "    \n",
    "    # c. continuation value\n",
    "    v_plus = np.zeros(m_plus.size)\n",
    "    linear_interp.interp_1d_vec(par.grid_m,sol.v[t+1,:],m_plus,v_plus)\n",
    "            \n",
    "    # d. value-of-choice\n",
    "    total = c**(1-par.rho)/(1-par.rho) + par.beta*np.sum(par.xi_w*v_plus)\n",
    "    return total    \n",
    "    \n",
    "def solve(model):\n",
    "    \"\"\" solve model with vfi \"\"\"\n",
    "    \n",
    "    par = model.par\n",
    "    sol = model.sol\n",
    "    \n",
    "    t0 = time.time()\n",
    "    \n",
    "    # a. last-period\n",
    "    sol.c[-1,:] = par.grid_m\n",
    "    sol.v[-1,:]= par.grid_m**(1-par.rho)/(1-par.rho) \n",
    "    \n",
    "    # b. backwards induction\n",
    "    for t in reversed(range(par.T-1)):\n",
    "        for i_m,m in enumerate(par.grid_m):\n",
    "\n",
    "            obj = lambda c: -value_of_choice(c,t,m,model)\n",
    "            result = optimize.minimize_scalar(obj,method='bounded',bounds=(0,m))\n",
    "\n",
    "            sol.c[t,i_m] = result.x\n",
    "            sol.v[t,i_m]= -result.fun \n",
    "    \n",
    "    print(f'model solved in {elapsed(t0)}')"
   ]
  },
  {
   "cell_type": "markdown",
   "metadata": {},
   "source": [
    "The **simulate** function:"
   ]
  },
  {
   "cell_type": "code",
   "execution_count": 6,
   "metadata": {},
   "outputs": [],
   "source": [
    "def simulate(model,seed=1917):\n",
    "    \"\"\" simulate model \"\"\"\n",
    "    \n",
    "    par = model.par\n",
    "    sol = model.sol\n",
    "    sim = model.sim\n",
    "    \n",
    "    t0 = time.time()\n",
    "    \n",
    "    # a. shocks\n",
    "    if not seed is None: np.random.seed(seed)\n",
    "    sim.xi[:,:] = np.exp(np.random.normal(-0.5*par.sigma_xi**2,par.sigma_xi,size=(par.T,par.simN)))\n",
    "    \n",
    "    # a. initial cash-on-hand\n",
    "    sim.m[0,:] = sim.xi[0,:] \n",
    "    \n",
    "    # c. time loop\n",
    "    for t in range(par.T):\n",
    "        \n",
    "        # i. consumption\n",
    "        linear_interp.interp_1d_vec(par.grid_m,sol.c[t],sim.m[t,:],sim.c[t,:])\n",
    "\n",
    "        # ii. end-of-period assets\n",
    "        sim.a[t,:] = sim.m[t,:]-sim.c[t,:]\n",
    "\n",
    "        # iii. next-period\n",
    "        if t < par.T-1: sim.m[t+1] = par.R*sim.a[t,:] + sim.xi[t+1,:]\n",
    "            \n",
    "    print(f'model simulated in {elapsed(t0)}')            "
   ]
  },
  {
   "cell_type": "markdown",
   "metadata": {},
   "source": [
    "# Class"
   ]
  },
  {
   "cell_type": "markdown",
   "metadata": {},
   "source": [
    "**Define class:**"
   ]
  },
  {
   "cell_type": "code",
   "execution_count": 7,
   "metadata": {},
   "outputs": [],
   "source": [
    "class ConsumptionSavingModelClass(ModelClass):\n",
    "    \n",
    "    settings = settings\n",
    "    setup = setup\n",
    "    allocate = allocate\n",
    "    solve = solve\n",
    "    simulate = simulate\n",
    "    "
   ]
  },
  {
   "cell_type": "markdown",
   "metadata": {},
   "source": [
    "**Construct instance:**"
   ]
  },
  {
   "cell_type": "code",
   "execution_count": 8,
   "metadata": {},
   "outputs": [],
   "source": [
    "model = ConsumptionSavingModelClass(name='myfirstconsavmodel')"
   ]
  },
  {
   "cell_type": "markdown",
   "metadata": {},
   "source": [
    "**Check the type inference:**"
   ]
  },
  {
   "cell_type": "code",
   "execution_count": 9,
   "metadata": {},
   "outputs": [
    {
     "name": "stdout",
     "output_type": "stream",
     "text": [
      "Modelclass: ConsumptionSavingModelClass\n",
      "Name: myfirstconsavmodel\n",
      "\n",
      "namespaces: ['par', 'sim', 'sol']\n",
      "other_attrs: []\n",
      "savefolder: saved\n",
      "not_floats: ['T', 'Nxi', 'Nm', 'simN']\n",
      "\n",
      "par:\n",
      " T = 100 [int]\n",
      " rho = 2.0 [float]\n",
      " beta = 0.96 [float]\n",
      " sigma_xi = 0.1 [float]\n",
      " Nxi = 8 [int]\n",
      " R = 1.04 [float]\n",
      " Nm = 100 [int]\n",
      " m_min = 1e-06 [float]\n",
      " m_max = 20.0 [float]\n",
      " m_phi = 1.3 [float]\n",
      " simN = 10000 [int]\n",
      " grid_m = ndarray with shape = (100,) [dtype: float64]\n",
      " xi = ndarray with shape = (8,) [dtype: float64]\n",
      " xi_w = ndarray with shape = (8,) [dtype: float64]\n",
      " memory, gb: 0.0\n",
      "\n",
      "sim:\n",
      " m = ndarray with shape = (100, 10000) [dtype: float64]\n",
      " c = ndarray with shape = (100, 10000) [dtype: float64]\n",
      " a = ndarray with shape = (100, 10000) [dtype: float64]\n",
      " xi = ndarray with shape = (100, 10000) [dtype: float64]\n",
      " memory, gb: 0.0\n",
      "\n",
      "sol:\n",
      " c = ndarray with shape = (100, 100) [dtype: float64]\n",
      " v = ndarray with shape = (100, 100) [dtype: float64]\n",
      " memory, gb: 0.0\n",
      "\n"
     ]
    }
   ],
   "source": [
    "print(model)"
   ]
  },
  {
   "cell_type": "markdown",
   "metadata": {},
   "source": [
    "> **Note:** When initializing the model with `ConsumptionSainvgModelClass()` the `.settings()`, `.setup()` and `.allocate()` methods are called, and the types of all variables in `.par`, `.sol` and `.sim` are inferred. These types and the number of dimensions of numpy arrays must not be changed afterwards."
   ]
  },
  {
   "cell_type": "markdown",
   "metadata": {},
   "source": [
    "**Solve:**"
   ]
  },
  {
   "cell_type": "code",
   "execution_count": 10,
   "metadata": {},
   "outputs": [
    {
     "name": "stdout",
     "output_type": "stream",
     "text": [
      "model solved in 6.6 secs\n"
     ]
    }
   ],
   "source": [
    "model.solve()"
   ]
  },
  {
   "cell_type": "markdown",
   "metadata": {},
   "source": [
    "**Simulate:**"
   ]
  },
  {
   "cell_type": "code",
   "execution_count": 11,
   "metadata": {},
   "outputs": [
    {
     "name": "stdout",
     "output_type": "stream",
     "text": [
      "model simulated in 0.1 secs\n"
     ]
    }
   ],
   "source": [
    "model.simulate()"
   ]
  },
  {
   "cell_type": "code",
   "execution_count": 12,
   "metadata": {},
   "outputs": [],
   "source": [
    "par = model.par\n",
    "sol = model.sol\n",
    "sim = model.sim"
   ]
  },
  {
   "cell_type": "markdown",
   "metadata": {},
   "source": [
    "**Consumption functions:**"
   ]
  },
  {
   "cell_type": "code",
   "execution_count": 13,
   "metadata": {},
   "outputs": [
    {
     "data": {
      "image/png": "[encoded data removed]",
      "text/plain": [
       "<Figure size 432x288 with 1 Axes>"
      ]
     },
     "metadata": {},
     "output_type": "display_data"
    }
   ],
   "source": [
    "fig = plt.figure()\n",
    "ax = fig.add_subplot(1,1,1)\n",
    "\n",
    "for t in [par.T-1, par.T-2, par.T-6, par.T-11, 50, 25, 0]:\n",
    "    if t >= 0: ax.plot(par.grid_m,sol.c[t,:],'-o',ms=4,label=f'$t = {t}$')\n",
    "\n",
    "# layout\n",
    "ax.legend(frameon=True)\n",
    "ax.set_xlim([0,5])\n",
    "ax.set_ylim([0,5])\n",
    "ax.set_xlabel('$m_t$')\n",
    "ax.set_ylabel('$c_t$');"
   ]
  },
  {
   "cell_type": "markdown",
   "metadata": {},
   "source": [
    "**Time profile of end-of-period assets:**"
   ]
  },
  {
   "cell_type": "code",
   "execution_count": 14,
   "metadata": {},
   "outputs": [
    {
     "data": {
      "image/png": "[encoded data removed]",
      "text/plain": [
       "<Figure size 432x288 with 1 Axes>"
      ]
     },
     "metadata": {},
     "output_type": "display_data"
    }
   ],
   "source": [
    "par = model.par\n",
    "sol = model.sol\n",
    "\n",
    "fig = plt.figure()\n",
    "ax = fig.add_subplot(1,1,1)\n",
    "\n",
    "ax.plot(np.arange(par.T),np.mean(sim.a,axis=1))\n",
    "\n",
    "# layout\n",
    "ax.set_xlabel('time')\n",
    "ax.set_ylabel('$a_t$');"
   ]
  },
  {
   "cell_type": "markdown",
   "metadata": {},
   "source": [
    "**Histograms of end-of-period assets:**"
   ]
  },
  {
   "cell_type": "code",
   "execution_count": 15,
   "metadata": {},
   "outputs": [
    {
     "data": {
      "image/png": "[encoded data removed]",
      "text/plain": [
       "<Figure size 432x288 with 1 Axes>"
      ]
     },
     "metadata": {},
     "output_type": "display_data"
    }
   ],
   "source": [
    "fig = plt.figure()\n",
    "ax = fig.add_subplot(1,1,1)\n",
    "\n",
    "for t in [25,50,75]:\n",
    "    if t < par.T-1: ax.hist(sim.a[t,:],bins=100,alpha=0.5,label=f'$t = {t}$',density=True)\n",
    "\n",
    "# layout\n",
    "ax.legend(frameon=True)\n",
    "ax.set_xlabel('$m_t$');"
   ]
  },
  {
   "cell_type": "markdown",
   "metadata": {},
   "source": [
    "# Inherited methods"
   ]
  },
  {
   "cell_type": "markdown",
   "metadata": {},
   "source": [
    "**1. update at initilization:**"
   ]
  },
  {
   "cell_type": "code",
   "execution_count": 16,
   "metadata": {},
   "outputs": [
    {
     "name": "stdout",
     "output_type": "stream",
     "text": [
      "0.9\n"
     ]
    }
   ],
   "source": [
    "low_beta = ConsumptionSavingModelClass(name='lowbeta',par={'beta':0.9})\n",
    "print(low_beta.par.beta)"
   ]
  },
  {
   "cell_type": "markdown",
   "metadata": {},
   "source": [
    "**Note:** Happens after `.setup` is called, but before `.allocate` is called"
   ]
  },
  {
   "cell_type": "markdown",
   "metadata": {},
   "source": [
    "**2. save/load:**"
   ]
  },
  {
   "cell_type": "code",
   "execution_count": 17,
   "metadata": {},
   "outputs": [
    {
     "name": "stdout",
     "output_type": "stream",
     "text": [
      "checksum: 12104.94230169\n"
     ]
    }
   ],
   "source": [
    "model.save() # see saved\\myfirstconsavmodel*\n",
    "print(f'checksum: {np.sum(model.sol.c):.8f}')"
   ]
  },
  {
   "cell_type": "code",
   "execution_count": 18,
   "metadata": {},
   "outputs": [
    {
     "name": "stdout",
     "output_type": "stream",
     "text": [
      "checksum: 12104.94230169\n"
     ]
    }
   ],
   "source": [
    "model_loaded = ConsumptionSavingModelClass(name='myfirstconsavmodel',load=True)\n",
    "print(f'checksum: {np.sum(model_loaded.sol.c):.8f}')"
   ]
  },
  {
   "cell_type": "markdown",
   "metadata": {},
   "source": [
    "**3. copy**"
   ]
  },
  {
   "cell_type": "code",
   "execution_count": 19,
   "metadata": {},
   "outputs": [
    {
     "name": "stdout",
     "output_type": "stream",
     "text": [
      "name: myfirstconsavmodel_copy\n",
      "checksum: 12104.94230169\n"
     ]
    }
   ],
   "source": [
    "model_copy = model_loaded.copy()\n",
    "print(f'name: {model_copy.name}')\n",
    "print(f'checksum: {np.sum(model_copy.sol.c):.8f}')"
   ]
  },
  {
   "cell_type": "markdown",
   "metadata": {},
   "source": [
    "**4. as dictionary** (can be pickled)"
   ]
  },
  {
   "cell_type": "code",
   "execution_count": 20,
   "metadata": {},
   "outputs": [
    {
     "name": "stdout",
     "output_type": "stream",
     "text": [
      "name: fromdict\n",
      "checksum: 12104.94230169\n"
     ]
    }
   ],
   "source": [
    "model_dict = model.as_dict()\n",
    "model_fromdict = ConsumptionSavingModelClass(name='fromdict',from_dict=model_dict)\n",
    "print(f'name: {model_fromdict.name}')\n",
    "print(f'checksum: {np.sum(model_fromdict.sol.c):.8f}')"
   ]
  },
  {
   "cell_type": "markdown",
   "metadata": {},
   "source": [
    "# Numba"
   ]
  },
  {
   "cell_type": "markdown",
   "metadata": {},
   "source": [
    "The beauty of the **ModelClass** from **ConSav** is that it is [Numba]((http://numba.pydata.org/)) prepared, so it is very easy to call numba jitted functions. Numba automatically convert Python and NumPy code into fast machine code. Specifically, this is done for all functions preceded (decorated) with ``@njit`` or ``@njit(parallel=True)`` when parallization is used.\n",
    "\n",
    "**Note:** For more info about **Numba** see [here](https://numeconcopenhagen.netlify.com/lectures/The_need_for_speed#Numba)."
   ]
  },
  {
   "cell_type": "markdown",
   "metadata": {},
   "source": [
    "**New functions:**"
   ]
  },
  {
   "cell_type": "code",
   "execution_count": 21,
   "metadata": {},
   "outputs": [],
   "source": [
    "@njit\n",
    "def value_of_choice_jit(c,t,m,sol,par):\n",
    "            \n",
    "    # a. end-of-period assets\n",
    "    a = m - c\n",
    "    \n",
    "    # b. next-period cash-on\n",
    "    m_plus = par.R*a + par.xi\n",
    "    \n",
    "    # c. continuation value\n",
    "    v_plus = np.zeros(m_plus.size)\n",
    "    linear_interp.interp_1d_vec(par.grid_m,sol.v[t+1,:],m_plus,v_plus)\n",
    "            \n",
    "    # d. value-of-choice\n",
    "    total = c**(1-par.rho)/(1-par.rho) + par.beta*np.sum(par.xi_w*v_plus)\n",
    "    return -total    \n",
    "\n",
    "@njit(parallel=True)\n",
    "def solve_(t,sol,par):\n",
    "    \n",
    "    c = sol.c[t]\n",
    "    v = sol.v[t]\n",
    "    \n",
    "    for i_m in prange(par.Nm):\n",
    "        m = par.grid_m[i_m]\n",
    "        c[i_m] = golden_section_search.optimizer(value_of_choice_jit,1e-8,m,args=(t,m,sol,par))\n",
    "        v[i_m] = -value_of_choice_jit(c[i_m],t,m,sol,par)\n",
    "        \n",
    "def solve_jit(model):\n",
    "    \n",
    "    par = model.par\n",
    "    sol = model.sol\n",
    "    \n",
    "    t0 = time.time()\n",
    "    \n",
    "    # a. last-period\n",
    "    sol.c[-1,:] = par.grid_m\n",
    "    sol.v[-1,:]= par.grid_m**(1-par.rho)/(1-par.rho) \n",
    "    \n",
    "    # b. backwards induction\n",
    "    with jit(model) as model_jit: \n",
    "        for t in reversed(range(par.T-1)):\n",
    "            solve_(t,model_jit.sol,model_jit.par)\n",
    "        \n",
    "    print(f'model solved in {elapsed(t0)}')        "
   ]
  },
  {
   "cell_type": "markdown",
   "metadata": {},
   "source": [
    "**New model class:**"
   ]
  },
  {
   "cell_type": "code",
   "execution_count": 22,
   "metadata": {},
   "outputs": [],
   "source": [
    "class ConsumptionSavingModelClass_jit(ModelClass):\n",
    "    \n",
    "    settings = settings\n",
    "    setup = setup\n",
    "    allocate = allocate\n",
    "    solve = solve_jit\n",
    "    simulate = simulate\n"
   ]
  },
  {
   "cell_type": "markdown",
   "metadata": {},
   "source": [
    "**Solve the model with numba:**\n",
    "\n",
    "1. On the first run a few seconds is spend on analyzing the code\n",
    "2. From the second run onwards it is really fast"
   ]
  },
  {
   "cell_type": "code",
   "execution_count": 23,
   "metadata": {},
   "outputs": [
    {
     "name": "stdout",
     "output_type": "stream",
     "text": [
      "model setup done in 0.0 secs\n",
      "model solved in 2.6 secs\n",
      "model solved in 0.2 secs\n",
      "model solved in 0.2 secs\n"
     ]
    }
   ],
   "source": [
    "t0 = time.time()\n",
    "model_jit = ConsumptionSavingModelClass_jit(name='jit')\n",
    "print(f'model setup done in {elapsed(t0)}')\n",
    "\n",
    "for _ in range(3):\n",
    "    model_jit.solve()"
   ]
  },
  {
   "cell_type": "markdown",
   "metadata": {},
   "source": [
    "**Note:** When copying a model, the code is NOT re-analyzed"
   ]
  },
  {
   "cell_type": "code",
   "execution_count": 24,
   "metadata": {},
   "outputs": [
    {
     "name": "stdout",
     "output_type": "stream",
     "text": [
      "model solved in 0.2 secs\n",
      "model solved in 0.2 secs\n",
      "model solved in 0.2 secs\n"
     ]
    }
   ],
   "source": [
    "model_jit_alt = model_jit.copy()\n",
    "\n",
    "for _ in range(3):\n",
    "    model_jit_alt.solve()"
   ]
  },
  {
   "cell_type": "markdown",
   "metadata": {},
   "source": [
    "**Compare solutions:**"
   ]
  },
  {
   "cell_type": "code",
   "execution_count": 25,
   "metadata": {},
   "outputs": [
    {
     "data": {
      "image/png": "[encoded data removed]",
      "text/plain": [
       "<Figure size 432x288 with 1 Axes>"
      ]
     },
     "metadata": {},
     "output_type": "display_data"
    }
   ],
   "source": [
    "fig = plt.figure()\n",
    "ax = fig.add_subplot(1,1,1)\n",
    "\n",
    "ax.plot(par.grid_m,model.sol.c[0,:],'-o',ms=4,label=f'pure python')\n",
    "ax.plot(par.grid_m,model_jit.sol.c[0,:],'-o',ms=4,label=f'with numba')\n",
    "\n",
    "# layout\n",
    "ax.legend(frameon=True)\n",
    "ax.set_xlim([0,5])\n",
    "ax.set_ylim([0,5])\n",
    "ax.set_xlabel('$m_t$')\n",
    "ax.set_ylabel('$c_t$');"
   ]
  }
 ],
 "metadata": {
  "kernelspec": {
   "display_name": "Python 3",
   "language": "python",
   "name": "python3"
  },
  "language_info": {
   "codemirror_mode": {
    "name": "ipython",
    "version": 3
   },
   "file_extension": ".py",
   "mimetype": "text/x-python",
   "name": "python",
   "nbconvert_exporter": "python",
   "pygments_lexer": "ipython3",
   "version": "3.8.6"
  },
  "toc-autonumbering": true
 },
 "nbformat": 4,
 "nbformat_minor": 4
}
