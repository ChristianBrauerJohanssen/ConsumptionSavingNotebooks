{
 "cells": [
  {
   "cell_type": "markdown",
   "metadata": {},
   "source": [
    "# Setup"
   ]
  },
  {
   "cell_type": "markdown",
   "metadata": {},
   "source": [
    "Settings:"
   ]
  },
  {
   "cell_type": "code",
   "execution_count": 1,
   "metadata": {},
   "outputs": [],
   "source": [
    "threads = 8\n",
    "\n",
    "updpar = dict()\n",
    "updpar['T'] =  5\n",
    "updpar['cppthreads'] = threads\n",
    "updpar['do_print'] = True\n",
    "\n",
    "# numba\n",
    "from consav import runtools\n",
    "runtools.write_numba_config(disable=0,threads=threads)"
   ]
  },
  {
   "cell_type": "markdown",
   "metadata": {},
   "source": [
    "Imports and magics:"
   ]
  },
  {
   "cell_type": "code",
   "execution_count": 2,
   "metadata": {},
   "outputs": [],
   "source": [
    "%matplotlib inline\n",
    "\n",
    "# reload module each time cell is run\n",
    "%load_ext autoreload\n",
    "%autoreload 2\n",
    "\n",
    "# load the BufferStockModel module\n",
    "from DurableConsumptionModel import DurableConsumptionModelClass"
   ]
  },
  {
   "cell_type": "markdown",
   "metadata": {},
   "source": [
    "# Compare NEGM in Python and C++"
   ]
  },
  {
   "cell_type": "markdown",
   "metadata": {},
   "source": [
    "## C++"
   ]
  },
  {
   "cell_type": "code",
   "execution_count": 3,
   "metadata": {},
   "outputs": [
    {
     "name": "stdout",
     "output_type": "stream",
     "text": [
      " t = 4 solved in 1.4 secs\n",
      "  w computed in 0.8 secs\n",
      "  solved keeper problem in 0.2 secs\n",
      "  solved adjuster problem in 0.0 secs\n",
      " t = 3 solved in 1.0 secs\n",
      "  w computed in 0.8 secs\n",
      "  solved keeper problem in 0.2 secs\n",
      "  solved adjuster problem in 0.0 secs\n",
      " t = 2 solved in 1.0 secs\n",
      "  w computed in 0.8 secs\n",
      "  solved keeper problem in 0.2 secs\n",
      "  solved adjuster problem in 0.0 secs\n",
      " t = 1 solved in 1.0 secs\n",
      "  w computed in 0.7 secs\n",
      "  solved keeper problem in 0.2 secs\n",
      "  solved adjuster problem in 0.0 secs\n",
      " t = 0 solved in 0.9 secs\n",
      "model simulated in 2.4 secs\n",
      "euler errors calculated in 0.0 secs\n",
      "utility calculated in 0.0 secs\n",
      "\n",
      "checksum, inv_w: 0.57343250\n",
      "checksum, q: 344.71418560\n",
      "checksum, c_keep: 1.63511554\n",
      "checksum, d_adj: 1.10605693\n",
      "checksum, c_adj: 1.64455179\n",
      "checksum, inv_v_keep: 0.33824474\n",
      "checksum, inv_v_adj: 0.34254278\n",
      "\n"
     ]
    }
   ],
   "source": [
    "model_cpp = DurableConsumptionModelClass(solmethod='negm_cpp',compiler='vs',**updpar)\n",
    "model_cpp.solve()\n",
    "model_cpp.simulate()\n",
    "model_cpp.checksum()"
   ]
  },
  {
   "cell_type": "markdown",
   "metadata": {},
   "source": [
    "Without optimized interpolation:"
   ]
  },
  {
   "cell_type": "code",
   "execution_count": 4,
   "metadata": {},
   "outputs": [
    {
     "name": "stdout",
     "output_type": "stream",
     "text": [
      " t = 4 solved in 1.4 secs\n",
      "  w computed in 1.8 secs\n",
      "  solved keeper problem in 0.2 secs\n",
      "  solved adjuster problem in 0.0 secs\n",
      " t = 3 solved in 2.0 secs\n",
      "  w computed in 1.8 secs\n",
      "  solved keeper problem in 0.2 secs\n",
      "  solved adjuster problem in 0.0 secs\n",
      " t = 2 solved in 2.0 secs\n",
      "  w computed in 1.8 secs\n",
      "  solved keeper problem in 0.2 secs\n",
      "  solved adjuster problem in 0.0 secs\n",
      " t = 1 solved in 2.0 secs\n",
      "  w computed in 1.8 secs\n",
      "  solved keeper problem in 0.2 secs\n",
      "  solved adjuster problem in 0.0 secs\n",
      " t = 0 solved in 2.0 secs\n",
      "model simulated in 2.5 secs\n",
      "euler errors calculated in 0.0 secs\n",
      "utility calculated in 0.0 secs\n",
      "\n",
      "checksum, inv_w: 0.57343250\n",
      "checksum, q: 344.71418560\n",
      "checksum, c_keep: 1.63511554\n",
      "checksum, d_adj: 1.10605693\n",
      "checksum, c_adj: 1.64455179\n",
      "checksum, inv_v_keep: 0.33824474\n",
      "checksum, inv_v_adj: 0.34254278\n",
      "\n"
     ]
    }
   ],
   "source": [
    "model_cpp_noopt = DurableConsumptionModelClass(solmethod='negm_cpp',compiler='vs',do_simple_wq=True,**updpar)\n",
    "model_cpp_noopt.solve()\n",
    "model_cpp_noopt.simulate()\n",
    "model_cpp_noopt.checksum()"
   ]
  },
  {
   "cell_type": "markdown",
   "metadata": {},
   "source": [
    "## Python"
   ]
  },
  {
   "cell_type": "code",
   "execution_count": 5,
   "metadata": {},
   "outputs": [
    {
     "name": "stdout",
     "output_type": "stream",
     "text": [
      "numba precompiled in 8.8 secs\n",
      " t = 4 solved in 0.2 secs\n",
      "  w computed in 1.2 secs\n",
      "  solved keeper problem in 0.2 secs\n",
      "  solved adjuster problem in 0.2 secs\n",
      " t = 3 solved in 1.6 secs\n",
      "  w computed in 1.2 secs\n",
      "  solved keeper problem in 0.2 secs\n",
      "  solved adjuster problem in 0.2 secs\n",
      " t = 2 solved in 1.6 secs\n",
      "  w computed in 1.2 secs\n",
      "  solved keeper problem in 0.2 secs\n",
      "  solved adjuster problem in 0.2 secs\n",
      " t = 1 solved in 1.6 secs\n",
      "  w computed in 1.2 secs\n",
      "  solved keeper problem in 0.2 secs\n",
      "  solved adjuster problem in 0.2 secs\n",
      " t = 0 solved in 1.6 secs\n",
      "model simulated in 0.2 secs\n",
      "euler errors calculated in 0.0 secs\n",
      "utility calculated in 0.0 secs\n",
      "\n",
      "checksum, inv_w: 0.57343250\n",
      "checksum, q: 344.71418560\n",
      "checksum, c_keep: 1.63511554\n",
      "checksum, d_adj: 1.10605693\n",
      "checksum, c_adj: 1.64455179\n",
      "checksum, inv_v_keep: 0.33824474\n",
      "checksum, inv_v_adj: 0.34254278\n",
      "\n"
     ]
    }
   ],
   "source": [
    "model_python = DurableConsumptionModelClass(solmethod='negm',**updpar)\n",
    "model_python.precompile_numba()\n",
    "model_python.solve()\n",
    "model_python.simulate()\n",
    "model_python.checksum()"
   ]
  }
 ],
 "metadata": {
  "kernelspec": {
   "display_name": "Python 3",
   "language": "python",
   "name": "python3"
  },
  "language_info": {
   "codemirror_mode": {
    "name": "ipython",
    "version": 3
   },
   "file_extension": ".py",
   "mimetype": "text/x-python",
   "name": "python",
   "nbconvert_exporter": "python",
   "pygments_lexer": "ipython3",
   "version": "3.7.1"
  },
  "toc-autonumbering": true
 },
 "nbformat": 4,
 "nbformat_minor": 2
}
