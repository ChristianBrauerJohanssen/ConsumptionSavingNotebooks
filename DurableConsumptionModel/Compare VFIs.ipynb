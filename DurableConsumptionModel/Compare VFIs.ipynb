{
 "cells": [
  {
   "cell_type": "markdown",
   "metadata": {},
   "source": [
    "# Compare VFIs"
   ]
  },
  {
   "cell_type": "markdown",
   "metadata": {},
   "source": [
    "**vfi** and **vfi_cpp** should be exactly the same."
   ]
  },
  {
   "cell_type": "code",
   "execution_count": 1,
   "metadata": {},
   "outputs": [],
   "source": [
    "import time\n",
    "import numpy as np\n",
    "\n",
    "%matplotlib inline\n",
    "\n",
    "# reload module each time cell is run\n",
    "%load_ext autoreload\n",
    "%autoreload 2\n",
    "\n",
    "# numba setup\n",
    "from consav import runtools\n",
    "runtools.write_numba_config(disable=0,threads=72)\n",
    "\n",
    "# load the BufferStockModel module\n",
    "from DurableConsumptionModel import DurableConsumptionModelClass"
   ]
  },
  {
   "cell_type": "code",
   "execution_count": 2,
   "metadata": {
    "ExecuteTime": {
     "end_time": "2018-11-08T14:03:19.106844Z",
     "start_time": "2018-11-08T13:53:33.206656Z"
    },
    "scrolled": true
   },
   "outputs": [
    {
     "name": "stdout",
     "output_type": "stream",
     "text": [
      "vfi_cpp\n",
      "cpp files loaded\n",
      "cpp files loaded\n",
      "numba-analysis done in 7.4 secs\n",
      "cpp files loaded\n",
      " t = 2 solved in 0.0 secs\n",
      " t = 1 solved in 0.2 secs\n",
      " t = 0 solved in 0.1 secs\n",
      "\n",
      "checksum, inv_w: nan\n",
      "checksum, c_keep: 2.25608462\n",
      "checksum, d_adj: 1.42127337\n",
      "checksum, c_adj: 2.55857182\n",
      "checksum, inv_v_keep: 0.71678533\n",
      "checksum, inv_v_adj: 0.82027588\n",
      "\n",
      "vfi\n",
      "numba-analysis done in 3.7 secs\n",
      " t = 2 solved in 0.0 secs\n",
      " t = 1 solved in 4.9 secs\n",
      " t = 0 solved in 5.1 secs\n",
      "\n",
      "checksum, inv_w: nan\n",
      "checksum, c_keep: 2.25608462\n",
      "checksum, d_adj: 1.42127337\n",
      "checksum, c_adj: 2.55857182\n",
      "checksum, inv_v_keep: 0.71678533\n",
      "checksum, inv_v_adj: 0.82027588\n",
      "\n"
     ]
    }
   ],
   "source": [
    "# a. course grids\n",
    "updpar = dict()\n",
    "updpar['T'] = 3\n",
    "updpar['Np'] = 20\n",
    "updpar['Ndb'] = 30\n",
    "updpar['Nm'] = 50\n",
    "updpar['Nx'] = 50\n",
    "updpar['Na'] = 100\n",
    "updpar['Nc_keep'] = 20\n",
    "updpar['Nd_adj'] = 20\n",
    "updpar['Nc_adj'] = 20\n",
    "\n",
    "# b. solve\n",
    "models = dict()\n",
    "for solmethod in ['vfi_cpp','vfi']:\n",
    "    \n",
    "    print(solmethod)\n",
    "    model = DurableConsumptionModelClass(solmethod=solmethod,**updpar)\n",
    "    model.numba_analysis() # solve with very coarse grids\n",
    "    model.solve(compiler='intel')\n",
    "    model.checksum()\n",
    "    models[solmethod] = model"
   ]
  }
 ],
 "metadata": {
  "kernelspec": {
   "display_name": "Python 3",
   "language": "python",
   "name": "python3"
  },
  "language_info": {
   "codemirror_mode": {
    "name": "ipython",
    "version": 3
   },
   "file_extension": ".py",
   "mimetype": "text/x-python",
   "name": "python",
   "nbconvert_exporter": "python",
   "pygments_lexer": "ipython3",
   "version": "3.7.1"
  },
  "toc-autonumbering": false
 },
 "nbformat": 4,
 "nbformat_minor": 2
}
