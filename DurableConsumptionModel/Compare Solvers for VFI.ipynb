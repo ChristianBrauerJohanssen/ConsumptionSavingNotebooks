{
 "cells": [
  {
   "cell_type": "markdown",
   "metadata": {},
   "source": [
    "# Setup"
   ]
  },
  {
   "cell_type": "markdown",
   "metadata": {},
   "source": [
    "Settings:"
   ]
  },
  {
   "cell_type": "code",
   "execution_count": 1,
   "metadata": {},
   "outputs": [],
   "source": [
    "threads = 8\n",
    "\n",
    "updpar = dict()\n",
    "updpar['T'] =  3\n",
    "updpar['cppthreads'] = threads\n",
    "updpar['Npsi'] = 2 # to speed up\n",
    "updpar['Nxi'] = 2 # to speed up\n",
    "updpar['do_print'] = True\n",
    "\n",
    "# numba\n",
    "from consav import runtools\n",
    "runtools.write_numba_config(disable=0,threads=threads)"
   ]
  },
  {
   "cell_type": "markdown",
   "metadata": {},
   "source": [
    "Imports and magics:"
   ]
  },
  {
   "cell_type": "code",
   "execution_count": 2,
   "metadata": {},
   "outputs": [],
   "source": [
    "%matplotlib inline\n",
    "\n",
    "# reload module each time cell is run\n",
    "%load_ext autoreload\n",
    "%autoreload 2\n",
    "\n",
    "# load the BufferStockModel module\n",
    "from DurableConsumptionModel import DurableConsumptionModelClass"
   ]
  },
  {
   "cell_type": "markdown",
   "metadata": {},
   "source": [
    "# Compare Solvers"
   ]
  },
  {
   "cell_type": "markdown",
   "metadata": {},
   "source": [
    "## MMA"
   ]
  },
  {
   "cell_type": "code",
   "execution_count": 3,
   "metadata": {},
   "outputs": [
    {
     "name": "stdout",
     "output_type": "stream",
     "text": [
      "nlopt setup done\n",
      " t = 2 solved in 1.6 secs\n",
      "  w computed in 0.0 secs\n",
      "  solved keeper problem in 18.0 secs\n",
      "  solved adjuster problem in 0.6 secs\n",
      " t = 1 solved in 18.6 secs\n",
      "  w computed in 0.0 secs\n",
      "  solved keeper problem in 19.8 secs\n",
      "  solved adjuster problem in 0.6 secs\n",
      " t = 0 solved in 20.4 secs\n",
      "model simulated in 2.4 secs\n",
      "euler errors calculated in 0.0 secs\n",
      "utility calculated in 0.0 secs\n",
      "\n",
      "checksum, inv_w: nan\n",
      "checksum, q: nan\n",
      "checksum, c_keep: 2.07802611\n",
      "checksum, d_adj: 1.11677446\n",
      "checksum, c_adj: 2.10567827\n",
      "checksum, inv_v_keep: 0.66232090\n",
      "checksum, inv_marg_u_keep: 0.00000000\n",
      "checksum, inv_v_adj: 0.67727908\n",
      "checksum, inv_marg_u_adj: 0.00000000\n",
      "\n"
     ]
    }
   ],
   "source": [
    "model_cpp = DurableConsumptionModelClass(solmethod='vfi_cpp',compiler='vs',**updpar)\n",
    "model_cpp.solve()\n",
    "model_cpp.simulate()\n",
    "model_cpp.checksum()"
   ]
  },
  {
   "cell_type": "markdown",
   "metadata": {},
   "source": [
    "## GS"
   ]
  },
  {
   "cell_type": "code",
   "execution_count": 4,
   "metadata": {},
   "outputs": [
    {
     "name": "stdout",
     "output_type": "stream",
     "text": [
      " t = 2 solved in 1.6 secs\n",
      "  w computed in 0.0 secs\n",
      "  solved keeper problem in 27.7 secs\n",
      "  solved adjuster problem in 0.6 secs\n",
      " t = 1 solved in 28.3 secs\n",
      "  w computed in 0.0 secs\n",
      "  solved keeper problem in 27.3 secs\n",
      "  solved adjuster problem in 0.7 secs\n",
      " t = 0 solved in 28.0 secs\n",
      "model simulated in 2.4 secs\n",
      "euler errors calculated in 0.0 secs\n",
      "utility calculated in 0.0 secs\n",
      "\n",
      "checksum, inv_w: nan\n",
      "checksum, q: nan\n",
      "checksum, c_keep: 2.07799271\n",
      "checksum, d_adj: 1.11677439\n",
      "checksum, c_adj: 2.10567804\n",
      "checksum, inv_v_keep: 0.66232098\n",
      "checksum, inv_marg_u_keep: 0.00000000\n",
      "checksum, inv_v_adj: 0.67727908\n",
      "checksum, inv_marg_u_adj: 0.00000000\n",
      "\n"
     ]
    }
   ],
   "source": [
    "model_cpp_noopt = DurableConsumptionModelClass(solmethod='vfi_cpp',compiler='vs',use_gs_in_vfi=True,**updpar)\n",
    "model_cpp_noopt.solve()\n",
    "model_cpp_noopt.simulate()\n",
    "model_cpp_noopt.checksum()"
   ]
  }
 ],
 "metadata": {
  "kernelspec": {
   "display_name": "Python 3",
   "language": "python",
   "name": "python3"
  },
  "language_info": {
   "codemirror_mode": {
    "name": "ipython",
    "version": 3
   },
   "file_extension": ".py",
   "mimetype": "text/x-python",
   "name": "python",
   "nbconvert_exporter": "python",
   "pygments_lexer": "ipython3",
   "version": "3.7.1"
  },
  "toc-autonumbering": true
 },
 "nbformat": 4,
 "nbformat_minor": 2
}
