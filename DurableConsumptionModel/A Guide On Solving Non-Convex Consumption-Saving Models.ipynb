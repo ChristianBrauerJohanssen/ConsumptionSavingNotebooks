{
 "cells": [
  {
   "cell_type": "markdown",
   "metadata": {},
   "source": [
    "# A Guide On Solving Non-Convex Consumption-Saving Models"
   ]
  },
  {
   "cell_type": "markdown",
   "metadata": {},
   "source": [
    "This notebook produces the timing and accuracy results for the benchmark model in [A Guide to Solve Non-Convex Consumption-Saving Models](https://drive.google.com/open?id=1V15dwMIrl_TJGoqu7qauhVWcDm0yqb-D)."
   ]
  },
  {
   "cell_type": "markdown",
   "metadata": {},
   "source": [
    "# Setup"
   ]
  },
  {
   "cell_type": "code",
   "execution_count": null,
   "metadata": {},
   "outputs": [],
   "source": [
    "from consav import runtools\n",
    "runtools.write_numba_config(disable=0,threads=8)"
   ]
  },
  {
   "cell_type": "code",
   "execution_count": null,
   "metadata": {
    "ExecuteTime": {
     "end_time": "2018-11-08T13:53:33.198160Z",
     "start_time": "2018-11-08T13:53:30.205530Z"
    },
    "code_folding": [
     0
    ],
    "scrolled": true
   },
   "outputs": [],
   "source": [
    "import time\n",
    "import itertools as it\n",
    "import numpy as np\n",
    "from copy import copy\n",
    "\n",
    "%matplotlib inline\n",
    "\n",
    "# reload module each time cell is run\n",
    "%load_ext autoreload\n",
    "%autoreload 2\n",
    "\n",
    "# load the DurableConsumptionModel module\n",
    "from DurableConsumptionModel import DurableConsumptionModelClass"
   ]
  },
  {
   "cell_type": "markdown",
   "metadata": {},
   "source": [
    "# Timing function"
   ]
  },
  {
   "cell_type": "code",
   "execution_count": null,
   "metadata": {},
   "outputs": [],
   "source": [
    "def run(name = 'baseline',\n",
    "        rep = 5\n",
    "        load = False,\n",
    "        solmethod = 'negm_cpp',\n",
    "        updpar = {},\n",
    "        do_simple_wq = False,\n",
    "        do_print = False):\n",
    "    \n",
    "    # a. create model\n",
    "    model = DurableConsumptionModelClass(name=name,load=load,solmethod=solmethod,\n",
    "                                         do_print=do_print,do_simple_wq=do_simple_wq,**updpar)\n",
    "    \n",
    "    # b. run\n",
    "    if load == False:\n",
    "        \n",
    "        # i. precompile\n",
    "        if solmethod not in ['vfi_cpp','nvfi_cpp','negm_cpp']:\n",
    "            model.precompile_numba()        \n",
    "        \n",
    "        # ii. best of three\n",
    "        best_time = np.inf\n",
    "        for it in range(rep):\n",
    "            \n",
    "            model.solve()\n",
    "            total_time = np.sum(model.par.time_w+model.par.time_keep+model.par.time_adj)\n",
    "            \n",
    "            if total_time < best_time:\n",
    "            \n",
    "                best_time = total_time\n",
    "                time_w = model.par.time_w.copy()\n",
    "                time_keep = model.par.time_keep.copy()\n",
    "                time_adj= model.par.time_adj.copy()\n",
    "            \n",
    "            print(f'{it}: total time = {total_time:.2f}')\n",
    "                \n",
    "        # iii. collect infomation\n",
    "        model.simulate(do_euler_error=True,do_utility=True)\n",
    "        model.par.time_w = time_w.copy()\n",
    "        model.par.time_keep = time_keep.copy()\n",
    "        model.par.time_adj= time_adj.copy()\n",
    "        model.save()    \n",
    "\n",
    "    # c. print progress\n",
    "    print('')    \n",
    "    model.print_analysis()        \n",
    "    model.checksum(simple=True)\n",
    "    print('')\n",
    "    \n",
    "    return model"
   ]
  },
  {
   "cell_type": "markdown",
   "metadata": {},
   "source": [
    "# Settings"
   ]
  },
  {
   "cell_type": "code",
   "execution_count": null,
   "metadata": {},
   "outputs": [],
   "source": [
    "load = False\n",
    "load_negm = load\n",
    "load_negm_cpp = load\n",
    "load_negm_cpp_simple = load\n",
    "load_nvfi = load\n",
    "load_nvfi_cpp = load\n",
    "load_nvfi_cpp_simple = load\n",
    "load_vfi = load\n",
    "load_vfi_cpp = load\n",
    "\n",
    "T = 50\n",
    "models = dict()\n",
    "\n",
    "# baseline\n",
    "basename = 'results'\n",
    "base = dict()\n",
    "base['Np'] = 150\n",
    "base['Nn'] = 150\n",
    "base['Nm'] = 300\n",
    "base['Nx'] = 300\n",
    "base['Na'] = 300\n",
    "base['T'] = T"
   ]
  },
  {
   "cell_type": "markdown",
   "metadata": {},
   "source": [
    "# Timings"
   ]
  },
  {
   "cell_type": "code",
   "execution_count": null,
   "metadata": {},
   "outputs": [],
   "source": [
    "models['negm_cpp'] = run(name=f'{basename}',load=load_negm_cpp,solmethod='negm_cpp',updpar=base)\n",
    "models['negm_cpp_simple'] = run(name=f'{basename}_simple',load=load_negm_cpp_simple,solmethod='negm_cpp',do_simple_wq=True,updpar=base)\n",
    "models['negm'] = run(name=f'{basename}',load=load_negm,solmethod='negm',updpar=base)\n",
    "\n",
    "models['nvfi_cpp'] = run(name=f'{basename}',load=load_nvfi_cpp,solmethod='nvfi_cpp',updpar=base)\n",
    "models['nvfi_cpp_simple'] = run(name=f'{basename}_simple',load=load_nvfi_cpp_simple,solmethod='nvfi_cpp',do_simple_wq=True,updpar=base)\n",
    "models['nvfi'] = run(name=f'{basename}',load=load_nvfi,solmethod='nvfi',updpar=base)\n",
    "\n",
    "models['vfi_cpp'] = run(name=f'{basename}',load=load_vfi_cpp,solmethod='vfi_cpp',updpar=base)"
   ]
  },
  {
   "cell_type": "markdown",
   "metadata": {},
   "source": [
    "# Tables"
   ]
  },
  {
   "cell_type": "code",
   "execution_count": null,
   "metadata": {},
   "outputs": [],
   "source": [
    "import tabs"
   ]
  },
  {
   "cell_type": "code",
   "execution_count": null,
   "metadata": {},
   "outputs": [],
   "source": [
    "main_models = [models['vfi_cpp'],models['nvfi_cpp_simple'],models['negm_cpp_simple'],models['nvfi_cpp'],models['negm_cpp']]\n",
    "tabs.all(main_models,speedup=True)"
   ]
  },
  {
   "cell_type": "code",
   "execution_count": null,
   "metadata": {},
   "outputs": [],
   "source": [
    "main_models = [models['nvfi_cpp'],models['nvfi'],models['negm_cpp'],models['negm']]\n",
    "tabs.all(main_models,postfix='_python')"
   ]
  },
  {
   "cell_type": "markdown",
   "metadata": {},
   "source": [
    "# Figures"
   ]
  },
  {
   "cell_type": "code",
   "execution_count": null,
   "metadata": {},
   "outputs": [],
   "source": [
    "models['negm_cpp'].lifecycle()"
   ]
  },
  {
   "cell_type": "code",
   "execution_count": null,
   "metadata": {},
   "outputs": [],
   "source": [
    "from figs import lifecycle_compare\n",
    "lifecycle_compare(models['negm_cpp'],'NEGM',models['nvfi_cpp'],'NVFI',do_euler_errors=True)"
   ]
  },
  {
   "cell_type": "code",
   "execution_count": null,
   "metadata": {},
   "outputs": [],
   "source": [
    "lifecycle_compare(models['negm_cpp'],'NEGM',models['vfi_cpp'],'VFI',do_euler_errors=True)"
   ]
  },
  {
   "cell_type": "code",
   "execution_count": null,
   "metadata": {},
   "outputs": [],
   "source": [
    "lifecycle_compare(models['negm_cpp'],'NEGM, C++',models['negm'],'NEGM, Python',do_euler_errors=True)"
   ]
  }
 ],
 "metadata": {
  "kernelspec": {
   "display_name": "Python 3",
   "language": "python",
   "name": "python3"
  },
  "language_info": {
   "codemirror_mode": {
    "name": "ipython",
    "version": 3
   },
   "file_extension": ".py",
   "mimetype": "text/x-python",
   "name": "python",
   "nbconvert_exporter": "python",
   "pygments_lexer": "ipython3",
   "version": "3.7.4"
  },
  "toc-autonumbering": true
 },
 "nbformat": 4,
 "nbformat_minor": 4
}
