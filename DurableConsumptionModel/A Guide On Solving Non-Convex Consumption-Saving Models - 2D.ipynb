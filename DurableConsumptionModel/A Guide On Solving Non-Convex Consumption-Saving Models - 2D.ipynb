{
 "cells": [
  {
   "cell_type": "markdown",
   "metadata": {},
   "source": [
    "# A Guide On Solving Non-Convex Consumption-Saving Models - 2D"
   ]
  },
  {
   "cell_type": "markdown",
   "metadata": {},
   "source": [
    "This notebook produces the timing and accuracy results for the *extended* benchmark model *with two durable stocks* in [A Guide to Solve Non-Convex Consumption-Saving Models](https://drive.google.com/open?id=1V15dwMIrl_TJGoqu7qauhVWcDm0yqb-D)."
   ]
  },
  {
   "cell_type": "markdown",
   "metadata": {},
   "source": [
    "# Setup"
   ]
  },
  {
   "cell_type": "code",
   "execution_count": null,
   "metadata": {},
   "outputs": [],
   "source": [
    "from consav import runtools\n",
    "runtools.write_numba_config(disable=0,threads=8)"
   ]
  },
  {
   "cell_type": "code",
   "execution_count": null,
   "metadata": {
    "ExecuteTime": {
     "end_time": "2018-11-08T13:53:33.198160Z",
     "start_time": "2018-11-08T13:53:30.205530Z"
    },
    "code_folding": [
     0
    ],
    "scrolled": true
   },
   "outputs": [],
   "source": [
    "import time\n",
    "import itertools as it\n",
    "import numpy as np\n",
    "from copy import copy\n",
    "\n",
    "%matplotlib inline\n",
    "\n",
    "# reload module each time cell is run\n",
    "%load_ext autoreload\n",
    "%autoreload 2\n",
    "\n",
    "# load the DurableConsumptionModel module\n",
    "from DurableConsumptionModel import DurableConsumptionModelClass"
   ]
  },
  {
   "cell_type": "markdown",
   "metadata": {},
   "source": [
    "# Timing function"
   ]
  },
  {
   "cell_type": "code",
   "execution_count": null,
   "metadata": {},
   "outputs": [],
   "source": [
    "def run(name = 'baseline',\n",
    "        load = False,\n",
    "        solmethod = 'nvfi_cpp_2d',\n",
    "        updpar = {},\n",
    "        do_print = False):\n",
    "    \n",
    "    # a. create model\n",
    "    model = DurableConsumptionModelClass(name=name,load=load,solmethod=solmethod,\n",
    "                                         do_print=do_print,**updpar)\n",
    "\n",
    "    # b. run\n",
    "    if load == False:\n",
    "              \n",
    "        # i. solve\n",
    "        model.solve()        \n",
    "        \n",
    "        total_time = np.sum(model.par.time_w+model.par.time_keep+model.par.time_adj)\n",
    "        print(f'total time = {total_time:.2f}')\n",
    "                \n",
    "        # ii. simulate\n",
    "        model.simulate(do_euler_error=True,do_utility=True)\n",
    "    \n",
    "        # iii. save\n",
    "        model.save()\n",
    "\n",
    "    # c. print progress\n",
    "    print('')    \n",
    "    model.print_analysis()        \n",
    "    model.checksum(simple=True)\n",
    "    print('')\n",
    "    \n",
    "    return model"
   ]
  },
  {
   "cell_type": "markdown",
   "metadata": {},
   "source": [
    "# Settings"
   ]
  },
  {
   "cell_type": "code",
   "execution_count": null,
   "metadata": {},
   "outputs": [],
   "source": [
    "load = False\n",
    "load_negm_cpp_2d = load\n",
    "load_nvfi_cpp_2d = load\n",
    "load_vfi_cpp_2d = load\n",
    "\n",
    "T = 50\n",
    "models = dict()\n",
    "\n",
    "# baseline\n",
    "basename = 'results'\n",
    "base = dict()\n",
    "base['do_2d'] = True\n",
    "base['n_max'] = 2.0\n",
    "base['Np'] = 50\n",
    "base['Nn'] = 50\n",
    "base['Nm'] = 100\n",
    "base['Nx'] = 100\n",
    "base['Na'] = 100\n",
    "base['T'] = T"
   ]
  },
  {
   "cell_type": "markdown",
   "metadata": {},
   "source": [
    "# Timings"
   ]
  },
  {
   "cell_type": "code",
   "execution_count": null,
   "metadata": {},
   "outputs": [],
   "source": [
    "models['negm_2d_cpp'] = run(name=f'{basename}',load=load_negm_cpp_2d,solmethod='negm_2d_cpp',updpar=base)\n",
    "models['nvfi_2d_cpp'] = run(name=f'{basename}',load=load_nvfi_cpp_2d,solmethod='nvfi_2d_cpp',updpar=base)\n",
    "models['vfi_2d_cpp'] = run(name=f'{basename}',load=load_vfi_cpp_2d,solmethod='vfi_2d_cpp',updpar=base)"
   ]
  },
  {
   "cell_type": "markdown",
   "metadata": {},
   "source": [
    "# Tables"
   ]
  },
  {
   "cell_type": "code",
   "execution_count": null,
   "metadata": {},
   "outputs": [],
   "source": [
    "import tabs"
   ]
  },
  {
   "cell_type": "code",
   "execution_count": null,
   "metadata": {},
   "outputs": [],
   "source": [
    "main_models = [models['vfi_2d_cpp'],models['nvfi_2d_cpp'],models['negm_2d_cpp']]\n",
    "tabs.all(main_models,speedup=True,postfix='_2d')"
   ]
  },
  {
   "cell_type": "markdown",
   "metadata": {},
   "source": [
    "# Figures"
   ]
  },
  {
   "cell_type": "code",
   "execution_count": null,
   "metadata": {},
   "outputs": [],
   "source": [
    "from figs import lifecycle_compare"
   ]
  },
  {
   "cell_type": "code",
   "execution_count": null,
   "metadata": {},
   "outputs": [],
   "source": [
    "lifecycle_compare(models['negm_2d_cpp'],'NEGM',models['nvfi_2d_cpp'],'NVFI',do_euler_errors=True)"
   ]
  },
  {
   "cell_type": "code",
   "execution_count": null,
   "metadata": {},
   "outputs": [],
   "source": [
    "lifecycle_compare(models['negm_2d_cpp'],'NEGM',models['vfi_2d_cpp'],'VFI',do_euler_errors=True)"
   ]
  }
 ],
 "metadata": {
  "kernelspec": {
   "display_name": "Python 3",
   "language": "python",
   "name": "python3"
  },
  "language_info": {
   "codemirror_mode": {
    "name": "ipython",
    "version": 3
   },
   "file_extension": ".py",
   "mimetype": "text/x-python",
   "name": "python",
   "nbconvert_exporter": "python",
   "pygments_lexer": "ipython3",
   "version": "3.7.4"
  }
 },
 "nbformat": 4,
 "nbformat_minor": 4
}
