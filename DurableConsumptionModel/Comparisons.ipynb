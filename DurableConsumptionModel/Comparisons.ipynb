{
 "cells": [
  {
   "cell_type": "markdown",
   "metadata": {},
   "source": [
    "# Compare with VFI"
   ]
  },
  {
   "cell_type": "code",
   "execution_count": 1,
   "metadata": {},
   "outputs": [],
   "source": [
    "import time\n",
    "import numpy as np\n",
    "\n",
    "%matplotlib inline\n",
    "\n",
    "# reload module each time cell is run\n",
    "%load_ext autoreload\n",
    "%autoreload 2\n",
    "\n",
    "# numba setup\n",
    "from consav import runtools\n",
    "runtools.write_numba_config(disable=0,threads=72)\n",
    "\n",
    "# load the BufferStockModel module\n",
    "from DurableConsumptionModel import DurableConsumptionModelClass"
   ]
  },
  {
   "cell_type": "code",
   "execution_count": 2,
   "metadata": {},
   "outputs": [
    {
     "name": "stdout",
     "output_type": "stream",
     "text": [
      "negm\n",
      "\n",
      "checksum, inv_w: 0.52889037\n",
      "checksum, c_keep: 1.59263936\n",
      "checksum, d_adj: 1.15212419\n",
      "checksum, c_adj: 1.69924641\n",
      "checksum, inv_v_keep: 0.33166652\n",
      "checksum, inv_v_adj: 0.35600110\n",
      "\n",
      "vfi_cpp\n",
      "cpp files loaded\n",
      "cpp files loaded\n",
      "numba-analysis done in 7.9 secs\n",
      "cpp files loaded\n",
      " t = 1 solved in 0.8 secs\n",
      " t = 0 solved in 1715.1 secs\n",
      "\n",
      "checksum, inv_w: nan\n",
      "checksum, c_keep: 2.58320326\n",
      "checksum, d_adj: 1.24384817\n",
      "checksum, c_adj: 2.86119727\n",
      "checksum, inv_v_keep: 1.16434984\n",
      "checksum, inv_v_adj: 1.30437264\n",
      "\n"
     ]
    }
   ],
   "source": [
    "models = dict()\n",
    "for solmethod,load in [('negm',False),('vfi_cpp',True)]:\n",
    "    \n",
    "    print(solmethod)\n",
    "    model = DurableConsumptionModelClass(name='compare',load=load,solmethod=solmethod,T=2)\n",
    "    if not load:\n",
    "        model.numba_analysis() # solve with very coarse grids\n",
    "        model.solve(compiler='intel')\n",
    "        model.save()\n",
    "    model.checksum()\n",
    "    models[solmethod] = model"
   ]
  }
 ],
 "metadata": {
  "kernelspec": {
   "display_name": "Python 3",
   "language": "python",
   "name": "python3"
  },
  "language_info": {
   "codemirror_mode": {
    "name": "ipython",
    "version": 3
   },
   "file_extension": ".py",
   "mimetype": "text/x-python",
   "name": "python",
   "nbconvert_exporter": "python",
   "pygments_lexer": "ipython3",
   "version": "3.7.1"
  },
  "latex_envs": {
   "LaTeX_envs_menu_present": true,
   "autocomplete": true,
   "bibliofile": "biblio.bib",
   "cite_by": "apalike",
   "current_citInitial": 1,
   "eqLabelWithNumbers": true,
   "eqNumInitial": 1,
   "hotkeys": {
    "equation": "Ctrl-E",
    "itemize": "Ctrl-I"
   },
   "labels_anchors": false,
   "latex_user_defs": false,
   "report_style_numbering": false,
   "user_envs_cfg": false
  },
  "toc": {
   "base_numbering": 1,
   "nav_menu": {},
   "number_sections": true,
   "sideBar": false,
   "skip_h1_title": false,
   "title_cell": "Table of Contents",
   "title_sidebar": "Contents",
   "toc_cell": true,
   "toc_position": {},
   "toc_section_display": true,
   "toc_window_display": false
  },
  "toc-autonumbering": false,
  "varInspector": {
   "cols": {
    "lenName": 16,
    "lenType": 16,
    "lenVar": 40
   },
   "kernels_config": {
    "python": {
     "delete_cmd_postfix": "",
     "delete_cmd_prefix": "del ",
     "library": "var_list.py",
     "varRefreshCmd": "print(var_dic_list())"
    },
    "r": {
     "delete_cmd_postfix": ") ",
     "delete_cmd_prefix": "rm(",
     "library": "var_list.r",
     "varRefreshCmd": "cat(var_dic_list()) "
    }
   },
   "oldHeight": 267,
   "position": {
    "height": "40px",
    "left": "1542.33px",
    "right": "20px",
    "top": "133px",
    "width": "328px"
   },
   "types_to_exclude": [
    "module",
    "function",
    "builtin_function_or_method",
    "instance",
    "_Feature"
   ],
   "varInspector_section_display": "none",
   "window_display": true
  }
 },
 "nbformat": 4,
 "nbformat_minor": 2
}
