{
 "cells": [
  {
   "cell_type": "markdown",
   "metadata": {},
   "source": [
    "# A General Equilibrium Model"
   ]
  },
  {
   "cell_type": "markdown",
   "metadata": {},
   "source": [
    "# Setup"
   ]
  },
  {
   "cell_type": "code",
   "execution_count": 1,
   "metadata": {},
   "outputs": [],
   "source": [
    "%matplotlib inline\n",
    "%load_ext autoreload\n",
    "%autoreload 2\n",
    "\n",
    "import time\n",
    "import numpy as np\n",
    "from scipy import optimize\n",
    "\n",
    "import matplotlib.pyplot as plt\n",
    "plt.style.use('seaborn-whitegrid')\n",
    "prop_cycle = plt.rcParams['axes.prop_cycle']\n",
    "colors = prop_cycle.by_key()['color']\n",
    "\n",
    "from GEModel import GEModelClass"
   ]
  },
  {
   "cell_type": "code",
   "execution_count": 2,
   "metadata": {},
   "outputs": [
    {
     "name": "stdout",
     "output_type": "stream",
     "text": [
      "Modelclass: GEModelClass\n",
      "\n",
      "Parameters:\n",
      " r_ss = nan [float64]\n",
      " w_ss = nan [float64]\n",
      " Y_ss = nan [float64]\n",
      " C_ss = nan [float64]\n",
      " kd_ss = nan [float64]\n",
      " ks_ss = nan [float64]\n",
      " sigma = 1.0 [float64]\n",
      " beta = 0.982 [float64]\n",
      " Z = 1.0 [float64]\n",
      " alpha = 0.11 [float64]\n",
      " delta = 0.025 [float64]\n",
      " rho = 0.966 [float64]\n",
      " sigma_e = 0.5 [float64]\n",
      " Ne = 7 [int64]\n",
      " a_max = 200.0 [float64]\n",
      " Na = 500 [int64]\n",
      " tp_T = 500 [int64]\n",
      " max_iter_solve = 5000 [int64]\n",
      " max_iter_simulate = 5000 [int64]\n",
      " solve_tol = 1e-10 [float64]\n",
      " simulate_tol = 1e-10 [float64]\n",
      " a_grid = array(float64, 1d, C) with shape = (500,)\n",
      " e_grid = array(float64, 1d, C) with shape = (7,)\n",
      " e_trans = array(float64, 2d, C) with shape = (7, 7)\n",
      " e_ergodic = array(float64, 1d, C) with shape = (7,)\n",
      "memory, gb: 0.0\n",
      "\n",
      "Solution:\n",
      " a = array(float64, 2d, C) with shape = (7, 500)\n",
      " m = array(float64, 2d, C) with shape = (7, 500)\n",
      " c = array(float64, 2d, C) with shape = (7, 500)\n",
      " Va = array(float64, 2d, C) with shape = (7, 500)\n",
      " tp_a = array(float64, 3d, C) with shape = (500, 7, 500)\n",
      " tp_m = array(float64, 3d, C) with shape = (500, 7, 500)\n",
      " tp_c = array(float64, 3d, C) with shape = (500, 7, 500)\n",
      " tp_Va = array(float64, 3d, C) with shape = (500, 7, 500)\n",
      "memory, gb: 0.1\n",
      "\n",
      "Simulation:\n",
      " i = array(int64, 2d, C) with shape = (7, 500)\n",
      " w = array(float64, 2d, C) with shape = (7, 500)\n",
      " D = array(float64, 2d, C) with shape = (7, 500)\n",
      " tp_i = array(int64, 3d, C) with shape = (500, 7, 500)\n",
      " tp_w = array(float64, 3d, C) with shape = (500, 7, 500)\n",
      " tp_D = array(float64, 3d, C) with shape = (500, 7, 500)\n",
      "memory, gb: 0.0\n",
      "\n"
     ]
    }
   ],
   "source": [
    "model = GEModelClass('baseline')\n",
    "print(model)"
   ]
  },
  {
   "cell_type": "markdown",
   "metadata": {},
   "source": [
    "**Productivity states:**"
   ]
  },
  {
   "cell_type": "code",
   "execution_count": 3,
   "metadata": {},
   "outputs": [
    {
     "name": "stdout",
     "output_type": "stream",
     "text": [
      "Pr[e = 0.2595] = 0.0156\n",
      "Pr[e = 0.3904] = 0.0938\n",
      "Pr[e = 0.5872] = 0.2344\n",
      "Pr[e = 0.8833] = 0.3125\n",
      "Pr[e = 1.3286] = 0.2344\n",
      "Pr[e = 1.9984] = 0.0937\n",
      "Pr[e = 3.0060] = 0.0156\n"
     ]
    }
   ],
   "source": [
    "par = model.par\n",
    "for e,pr_e in zip(par.e_grid,par.e_ergodic):\n",
    "    print(f'Pr[e = {e:.4f}] = {pr_e:.4f}')\n",
    "    \n",
    "assert np.isclose(np.sum(par.e_grid*par.e_ergodic),1.0)"
   ]
  },
  {
   "cell_type": "markdown",
   "metadata": {},
   "source": [
    "# Find Steady State"
   ]
  },
  {
   "cell_type": "markdown",
   "metadata": {},
   "source": [
    "**Step 1:** Find demand and supply of capital for a grid of interest rates."
   ]
  },
  {
   "cell_type": "code",
   "execution_count": 4,
   "metadata": {},
   "outputs": [],
   "source": [
    "par = model.par\n",
    "\n",
    "# a. interest rate trial values\n",
    "Nr = 50\n",
    "r_vec = np.linspace(0.0025,1.0/par.beta-1-0.0025,Nr) # 1+r > beta not possible\n",
    "\n",
    "# b. allocate\n",
    "Ks = np.zeros(Nr) \n",
    "Kd = np.zeros(Nr)\n",
    "\n",
    "# c. loop\n",
    "r_min = r_vec[0]\n",
    "r_max = r_vec[Nr-1]\n",
    "for i_r in range(Nr):\n",
    "    \n",
    "    # i. firm side\n",
    "    k = model.firm_demand(r_vec[i_r])\n",
    "    Kd[i_r] = k*1\n",
    "    \n",
    "    # ii. household side\n",
    "    try:\n",
    "        \n",
    "        # solve and simulate\n",
    "        model.solve_household_ss(r=r_vec[i_r])\n",
    "        model.simulate_household_ss()\n",
    "        \n",
    "        # total demand\n",
    "        Ks[i_r] = np.sum(model.sim.D*model.sol.a)\n",
    "        \n",
    "        # bounds on r\n",
    "        diff = Ks[i_r]-Kd[i_r]\n",
    "        if diff < 0: r_min = np.fmax(r_min,r_vec[i_r])\n",
    "        if diff > 0: r_max = np.fmin(r_max,r_vec[i_r])\n",
    "            \n",
    "    except:\n",
    "        \n",
    "        Ks[i_r] = np.nan  \n",
    "        "
   ]
  },
  {
   "cell_type": "markdown",
   "metadata": {},
   "source": [
    "**Step 2:** Plot supply and demand."
   ]
  },
  {
   "cell_type": "code",
   "execution_count": 5,
   "metadata": {},
   "outputs": [
    {
     "data": {
      "image/png": "[encoded data removed]",
      "text/plain": [
       "<Figure size 600x400 with 1 Axes>"
      ]
     },
     "metadata": {
      "needs_background": "light"
     },
     "output_type": "display_data"
    }
   ],
   "source": [
    "par = model.par\n",
    "\n",
    "fig = plt.figure(figsize=(6,4),dpi=100)\n",
    "ax = fig.add_subplot(1,1,1)\n",
    "\n",
    "ax.plot(r_vec,Ks,label='supply of capital')\n",
    "ax.plot(r_vec,Kd,label='demand for capital')\n",
    "\n",
    "ax.axvline(r_min,lw=0.5,ls='--',color='black')\n",
    "ax.axvline(r_max,lw=0.5,ls='--',color='black')\n",
    "\n",
    "ax.legend(frameon=True)\n",
    "ax.set_xlabel('interest rate, $r$')\n",
    "ax.set_ylabel('capital, $K_t$');"
   ]
  },
  {
   "cell_type": "markdown",
   "metadata": {},
   "source": [
    "**Step 3:** Solve root-finding problem."
   ]
  },
  {
   "cell_type": "code",
   "execution_count": 6,
   "metadata": {},
   "outputs": [],
   "source": [
    "def obj(r,model):\n",
    "    \n",
    "    model.solve_household_ss(r=r)\n",
    "    model.simulate_household_ss()\n",
    "    return np.sum(model.sim.D*model.sol.a)-model.firm_demand(r)\n",
    "\n",
    "sol = optimize.root_scalar(obj,bracket=[r_min,r_max],method='bisect',args=(model,))\n",
    "assert sol.converged"
   ]
  },
  {
   "cell_type": "markdown",
   "metadata": {},
   "source": [
    "**Step 4:** Check market clearing conditions."
   ]
  },
  {
   "cell_type": "code",
   "execution_count": 7,
   "metadata": {},
   "outputs": [
    {
     "name": "stdout",
     "output_type": "stream",
     "text": [
      "household problem solved in 0.1 secs [554 iterations]\n",
      "household problem simulated in 0.0 secs [708 iterations]\n",
      "\n",
      "r: 0.0100\n",
      "w: 1.0255\n",
      "Y: 1.1522\n",
      "K/Y: 3.1466\n",
      "\n",
      "capital market clearing:  -0.00000000\n",
      "goods market clearing:  -0.00000000\n"
     ]
    }
   ],
   "source": [
    "model.steady_state(sol.root)"
   ]
  },
  {
   "cell_type": "markdown",
   "metadata": {},
   "source": [
    "## Income uncertainty and the equilibrium interest rate"
   ]
  },
  {
   "cell_type": "markdown",
   "metadata": {},
   "source": [
    "The equlibrium interest rate is increased towards $1/\\beta-1$ when income uncertainty is removed."
   ]
  },
  {
   "cell_type": "code",
   "execution_count": 8,
   "metadata": {},
   "outputs": [
    {
     "name": "stdout",
     "output_type": "stream",
     "text": [
      "sigma_e = 0.4000 -> r_ss in [0.0116,0.0125] -> 0.0124\n",
      "household problem solved in 0.1 secs [638 iterations]\n",
      "household problem simulated in 0.0 secs [893 iterations]\n",
      "\n",
      "r: 0.0124\n",
      "w: 1.0170\n",
      "Y: 1.1427\n",
      "K/Y: 2.9424\n",
      "\n",
      "capital market clearing:   0.00000000\n",
      "goods market clearing:  -0.00000000\n",
      "\n",
      "\n",
      "sigma_e = 0.3000 -> r_ss in [0.0142,0.0148] -> 0.0146\n",
      "household problem solved in 0.2 secs [765 iterations]\n",
      "household problem simulated in 0.1 secs [1237 iterations]\n",
      "\n",
      "r: 0.0146\n",
      "w: 1.0099\n",
      "Y: 1.1347\n",
      "K/Y: 2.7799\n",
      "\n",
      "capital market clearing:   0.00000000\n",
      "goods market clearing:  -0.00000001\n",
      "\n",
      "\n",
      "sigma_e = 0.2000 -> r_ss in [0.0161,0.0164] -> 0.0164\n",
      "household problem solved in 0.2 secs [937 iterations]\n",
      "household problem simulated in 0.1 secs [2067 iterations]\n",
      "\n",
      "r: 0.0164\n",
      "w: 1.0042\n",
      "Y: 1.1284\n",
      "K/Y: 2.6568\n",
      "\n",
      "capital market clearing:   0.00000000\n",
      "goods market clearing:  -0.00000001\n",
      "\n",
      "\n"
     ]
    }
   ],
   "source": [
    "par = model.par\n",
    "\n",
    "# a. seetings\n",
    "sigma_e_vec = [0.40,0.30,0.20]\n",
    "\n",
    "# b. find equilibrium rates\n",
    "r_max_ = 1.0/par.beta-1\n",
    "model_ = model.copy()\n",
    "for sigma_e in sigma_e_vec:\n",
    "    \n",
    "    # i. set new parameter\n",
    "    model_.par.sigma_e = sigma_e\n",
    "    \n",
    "    # ii. find bracket\n",
    "    r_max = model_.par.r_ss\n",
    "    dr = (r_max_-r_max)/10\n",
    "    while True:\n",
    "        r_max += dr\n",
    "        model_.solve_household_ss(r=r_max)\n",
    "        model_.simulate_household_ss()\n",
    "        diff = np.sum(model_.sim.D*model_.sol.a)-model_.firm_demand(r=r_max)\n",
    "        if diff > 0:            \n",
    "            break\n",
    "                        \n",
    "    # ii. solve\n",
    "    print(f'sigma_e = {sigma_e:.4f} -> r_ss in [{r_max-dr:.4f},{r_max:.4f}]',end='')\n",
    "    sol = optimize.root_scalar(obj,bracket=[r_max-dr,r_max],method='bisect',args=(model_,))\n",
    "    print(f' -> {sol.root:.4f}')\n",
    "    model_.steady_state(sol.root)    \n",
    "    print('\\n')"
   ]
  },
  {
   "cell_type": "markdown",
   "metadata": {},
   "source": [
    "# Transition path"
   ]
  },
  {
   "cell_type": "markdown",
   "metadata": {},
   "source": [
    "**MIT-shock:** Transtion path for arbitrary exogenous path of $Z_t$."
   ]
  },
  {
   "cell_type": "code",
   "execution_count": 9,
   "metadata": {},
   "outputs": [],
   "source": [
    "shock = 1.05\n",
    "persistence = 0.9"
   ]
  },
  {
   "cell_type": "code",
   "execution_count": 10,
   "metadata": {},
   "outputs": [],
   "source": [
    "tp_Z = np.ones(par.tp_T)\n",
    "tp_Z[0] = shock*par.Z\n",
    "for t in range(1,par.tp_T):\n",
    "    tp_Z[t] = persistence*tp_Z[t-1] + (1-persistence)*par.Z"
   ]
  },
  {
   "cell_type": "markdown",
   "metadata": {},
   "source": [
    "**Find transition path with relaxation algorithm:**"
   ]
  },
  {
   "cell_type": "code",
   "execution_count": 11,
   "metadata": {},
   "outputs": [
    {
     "name": "stdout",
     "output_type": "stream",
     "text": [
      "   0: 0.00174795\n",
      "  10: 0.00060947\n",
      "  20: 0.00021251\n",
      "  30: 0.00007410\n",
      "  40: 0.00002584\n",
      "  50: 0.00000901\n",
      "  60: 0.00000314\n",
      "  70: 0.00000110\n",
      "  80: 0.00000038\n",
      "  90: 0.00000013\n",
      " 100: 0.00000005\n",
      " 110: 0.00000002\n"
     ]
    }
   ],
   "source": [
    "# a. allocate\n",
    "tp_r = np.repeat(model.par.r_ss,par.tp_T) # use steady state as initial guess\n",
    "tp_r_ = np.empty(par.tp_T)\n",
    "tp_K = np.empty(par.tp_T)\n",
    "tp_w = np.empty(par.tp_T)\n",
    "\n",
    "# b. setting\n",
    "nu = 0.90 # relaxation parameter\n",
    "max_iter = 5000 # maximum number of iterations\n",
    "\n",
    "# c. iterate\n",
    "it = 0\n",
    "tp_K[0] = np.sum(model.sim.D*model.sol.a) # capital is pre-determined\n",
    "while True:\n",
    "    \n",
    "    # i. solve and simulate\n",
    "    model.solve_household_tp(tp_r)\n",
    "    model.simulate_household_tp()\n",
    "    \n",
    "    # ii. implied prices\n",
    "    for t in range(par.tp_T):\n",
    "        if t < par.tp_T-1: tp_K[t+1] = np.sum(model.sim.tp_D[t]*model.sol.tp_a[t])\n",
    "        tp_r_[t] = model.implied_r(tp_K[t],tp_Z[t])\n",
    "    \n",
    "    # iii. difference\n",
    "    max_abs_diff = np.max(np.abs(tp_r-tp_r_))\n",
    "    if it%10 == 0: print(f'{it:4d}: {max_abs_diff:.8f}')\n",
    "    if max_abs_diff < 1e-8: break\n",
    "    \n",
    "    # iv. update\n",
    "    tp_r = nu*tp_r + (1-nu)*tp_r_\n",
    "    \n",
    "    # v.  increment\n",
    "    it += 1\n",
    "    if it > max_iter: raise Exception('too many iterations')    \n",
    "    \n",
    "# d. find wage    \n",
    "for t in range(par.tp_T):\n",
    "    tp_w[t] = model.implied_w(tp_r[t],tp_Z[t])"
   ]
  },
  {
   "cell_type": "markdown",
   "metadata": {},
   "source": [
    "**Plot transition-paths:**"
   ]
  },
  {
   "cell_type": "code",
   "execution_count": 12,
   "metadata": {},
   "outputs": [
    {
     "data": {
      "image/png": "[encoded data removed]",
      "text/plain": [
       "<Figure size 1000x600 with 4 Axes>"
      ]
     },
     "metadata": {
      "needs_background": "light"
     },
     "output_type": "display_data"
    }
   ],
   "source": [
    "fig = plt.figure(figsize=(10,6),dpi=100)\n",
    "\n",
    "ax = fig.add_subplot(2,2,1)\n",
    "ax.plot(np.arange(par.tp_T),tp_Z,'-o',ms=2)\n",
    "ax.set_xlabel('periods')\n",
    "ax.set_ylabel('technology, $Z_t$');\n",
    "\n",
    "ax = fig.add_subplot(2,2,2)\n",
    "ax.plot(np.arange(par.tp_T),tp_K,'-o',ms=2)\n",
    "ax.set_xlabel('periods')\n",
    "ax.set_ylabel('capital, $k_t$');\n",
    "\n",
    "ax = fig.add_subplot(2,2,3)\n",
    "ax.plot(np.arange(par.tp_T),tp_r,'-o',ms=2)\n",
    "ax.set_xlabel('periods')\n",
    "ax.set_ylabel('interest rate, $r_t$');\n",
    "\n",
    "ax = fig.add_subplot(2,2,4)\n",
    "ax.plot(np.arange(par.tp_T),tp_w,'-o',ms=2)\n",
    "ax.set_xlabel('periods')\n",
    "ax.set_ylabel('wage, $w_t$');"
   ]
  },
  {
   "cell_type": "markdown",
   "metadata": {},
   "source": [
    "# No income uncertainty"
   ]
  },
  {
   "cell_type": "markdown",
   "metadata": {},
   "source": [
    "**Analytical solution for steady state:**"
   ]
  },
  {
   "cell_type": "code",
   "execution_count": 13,
   "metadata": {},
   "outputs": [
    {
     "name": "stdout",
     "output_type": "stream",
     "text": [
      "r: 0.018330\n",
      "w: 0.998613\n",
      "Y: 1.122037\n",
      "C: 1.050826\n",
      "K/Y: 2.538660\n"
     ]
    }
   ],
   "source": [
    "r_ss_pf = (1/par.beta-1) # from euler-equation\n",
    "w_ss_pf = model.implied_w(r_ss_pf)\n",
    "K_ss_pf = model.firm_demand(r_ss_pf)\n",
    "Y_ss_pf = model.firm_production(K_ss_pf)\n",
    "C_ss_pf = Y_ss_pf-par.delta*K_ss_pf\n",
    "\n",
    "print(f'r: {r_ss_pf:.6f}')\n",
    "print(f'w: {w_ss_pf:.6f}')\n",
    "print(f'Y: {Y_ss_pf:.6f}')\n",
    "print(f'C: {C_ss_pf:.6f}')\n",
    "print(f'K/Y: {K_ss_pf/Y_ss_pf:.6f}')"
   ]
  },
  {
   "cell_type": "markdown",
   "metadata": {},
   "source": [
    "**Function for finding consumption and capital paths given paths of interest rates and wages:**\n",
    "\n",
    "It can be shown that\n",
    "\n",
    "$$ C_{0}=\\frac{(1+r_{0})a_{-1}+\\sum_{t=0}^{\\infty}\\frac{1}{\\mathcal{R}_{t}}w_{t}}{\\sum_{t=0}^{\\infty}\\beta^{t/\\rho}\\mathcal{R}_{t}^{\\frac{1-\\rho}{\\rho}}} $$\n",
    "\n",
    "where \n",
    "\n",
    "$$ \\mathcal{R}_{t} =\\begin{cases} 1 & \\text{if }t=0\\\\ (1+r_{t})\\mathcal{R}_{t-1} & \\text{else} \\end{cases} $$"
   ]
  },
  {
   "cell_type": "code",
   "execution_count": 14,
   "metadata": {},
   "outputs": [],
   "source": [
    "def tp_CK_func(K0,tp_r,tp_w,r_ss,w_ss,model):\n",
    "    \n",
    "    par = model.par\n",
    "    \n",
    "    # a. initialize\n",
    "    wealth = (1+tp_r[0])*K0\n",
    "    inv_MPC = 0\n",
    "    \n",
    "    # b. solve\n",
    "    RT = 1\n",
    "    max_iter = 5000\n",
    "    t = 0\n",
    "    while True and t < max_iter: \n",
    "        \n",
    "        # i. prices padded with steady state\n",
    "        r = tp_r[t] if t < par.tp_T else r_ss\n",
    "        w = tp_w[t] if t < par.tp_T else w_ss\n",
    "        \n",
    "        # ii. interest rate factor \n",
    "        if t == 0:\n",
    "            fac = 1\n",
    "        else:\n",
    "            fac *= (1+r)\n",
    "        \n",
    "        # iii. accumulate\n",
    "        add_wealth = w/fac\n",
    "        add_inv_MPC = par.beta**(t/par.sigma)*fac**((1-par.sigma)/par.sigma)\n",
    "        if np.fmax(add_wealth,add_inv_MPC) < 1e-12:\n",
    "            break\n",
    "        else:\n",
    "            wealth += add_wealth\n",
    "            inv_MPC += add_inv_MPC\n",
    "        \n",
    "        # iv. increment\n",
    "        t += 1\n",
    "        \n",
    "    # b. simulate\n",
    "    tp_C = np.empty(par.tp_T)\n",
    "    tp_K = np.empty(par.tp_T)\n",
    "    \n",
    "    for t in range(par.tp_T):\n",
    "        \n",
    "        if t == 0:\n",
    "            tp_C[t] = wealth/inv_MPC\n",
    "            K_lag = K0\n",
    "        else:\n",
    "            tp_C[t] = (par.beta*(1+tp_r[t]))**(1/par.sigma)*tp_C[t-1]\n",
    "            K_lag = tp_K[t-1]\n",
    "        \n",
    "        tp_K[t] = (1+tp_r[t])*K_lag + tp_w[t] - tp_C[t]\n",
    "            \n",
    "    return tp_C,tp_K"
   ]
  },
  {
   "cell_type": "markdown",
   "metadata": {},
   "source": [
    "Test with steady state prices:"
   ]
  },
  {
   "cell_type": "code",
   "execution_count": 15,
   "metadata": {},
   "outputs": [],
   "source": [
    "tp_r_pf = np.repeat(r_ss_pf,par.tp_T)\n",
    "tp_w_pf = np.repeat(w_ss_pf,par.tp_T)\n",
    "tp_C_pf,tp_K_pf = tp_CK_func(K_ss_pf,tp_r_pf,tp_w_pf,r_ss_pf,w_ss_pf,model)"
   ]
  },
  {
   "cell_type": "code",
   "execution_count": 16,
   "metadata": {},
   "outputs": [
    {
     "ename": "SyntaxError",
     "evalue": "unexpected EOF while parsing (<ipython-input-16-1ae8235049f6>, line 4)",
     "output_type": "error",
     "traceback": [
      "\u001b[1;36m  File \u001b[1;32m\"<ipython-input-16-1ae8235049f6>\"\u001b[1;36m, line \u001b[1;32m4\u001b[0m\n\u001b[1;33m    assert np.isclose(C_ss,tp_C_pf[0]\u001b[0m\n\u001b[1;37m                                     ^\u001b[0m\n\u001b[1;31mSyntaxError\u001b[0m\u001b[1;31m:\u001b[0m unexpected EOF while parsing\n"
     ]
    }
   ],
   "source": [
    "print(f'C_ss:  {C_ss_pf:.6f}')\n",
    "print(f'C[0]:  {tp_C_pf[0]:.6f}')\n",
    "print(f'C[-1]: {tp_C_pf[-1]:.6f}')\n",
    "assert np.isclose(C_ss,tp_C_pf[0]"
   ]
  },
  {
   "cell_type": "markdown",
   "metadata": {},
   "source": [
    "**Shock paths** where interest rate deviate in one period:"
   ]
  },
  {
   "cell_type": "code",
   "execution_count": null,
   "metadata": {},
   "outputs": [],
   "source": [
    "Delta = 1e-4\n",
    "ts = np.array([0,20,40])\n",
    "tp_C_pf_shock = np.empty((ts.size,par.tp_T))\n",
    "tp_K_pf_shock = np.empty((ts.size,par.tp_T))\n",
    "\n",
    "for i,t in enumerate(ts):\n",
    "    tp_r_pf_shock = tp_r_pf.copy()\n",
    "    tp_r_pf_shock[t] += Delta \n",
    "    A,B = tp_CK_func(K_ss_pf,tp_r_pf_shock,tp_w_pf,r_ss_pf,w_ss_pf,model)\n",
    "    tp_C_pf_shock[i,:] = A\n",
    "    tp_K_pf_shock[i,:] = B"
   ]
  },
  {
   "cell_type": "markdown",
   "metadata": {},
   "source": [
    "Plot paths:"
   ]
  },
  {
   "cell_type": "code",
   "execution_count": null,
   "metadata": {},
   "outputs": [],
   "source": [
    "fig = plt.figure(figsize=(12,6),dpi=100)\n",
    "\n",
    "ax = fig.add_subplot(2,2,1)\n",
    "ax.plot(np.arange(par.tp_T),tp_C_pf,'-o',ms=2,label=f'$r_t = r^{{\\\\ast}}$')\n",
    "for i,t in enumerate(range(ts.size)):\n",
    "    ax.plot(np.arange(par.tp_T),tp_C_pf_shock[i],'-o',ms=2,label=f'shock to $r_{{{t}}}$')\n",
    "    \n",
    "ax.set_xlim([0,50])\n",
    "ax.set_xlabel('periods')\n",
    "ax.set_ylabel('consumtion, $C_t$');\n",
    "\n",
    "ax = fig.add_subplot(2,2,2)\n",
    "ax.plot(np.arange(par.tp_T),tp_K_pf,'-o',ms=2,label=f'$r_t = r^{{\\\\ast}}$')\n",
    "for i,t in enumerate(range(ts.size)):\n",
    "    ax.plot(np.arange(par.tp_T),tp_K_pf_shock[i],'-o',ms=2,label=f'shock to $r_{{{t}}}$')\n",
    "    \n",
    "ax.legend(frameon=True)\n",
    "ax.set_xlim([0,50])\n",
    "ax.set_xlabel('periods')\n",
    "ax.set_ylabel('capital, $K_t$');\n"
   ]
  },
  {
   "cell_type": "markdown",
   "metadata": {},
   "source": [
    "**Find transition path with shooting algorithm:**"
   ]
  },
  {
   "cell_type": "code",
   "execution_count": null,
   "metadata": {},
   "outputs": [],
   "source": [
    "# a. allocate\n",
    "dT = 200\n",
    "tp_C_pf = np.empty(par.tp_T)\n",
    "tp_K_pf = np.empty(par.tp_T)\n",
    "tp_r_pf = np.empty(par.tp_T)\n",
    "tp_w_pf = np.empty(par.tp_T)\n",
    "\n",
    "# b. settings\n",
    "C_min = C_ss_pf\n",
    "C_max = C_ss_pf + K_ss_pf\n",
    "\n",
    "K_min = 1.5 # guess on lower consumption if below this\n",
    "K_max = 3 # guess on higher consumption if above this\n",
    "\n",
    "tol_pf = 1e-6\n",
    "max_iter_pf = 5000\n",
    "\n",
    "tp_K_pf[0] = K_ss_pf # capital is pre-determined\n",
    "\n",
    "# c. iterate\n",
    "t = 0\n",
    "it = 0\n",
    "while True:\n",
    "\n",
    "    # i. update prices\n",
    "    tp_r_pf[t] = model.implied_r(tp_K_pf[t],tp_Z[t])\n",
    "    tp_w_pf[t] = model.implied_w(tp_r_pf[t],tp_Z[t])\n",
    "    \n",
    "    # ii. consumption     \n",
    "    if t == 0:\n",
    "        C0 = (C_min+C_max)/2\n",
    "        tp_C_pf[t] = C0\n",
    "    else:\n",
    "        tp_C_pf[t] = (1+tp_r_pf[t])*par.beta*tp_C_pf[t-1]\n",
    "    \n",
    "    # iii. check for steady state\n",
    "    if tp_K_pf[t] < K_min:\n",
    "        t = 0\n",
    "        C_max = C0\n",
    "        continue\n",
    "    elif tp_K_pf[t] > K_max:\n",
    "        t = 0\n",
    "        C_min = C0\n",
    "        continue\n",
    "    elif t > 10 and np.sqrt((tp_C_pf[t]-C_ss_pf)**2+(tp_K_pf[t]-K_ss_pf)**2) < tol_pf:\n",
    "        tp_C_pf[t:] = tp_C_pf[t]\n",
    "        tp_K_pf[t:] = tp_K_pf[t]\n",
    "        for k in range(par.tp_T):\n",
    "            tp_r_pf[k] = model.implied_r(tp_K_pf[k],tp_Z[k])\n",
    "            tp_w_pf[k] = model.implied_w(tp_r_pf[k],tp_Z[k])\n",
    "        break\n",
    "        \n",
    "    # iv. update capital\n",
    "    tp_K_pf[t+1] = (1+tp_r_pf[t])*tp_K_pf[t] + tp_w_pf[t] - tp_C_pf[t]    \n",
    "    \n",
    "    # v. increment\n",
    "    t += 1\n",
    "    it += 1\n",
    "    if it > max_iter: break    "
   ]
  },
  {
   "cell_type": "markdown",
   "metadata": {},
   "source": [
    "**Plot deviations from steady state:**"
   ]
  },
  {
   "cell_type": "code",
   "execution_count": null,
   "metadata": {},
   "outputs": [],
   "source": [
    "fig = plt.figure(figsize=(10,6),dpi=100)\n",
    "\n",
    "ax = fig.add_subplot(2,2,1)\n",
    "ax.plot(np.arange(par.tp_T),tp_Z,'-o',ms=2)\n",
    "ax.set_xlim([0,200])\n",
    "ax.set_xlabel('periods')\n",
    "ax.set_ylabel('technology, $Z_t$');\n",
    "\n",
    "ax = fig.add_subplot(2,2,2)\n",
    "ax.plot(np.arange(par.tp_T),tp_K-model.par.kd_ss,'-o',ms=2,label='$\\sigma_e = 0.5$')\n",
    "ax.plot(np.arange(par.tp_T),tp_K_pf-K_ss_pf,'-o',ms=2,label='$\\sigma_e = 0$')\n",
    "ax.legend(frameon=True)\n",
    "ax.set_xlim([0,200])\n",
    "ax.set_xlabel('periods')\n",
    "ax.set_ylabel('capital, $k_t$');\n",
    "\n",
    "ax = fig.add_subplot(2,2,3)\n",
    "ax.plot(np.arange(par.tp_T),tp_r-model.par.r_ss,'-o',ms=2,label='$\\sigma_e = 0.5$')\n",
    "ax.plot(np.arange(par.tp_T),tp_r_pf-r_ss_pf,'-o',ms=2,label='$\\sigma_e = 0$')\n",
    "ax.legend(frameon=True)\n",
    "ax.set_xlim([0,200])\n",
    "ax.set_xlabel('periods')\n",
    "ax.set_ylabel('interest rate, $r_t$');\n",
    "\n",
    "ax = fig.add_subplot(2,2,4)\n",
    "ax.plot(np.arange(par.tp_T),tp_w-model.par.w_ss,'-o',ms=2,label='$\\sigma_e = 0.5$')\n",
    "ax.plot(np.arange(par.tp_T),tp_w_pf-w_ss_pf,'-o',ms=2,label='$\\sigma_e = 0$')\n",
    "ax.legend(frameon=True)\n",
    "ax.set_xlabel('periods')\n",
    "ax.set_xlim([0,200])\n",
    "ax.set_ylabel('wage, $w_t$');"
   ]
  }
 ],
 "metadata": {
  "kernelspec": {
   "display_name": "Python 3",
   "language": "python",
   "name": "python3"
  },
  "language_info": {
   "codemirror_mode": {
    "name": "ipython",
    "version": 3
   },
   "file_extension": ".py",
   "mimetype": "text/x-python",
   "name": "python",
   "nbconvert_exporter": "python",
   "pygments_lexer": "ipython3",
   "version": "3.7.4"
  },
  "toc-autonumbering": true
 },
 "nbformat": 4,
 "nbformat_minor": 4
}
