{
 "cells": [
  {
   "cell_type": "markdown",
   "metadata": {},
   "source": [
    "# Structural Estimation of a Full Blow Consumption Model"
   ]
  },
  {
   "cell_type": "markdown",
   "metadata": {},
   "source": [
    "1. Go through the **ConsumptionSaving.pdf** slides\n",
    "2. This notebooks estimates the presented model using **egm** to solve the model for guesses over parameter values\n",
    "3. Show how to calculate standard errors and sensitivity measures"
   ]
  },
  {
   "cell_type": "markdown",
   "metadata": {},
   "source": [
    "# Setup"
   ]
  },
  {
   "cell_type": "code",
   "execution_count": 18,
   "metadata": {},
   "outputs": [
    {
     "name": "stdout",
     "output_type": "stream",
     "text": [
      "The autoreload extension is already loaded. To reload it, use:\n",
      "  %reload_ext autoreload\n"
     ]
    }
   ],
   "source": [
    "%matplotlib inline\n",
    "%load_ext autoreload\n",
    "%autoreload 2\n",
    "\n",
    "import time\n",
    "import numpy as np\n",
    "import scipy.optimize as optimize\n",
    "\n",
    "import matplotlib.pyplot as plt\n",
    "plt.style.use('seaborn-whitegrid')\n",
    "prop_cycle = plt.rcParams['axes.prop_cycle']\n",
    "colors = prop_cycle.by_key()['color']\n",
    "\n",
    "import figs\n",
    "from ConsumptionSavingModel import ConsumptionSavingModelClass"
   ]
  },
  {
   "cell_type": "markdown",
   "metadata": {},
   "source": [
    "# Setup estimation details"
   ]
  },
  {
   "cell_type": "code",
   "execution_count": 2,
   "metadata": {},
   "outputs": [],
   "source": [
    "# parameters to estimate\n",
    "est_par = {\n",
    "    'rho': {'guess':2.0,'lower':0.5,'upper':5.0,},\n",
    "    'beta': {'guess':0.97,'lower':0.90,'upper':0.999},\n",
    "}\n",
    "\n",
    "# moment function used in estimation\n",
    "def mom_func(data):\n",
    "    '''Returns the age profile of wealth '''\n",
    "    \n",
    "    return np.mean(data.A,axis=0)"
   ]
  },
  {
   "cell_type": "markdown",
   "metadata": {},
   "source": [
    "# Setup Consumption model and simulate synthetic data "
   ]
  },
  {
   "cell_type": "code",
   "execution_count": 4,
   "metadata": {},
   "outputs": [
    {
     "name": "stdout",
     "output_type": "stream",
     "text": [
      "model solved in 2.0 secs\n",
      "model simulated in 1.7 secs\n"
     ]
    },
    {
     "data": {
      "image/png": "[encoded data removed]",
      "text/plain": [
       "<Figure size 600x400 with 1 Axes>"
      ]
     },
     "metadata": {
      "needs_background": "light"
     },
     "output_type": "display_data"
    }
   ],
   "source": [
    "# true parameters\n",
    "par_true = {}\n",
    "par_true['rho'] = 1.5\n",
    "par_true['beta'] = 0.98\n",
    "\n",
    "# simulation setup\n",
    "par_true['sim_mini'] = 1.0 # initial resources\n",
    "par_true['simlifecycle'] = 1\n",
    "par_true['simT'] = 40\n",
    "\n",
    "model = ConsumptionSavingModelClass(name='baseline',solmethod='egm',**par_true)\n",
    "\n",
    "# estimation setup\n",
    "model.est_par = est_par\n",
    "model.mom_func = mom_func\n",
    "\n",
    "# synthetic data and moments\n",
    "model_true = model.copy()\n",
    "model_true.solve()\n",
    "model_true.simulate(seed=2019) # this is different from the default\n",
    "\n",
    "model.datamoms = mom_func(model_true.sim)\n",
    "figs.plot_life_cycle_assets(model_true)"
   ]
  },
  {
   "cell_type": "markdown",
   "metadata": {},
   "source": [
    "# Estimate"
   ]
  },
  {
   "cell_type": "markdown",
   "metadata": {},
   "source": [
    "## Estimation functions"
   ]
  },
  {
   "cell_type": "code",
   "execution_count": 19,
   "metadata": {},
   "outputs": [],
   "source": [
    "def obj_func(theta,model,W,names,lower,upper):\n",
    "\n",
    "    # impose bounds and calculate penalty\n",
    "    penalty = 0.0\n",
    "    theta_clipped = theta.copy()\n",
    "    for i in range(theta.size):\n",
    "        \n",
    "        # i. clip\n",
    "        if (lower[i] != None) or (upper[i] != None):\n",
    "            theta_clipped[i] = np.clip(theta_clipped[i],lower[i],upper[i])\n",
    "        \n",
    "        # ii. penalty\n",
    "        penalty += 10_000.0*(theta[i]-theta_clipped[i])**2\n",
    "    \n",
    "    # calcualte the vector of differences between moments in data and in simulated data\n",
    "    diff = diff_vec_func(theta_clipped,names,model,model.datamoms)\n",
    "    \n",
    "    # return the objective function\n",
    "    objval = diff.T @ W @ diff \n",
    "    return objval + penalty\n",
    "\n",
    "def diff_vec_func(theta,names,model,moms_data):\n",
    "    \n",
    "    # a. update parameters in par\n",
    "    for i in range(theta.size):\n",
    "        setattr(model.par,names[i],theta[i])\n",
    "\n",
    "    # b. solve model\n",
    "    model.solve(do_print=False)\n",
    "    \n",
    "    # c. simulate model\n",
    "    model.simulate(do_print=False)\n",
    "\n",
    "    # calculate moments in simulated data\n",
    "    moms_sim = model.mom_func(model.sim)\n",
    "    \n",
    "    # return the vector of differences\n",
    "    return moms_data - moms_sim"
   ]
  },
  {
   "cell_type": "code",
   "execution_count": 20,
   "metadata": {},
   "outputs": [
    {
     "name": "stdout",
     "output_type": "stream",
     "text": [
      "Objective function at starting values: 411.86047926020666\n"
     ]
    }
   ],
   "source": [
    "# initial guesses\n",
    "theta0 = np.array([val['guess'] for key,val in est_par.items()])\n",
    "names = [key for key,val in est_par.items()]\n",
    "\n",
    "# bounds\n",
    "lower = np.array([val['lower'] for key,val in est_par.items()])\n",
    "upper = np.array([val['upper'] for key,val in est_par.items()])\n",
    "\n",
    "# weighting matrix\n",
    "W = np.eye(moms_data.size) # identifty\n",
    "\n",
    "# evaluate the objective function\n",
    "print(f'Objective function at starting values: {obj_func(theta0,model,W,names,lower,upper)}')"
   ]
  },
  {
   "cell_type": "markdown",
   "metadata": {},
   "source": [
    "## Call numerical solver to estimate theta"
   ]
  },
  {
   "cell_type": "code",
   "execution_count": 22,
   "metadata": {},
   "outputs": [],
   "source": [
    "method = 'nelder-mead' \n",
    "res = optimize.minimize(obj_func,theta0,args=(model,W,names,lower,upper),\n",
    "                            method=method)\n",
    "# options={'disp':disp,'maxiter':max_iter,'xatol': model.par.est_tol,'fatol': model.par.est_tol})"
   ]
  },
  {
   "cell_type": "code",
   "execution_count": 23,
   "metadata": {},
   "outputs": [
    {
     "data": {
      "text/plain": [
       " final_simplex: (array([[1.50295395, 0.98000657],\n",
       "       [1.50304636, 0.98000725],\n",
       "       [1.50304354, 0.98000722]]), array([4.77754407e-05, 4.77779641e-05, 4.77781567e-05]))\n",
       "           fun: 4.777544073469529e-05\n",
       "       message: 'Optimization terminated successfully.'\n",
       "          nfev: 144\n",
       "           nit: 77\n",
       "        status: 0\n",
       "       success: True\n",
       "             x: array([1.50295395, 0.98000657])"
      ]
     },
     "execution_count": 23,
     "metadata": {},
     "output_type": "execute_result"
    }
   ],
   "source": [
    "res"
   ]
  }
 ],
 "metadata": {
  "kernelspec": {
   "display_name": "Python 3",
   "language": "python",
   "name": "python3"
  },
  "language_info": {
   "codemirror_mode": {
    "name": "ipython",
    "version": 3
   },
   "file_extension": ".py",
   "mimetype": "text/x-python",
   "name": "python",
   "nbconvert_exporter": "python",
   "pygments_lexer": "ipython3",
   "version": "3.7.4"
  },
  "toc-autonumbering": true
 },
 "nbformat": 4,
 "nbformat_minor": 4
}
