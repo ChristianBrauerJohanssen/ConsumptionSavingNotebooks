{
 "cells": [
  {
   "cell_type": "markdown",
   "metadata": {},
   "source": [
    "# Structural Estimation of a Full Blow Consumption Model"
   ]
  },
  {
   "cell_type": "markdown",
   "metadata": {},
   "source": [
    "1. This notebooks estimates the consumption model in **ConsumptionSaving.pdf** using **egm** to solve the model for guesses over parameter values\n",
    "2. Show how to calculate standard errors and sensitivity measures\n",
    "\n",
    "This notebook assumes that you have a fair understanding of the model and how to solve it. We will focus on how to estimate parameters of the model, denoted $\\theta$.\n",
    "\n",
    "## Simulated Minimum Distance\n",
    "We assume here that we have data available for $n$ units over $T$ periods, collected in $\\{w_i\\}_i^n$ and that our model is correctly specified in the sense that the observed data stems from the model, we wish to estimate with the true, unknown, parameters $\\theta_0$. We thus wish to use the observed data to infer the unknown parameters of the model by estimating $\\theta$ by combining optimal behavior in the model and the observed data.\n",
    "\n",
    "Concretely, we will focus on matching certain (well-chosen) moments in the data to simulated moments from the model. A simulated General Method of Moments (GMM) type estimator. Imagine that we calculate a $J\\times1$ vector of moments in the data, $\\Lambda_{data} = \\frac{1}{n}\\sum_{i=1}^n m(\\theta_0|w_i)$. This could e.g. be average consumption over the life cycle, the income variance or regressions coefficients from some statistical model. The latter is sometimes referred to as \"auxiliary parameters\" (APs) and the estimator using these APs as an Indirect Inference (II) estimator ([Gouriéroux, Monfort and Renault, 1993](https://onlinelibrary.wiley.com/doi/abs/10.1002/jae.3950080507 \"Link to paper\")). We will not descriminate here and simply allow for all types of moments and APs to enter in the vector of moments.\n",
    "\n",
    "To estimate $\\theta$ we will chose $\\theta$ as to minimize the (squared) distance between the moments in the data and the same moments calculated from simulated data. Let $\\Lambda_{sim}(\\theta) = \\frac{1}{n_{sim}}\\sum_{s=1}^{n_{sim}} m(\\theta|w_s)$ be the same moments calculated on simulated data for $n_{sim}=S\\times n$ observations for $T_{sim}$ periods from the model for a given value of $\\theta$. As we change $\\theta$, the simulated outomes will change and the moments will too. Be aware, though, that if you have discrete choices in the model, there is a risk that simulated behavior does not change when changing $\\theta$ slightly.\n",
    "\n",
    "The Simulated Minimum Distance (SMD) estimator is then\n",
    "\\begin{equation}\n",
    "\\hat{\\theta} = \\arg\\min_{\\theta} g(\\theta)'Wg(\\theta)\n",
    "\\end{equation}\n",
    "where $W$ is a $J\\times J$ positive semi definite weighting matrix and\n",
    "\\begin{equation}\n",
    "g(\\theta)=\\Lambda_{data}-\\Lambda_{sim}(\\theta)\n",
    "\\end{equation}\n",
    "is the distance between $J\\times1$ vectors of *moments* calculated in the data and the simulated data, respectively. Concretely,\n",
    "$\\Lambda_{data} = \\frac{1}{n}\\sum_{i=1}^n m(\\theta_0|w_i)$ and $\\Lambda_{sim}(\\theta) = \\frac{1}{n_{sim}}\\sum_{s=1}^{n_{sim}} m(\\theta|w_s)$ are $J\\times1$ vectors of moments calculated in the data and the simulated data, respectively. \n",
    "\n",
    "In our baseline setup, we will have $n=5,000$ observations for $T=35$ periods and simulate $n_{sim}=100,000$ synthetic consumers for 40 periods when estimating the model. \n",
    "\n",
    "This estimator requires the solution (and simulation) of the model for all trial guesses of $\\theta$ as we search for the one that minimizes the objective function. Therefore, structural estimation can in general be quite time-consuming. We will use the EGM to solve the consumption model quite fast and thus be able to estimate parameters within a couple of minutes. Estimation of more complex models might take significantly longer."
   ]
  },
  {
   "cell_type": "markdown",
   "metadata": {},
   "source": [
    "# Setup"
   ]
  },
  {
   "cell_type": "code",
   "execution_count": 1,
   "metadata": {},
   "outputs": [],
   "source": [
    "%matplotlib inline\n",
    "%load_ext autoreload\n",
    "%autoreload 2\n",
    "\n",
    "import time\n",
    "import numpy as np\n",
    "import scipy.optimize as optimize\n",
    "\n",
    "import matplotlib.pyplot as plt\n",
    "plt.style.use('seaborn-whitegrid')\n",
    "prop_cycle = plt.rcParams['axes.prop_cycle']\n",
    "colors = prop_cycle.by_key()['color']\n",
    "\n",
    "import figs\n",
    "from ConsumptionSavingModel import ConsumptionSavingModelClass\n",
    "from SimulatedMinimumDistance import SimulatedMinimumDistanceClass"
   ]
  },
  {
   "cell_type": "markdown",
   "metadata": {},
   "source": [
    "# Setup estimation details"
   ]
  },
  {
   "cell_type": "code",
   "execution_count": 2,
   "metadata": {},
   "outputs": [],
   "source": [
    "# a. parameters to estimate\n",
    "est_par = {\n",
    "    'rho': {'guess':2.0,'lower':0.5,'upper':5.0,},\n",
    "    'beta': {'guess':0.97,'lower':0.90,'upper':0.999},\n",
    "}\n",
    "est_par_names = [key for key,_ in est_par.items()]\n",
    "\n",
    "# b. number of consumers\n",
    "n = 5_000       # number of consumers in actual data\n",
    "n_sim = 100_000 # number of synthetic consumers to simulate when estimating theta\n",
    "\n",
    "# c. moment function used in estimation. \n",
    "# the moments chosen should be informative (and this identify) the parameters in theta\n",
    "def mom_func(data,ids=None):\n",
    "    '''Returns the age profile of wealth '''\n",
    "    \n",
    "    if ids is None:\n",
    "        return np.mean(data.A[:,1:],axis=0)\n",
    "    else:\n",
    "        return np.mean(data.A[ids,1:],axis=0)\n",
    "\n",
    "# d. choose weighting matrix\n",
    "    # 0: identity (equal weight),\n",
    "    # 1: inverse of variance on the diagonal (removes scale), \n",
    "    # 2: inverse of covaraince matrix between estimation moments (optimal weighting matrix)\n",
    "weighting_matrix = 0   "
   ]
  },
  {
   "cell_type": "markdown",
   "metadata": {},
   "source": [
    "# Setup Consumption model and simulate \"true\" data "
   ]
  },
  {
   "cell_type": "code",
   "execution_count": 3,
   "metadata": {},
   "outputs": [
    {
     "name": "stdout",
     "output_type": "stream",
     "text": [
      "model solved in 1.9 secs\n",
      "model simulated in 1.4 secs\n"
     ]
    },
    {
     "data": {
      "image/png": "[encoded data removed]",
      "text/plain": [
       "<Figure size 432x288 with 1 Axes>"
      ]
     },
     "metadata": {
      "needs_background": "light"
     },
     "output_type": "display_data"
    }
   ],
   "source": [
    "# simulation setup\n",
    "par = {'sim_mini':1.0 ,'simlifecycle':1, 'simT':36,'simN':n_sim}\n",
    "model = ConsumptionSavingModelClass(name='estimated',solmethod='egm',**par)\n",
    "\n",
    "# synthetic data and moments\n",
    "par['simN'] = n # number of observations, n\n",
    "model_true = ConsumptionSavingModelClass(name='true',solmethod='egm',**par)\n",
    "model_true.solve()\n",
    "model_true.simulate(seed=2019) # this is different from the default\n",
    "\n",
    "datamoms = mom_func(model_true.sim)\n",
    "moment_names = [i for i in range(model.par.age_min+1,model.par.age_min+model.par.simT)]\n",
    "\n",
    "# setup the SMD estimator for the current model and parameters of interest\n",
    "smd = SimulatedMinimumDistanceClass(est_par,mom_func,datamoms=datamoms)\n",
    "\n",
    "# plot moments in data\n",
    "smd.plot({'Wealth':moment_names},{'Wealth':datamoms},xlabel='Age',ylabel='Wealth',hide_legend=True)"
   ]
  },
  {
   "cell_type": "markdown",
   "metadata": {},
   "source": [
    "# Estimate the Model"
   ]
  },
  {
   "cell_type": "markdown",
   "metadata": {},
   "source": [
    "## Estimation functions"
   ]
  },
  {
   "cell_type": "code",
   "execution_count": 4,
   "metadata": {},
   "outputs": [],
   "source": [
    "# bootstrap variance of estimation moments. Used for standard errors below and potentially for weighting matrix\n",
    "num_boot = 200\n",
    "num_moms = datamoms.size\n",
    "smd.Omega = smd.bootstrap_mom_var(model_true.sim,n,num_boot,num_moms)\n",
    "\n",
    "# Choose weighting matrix\n",
    "if weighting_matrix == 0:\n",
    "    W = np.eye(smd.datamoms.size) # identity\n",
    "elif weighting_matrix == 1:\n",
    "    W = np.diag(1.0/np.diag(smd.Omega)) # inverse of variance on the diagonal\n",
    "else:\n",
    "    W = np.linalg.inv(smd.Omega) # optimal weighting matrix"
   ]
  },
  {
   "cell_type": "markdown",
   "metadata": {},
   "source": [
    "## Estimation results"
   ]
  },
  {
   "cell_type": "code",
   "execution_count": 5,
   "metadata": {},
   "outputs": [
    {
     "name": "stdout",
     "output_type": "stream",
     "text": [
      "Objective function at starting values: 4.3633418469119585\n",
      "Wall time: 1min 55s\n",
      "       True  Est. \n",
      "rho   2.000 1.989\n",
      "beta  0.960 0.960\n"
     ]
    }
   ],
   "source": [
    "# estimate the model (can take several minutes)\n",
    "%time est = smd.estimate(model,W)\n",
    "\n",
    "# print estimation results\n",
    "print(f'       True  Est. ')\n",
    "for key,val in est_par.items():\n",
    "    print(f'{key:5s} {getattr(model_true.par,key):2.3f} {est[key]:2.3f}')"
   ]
  },
  {
   "cell_type": "markdown",
   "metadata": {},
   "source": [
    "## Standard errors\n",
    "The SMD estimator is asymptotic Normal and standard errors have the same form as standard GMM estimators scaled with the adjustment factor $(1+S^{-1})$ due to the fact that we use $S$ simulations of the model.\n",
    "\n",
    "The standard errors are thus \n",
    "\\begin{align}\n",
    "Var(\\hat{\\theta})&=(1+S^{-1})\\Gamma\\Omega\\Gamma'/n \\\\\n",
    "\\Gamma &= -(G'WG)^{-1}G'W \\\\\n",
    "\\Omega & = Var(m(\\theta_0|w_i))\n",
    "\\end{align}\n",
    "and $G=\\frac{\\partial g(\\theta)}{\\partial \\theta}$ is the $J\\times K$ Jacobian matrix with respect to $\\theta$.\n",
    "\n",
    "We can sometimes calculate $Var(m(\\theta_0|w_i))$ analytically but another approach is to bootstrap this object using the data. We did this already above because one (optimal) choice of weighting matrix is $W=\\Omega^{-1}$.\n",
    "\n",
    "We now thus need to calculate $G$. We will use numerical finite differences to do this."
   ]
  },
  {
   "cell_type": "code",
   "execution_count": 6,
   "metadata": {},
   "outputs": [
    {
     "name": "stdout",
     "output_type": "stream",
     "text": [
      "       True  Est.  (se)\n",
      "rho   2.000 1.989 (0.038)\n",
      "beta  0.960 0.960 (0.001)\n"
     ]
    }
   ],
   "source": [
    "S = model.par.simN/n # number of datasets simulated per individual in original data\n",
    "Gamma,grad_theta = smd.calc_gamma(est['theta'],model,W)\n",
    "Var_theta = (1.0+1.0/S) * Gamma @ smd.Omega @ Gamma.T /n\n",
    "se = np.sqrt(np.diag(Var_theta))\n",
    "\n",
    "# print estimation results\n",
    "print(f'       True  Est.  (se)')\n",
    "for i,(key,val) in enumerate(est_par.items()):\n",
    "    print(f'{key:5s} {getattr(model_true.par,key):2.3f} {est[key]:2.3f} ({se[i]:2.3f})')"
   ]
  },
  {
   "cell_type": "markdown",
   "metadata": {},
   "source": [
    "# Sensitivity Analysis\n",
    "We will now look into a sensitivity analysis of our estimation. Concretely, we will implement the informativeness measure from [Honoré, Jørgensen and de Paula (2019)](https://arxiv.org/abs/1907.02101v2 \"The Informativeness of Estimation Moments\") and the sensitivity to calibrated parameters in [Jørgensen (2020)](www.tjeconomics.com \"Sensitivity to Calibrated Parameters\")."
   ]
  },
  {
   "cell_type": "markdown",
   "metadata": {},
   "source": [
    "## The Informativeness of Estimation Moments\n",
    "The measures are motivated by those proposed in [Honoré, Jørgensen and de Paula (2019)](https://arxiv.org/abs/1907.02101v2 \"The Informativeness of Estimation Moments\"). All the measures proposed in that paper is calculated, but we will focus on their measure 4 that asks \"what is the change in the asymptotic variance from completely excluding the k'th moment?\". If the *k*th is very informative about a parameter, the asymptotic varaince of that parameter should increase significantly, if we leave out the *k*th moment."
   ]
  },
  {
   "cell_type": "code",
   "execution_count": 7,
   "metadata": {},
   "outputs": [
    {
     "data": {
      "image/png": "[encoded data removed]",
      "text/plain": [
       "<Figure size 432x288 with 2 Axes>"
      ]
     },
     "metadata": {
      "needs_background": "light"
     },
     "output_type": "display_data"
    }
   ],
   "source": [
    "info = smd.informativeness_moments(grad_theta,smd.Omega,W)\n",
    "\n",
    "smd.plot_heat(info['M4e'],est_par_names,moment_names,annot=False)"
   ]
  },
  {
   "cell_type": "markdown",
   "metadata": {},
   "source": [
    "We can see that especially the wealth level for younger households are very informative regarding both $\\rho$ and $\\beta$. This is likely due to the fact that for low level of resources (which is the case at younger ages), the value of both these parameters affect consumption and saving decisions alot. Thus, the level of saving especially in young ages are very informative and help to identify the two parameters."
   ]
  },
  {
   "cell_type": "markdown",
   "metadata": {},
   "source": [
    "## Sensitivity to Calibrated parameters\n",
    "The mesure is motivated by the one proposed in [Jørgensen (2020)](www.tjeconomics.com \"Sensitivity to Calibrated Parameters\"). Note that the estimation moments are all functions of the $L$ calibrated parameters which we will denote $\\gamma$, $g(\\theta|\\gamma)$. \n",
    "\n",
    "The measure is defined as\n",
    "\\begin{align}\n",
    "S &= \\Gamma D\n",
    "\\end{align}\n",
    "where $D=\\frac{\\partial g(\\theta|\\gamma)}{\\partial \\gamma}$ is the $J\\times L$ Jacobian matrix with respect to $\\gamma$. \n",
    "\n",
    "*We only need to calculate $D$* since we have already calculated $\\Gamma$ when we calculated standard errors above. We will again use numerical finite differences to calcualte this object."
   ]
  },
  {
   "cell_type": "code",
   "execution_count": 8,
   "metadata": {},
   "outputs": [],
   "source": [
    "# setup which parameters are in gamma and whether to compare to brute-force approach\n",
    "cali_par_names = ('R','G')\n",
    "cali_par = np.array([getattr(model.par,name) for name in cali_par_names])\n",
    "do_brute_force = True"
   ]
  },
  {
   "cell_type": "code",
   "execution_count": 9,
   "metadata": {},
   "outputs": [
    {
     "data": {
      "image/png": "[encoded data removed]",
      "text/plain": [
       "<Figure size 432x288 with 2 Axes>"
      ]
     },
     "metadata": {
      "needs_background": "light"
     },
     "output_type": "display_data"
    }
   ],
   "source": [
    "# calculate the sensitivity measure \n",
    "grad_gamma = smd.num_grad(cali_par,model,cali_par_names)\n",
    "sens_cali = Gamma @ grad_gamma\n",
    "\n",
    "# plot sensitivity measure\n",
    "smd.plot_heat(sens_cali,est_par_names,cali_par_names)"
   ]
  },
  {
   "cell_type": "code",
   "execution_count": 10,
   "metadata": {},
   "outputs": [],
   "source": [
    "# calculate elasticities\n",
    "sens_cali_e = np.empty(sens_cali.shape)\n",
    "for j in range(cali_par.size):\n",
    "    for i in range(est['theta'].size):\n",
    "        sens_cali_e[i,j] = sens_cali[i,j] * cali_par[j]/est['theta'][i]\n",
    "\n",
    "#smd.plot_heat(sens_cali_e,est_par_names,cali_par_names)"
   ]
  },
  {
   "cell_type": "markdown",
   "metadata": {},
   "source": [
    "We can compare this to a brute-force approach in which we re-estimate the model for marginal changes in the calibrated parameters. This takes considerable time, however.\n",
    "The results are almost identical"
   ]
  },
  {
   "cell_type": "code",
   "execution_count": 11,
   "metadata": {},
   "outputs": [
    {
     "name": "stdout",
     "output_type": "stream",
     "text": [
      "now re-estimating with R = 1.040010 (original 1.040000)\n",
      "Objective function at starting values: 4.377984771199142\n",
      "now re-estimating with G = 1.020010 (original 1.020000)\n",
      "Objective function at starting values: 4.340187449963912\n"
     ]
    },
    {
     "data": {
      "image/png": "[encoded data removed]",
      "text/plain": [
       "<Figure size 432x288 with 2 Axes>"
      ]
     },
     "metadata": {
      "needs_background": "light"
     },
     "output_type": "display_data"
    }
   ],
   "source": [
    "if do_brute_force:\n",
    "    sens_cali_brute = smd.sens_cali_brute_force(model,est['theta'],W,cali_par_names)\n",
    "    \n",
    "    # plot brute-force measure\n",
    "    smd.plot_heat(sens_cali_brute,est_par_names,cali_par_names)"
   ]
  },
  {
   "cell_type": "markdown",
   "metadata": {},
   "source": [
    "### Arbitrary changes in $\\gamma$\n",
    "Another approach suggested is to investigate larger simultaneous changes in $\\gamma$."
   ]
  },
  {
   "cell_type": "code",
   "execution_count": 12,
   "metadata": {},
   "outputs": [
    {
     "name": "stdout",
     "output_type": "stream",
     "text": [
      "[ 3.28545335 -0.25633671]\n",
      "[ 0.15986272 -0.02963125]\n"
     ]
    }
   ],
   "source": [
    "# set new calibrated parameters\n",
    "cali_par_new = {'G':1.05}\n",
    "\n",
    "# update calibrated parameters in new version of the model\n",
    "model_new = model.copy()\n",
    "for key,val in cali_par_new.items():\n",
    "    setattr(model_new.par,key,val)\n",
    "\n",
    "# calculate new objective function\n",
    "obj_vec = smd.diff_vec_func(est['theta'],model,est_par_names)\n",
    "obj_vec_new = smd.diff_vec_func(est['theta'],model_new,est_par_names)\n",
    "\n",
    "# approximate change in theta\n",
    "Gamma_new,_ = smd.calc_gamma(est['theta'],model_new,W)\n",
    "theta_delta =  Gamma_new @ obj_vec_new - Gamma @ obj_vec\n",
    "print(theta_delta)\n",
    "\n",
    "# extrapolate the gradient\n",
    "theta_delta_extrap = np.zeros(theta_delta.size)\n",
    "for j,key in enumerate(cali_par_new):\n",
    "    theta_delta_extrap += sens_cali[:,j]*(cali_par_new[key]-getattr(model.par,key))\n",
    "\n",
    "print(theta_delta_extrap)"
   ]
  },
  {
   "cell_type": "markdown",
   "metadata": {},
   "source": [
    "Again, we can compare this approximation to a brute-force re-estimation of the model for the changed $\\gamma$."
   ]
  },
  {
   "cell_type": "code",
   "execution_count": 13,
   "metadata": {},
   "outputs": [
    {
     "name": "stdout",
     "output_type": "stream",
     "text": [
      "Objective function at starting values: 1.6611824373754174\n",
      "[ 0.35691761 -0.06022267]\n"
     ]
    }
   ],
   "source": [
    "if do_brute_force:\n",
    "    est_new = smd.estimate(model_new,W)\n",
    "    theta_delta_brute = est_new['theta'] - est['theta']\n",
    "    print(theta_delta_brute)"
   ]
  }
 ],
 "metadata": {
  "kernelspec": {
   "display_name": "Python 3",
   "language": "python",
   "name": "python3"
  },
  "language_info": {
   "codemirror_mode": {
    "name": "ipython",
    "version": 3
   },
   "file_extension": ".py",
   "mimetype": "text/x-python",
   "name": "python",
   "nbconvert_exporter": "python",
   "pygments_lexer": "ipython3",
   "version": "3.7.4"
  },
  "toc-autonumbering": true
 },
 "nbformat": 4,
 "nbformat_minor": 4
}
