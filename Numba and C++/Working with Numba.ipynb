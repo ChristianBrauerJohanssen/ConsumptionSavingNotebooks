{
 "cells": [
  {
   "cell_type": "markdown",
   "metadata": {},
   "source": [
    "# Working with Numba"
   ]
  },
  {
   "cell_type": "markdown",
   "metadata": {},
   "source": [
    "This notebooks provides some examples of how to work with **Numba** and compare the speed-up with C++.\n",
    "\n",
    "From the **consav** package we will use the **runtools** module to control the behavior of **Numba**."
   ]
  },
  {
   "cell_type": "markdown",
   "metadata": {},
   "source": [
    "**Links:**\n",
    "\n",
    "- [Supported Python features](https://numba.pydata.org/numba-doc/dev/reference/pysupported.html)\n",
    "- [Supported Numpy features](https://numba.pydata.org/numba-doc/dev/reference/numpysupported.html)"
   ]
  },
  {
   "cell_type": "markdown",
   "metadata": {},
   "source": [
    "# Decorating Python functions"
   ]
  },
  {
   "cell_type": "markdown",
   "metadata": {},
   "source": [
    "Imports and numba settings:"
   ]
  },
  {
   "cell_type": "code",
   "execution_count": 1,
   "metadata": {},
   "outputs": [],
   "source": [
    "import time\n",
    "import numpy as np\n",
    "\n",
    "from consav import runtools\n",
    "runtools.write_numba_config(threads=8,threading_layer='tbb')\n",
    "import numba as nb # must be imported after write_numba_config!\n",
    "#nb.config.__dict__ # see all configuration"
   ]
  },
  {
   "cell_type": "markdown",
   "metadata": {},
   "source": [
    "## Functions"
   ]
  },
  {
   "cell_type": "code",
   "execution_count": 2,
   "metadata": {},
   "outputs": [],
   "source": [
    "def test_standard(X,Y,Z,NX,NY):\n",
    "\n",
    "    # X is lenght NX\n",
    "    # Y is lenght NY\n",
    "    # Z is length NX\n",
    "\n",
    "    for i in nb.prange(NX):\n",
    "        for j in range(NY):\n",
    "            Z[i] += np.exp(np.log(X[i]*Y[j]))/(X[i]*Y[j])-1\n",
    "            \n",
    "@nb.njit(parallel=True)\n",
    "def test(X,Y,Z,NX,NY):\n",
    "    for i in nb.prange(NX):\n",
    "        for j in range(NY):\n",
    "            Z[i] += np.exp(np.log(X[i]*Y[j]))/(X[i]*Y[j])-1\n",
    "\n",
    "@nb.njit(parallel=True,fastmath=True)\n",
    "def test_fast(X,Y,Z,NX,NY):\n",
    "    for i in nb.prange(NX):\n",
    "        for j in range(NY):\n",
    "            Z[i] += np.exp(np.log(X[i]*Y[j]))/(X[i]*Y[j])-1"
   ]
  },
  {
   "cell_type": "markdown",
   "metadata": {},
   "source": [
    "## Settings"
   ]
  },
  {
   "cell_type": "markdown",
   "metadata": {},
   "source": [
    "Choose settings and make random draws:"
   ]
  },
  {
   "cell_type": "code",
   "execution_count": 3,
   "metadata": {},
   "outputs": [],
   "source": [
    "# a. settings\n",
    "NX = 100\n",
    "NY = 20000\n",
    "\n",
    "# b. random draws\n",
    "np.random.seed(1998)\n",
    "X = np.random.sample(NX)\n",
    "Y = np.random.sample(NY)\n",
    "Z = np.zeros(NX)"
   ]
  },
  {
   "cell_type": "markdown",
   "metadata": {},
   "source": [
    "## Examples"
   ]
  },
  {
   "cell_type": "code",
   "execution_count": 4,
   "metadata": {},
   "outputs": [
    {
     "name": "stdout",
     "output_type": "stream",
     "text": [
      "numba 0.00000000 in 6.5 secs\n",
      "numba 0.00000000 in 0.4 secs\n",
      "numba (fastmath=true) 0.00000000 in 0.2 secs\n"
     ]
    }
   ],
   "source": [
    "tic = time.time()\n",
    "test_standard(X,Y,Z,NX,NY)\n",
    "toc = time.time()\n",
    "print(f'numba {np.sum(Z):.8f} in {toc-tic:.1f} secs')\n",
    "\n",
    "tic = time.time()\n",
    "test(X,Y,Z,NX,NY)\n",
    "toc = time.time()\n",
    "print(f'numba {np.sum(Z):.8f} in {toc-tic:.1f} secs')\n",
    "\n",
    "Z = np.zeros(NX)\n",
    "tic = time.time()\n",
    "test_fast(X,Y,Z,NX,NY)\n",
    "toc = time.time()\n",
    "print(f'numba (fastmath=true) {np.sum(Z):.8f} in {toc-tic:.1f} secs')"
   ]
  },
  {
   "cell_type": "markdown",
   "metadata": {},
   "source": [
    "# Test parallization in Numba and C++"
   ]
  },
  {
   "cell_type": "markdown",
   "metadata": {},
   "source": [
    "Compile C++ function for comparison:"
   ]
  },
  {
   "cell_type": "code",
   "execution_count": 5,
   "metadata": {},
   "outputs": [
    {
     "name": "stdout",
     "output_type": "stream",
     "text": [
      "cpp files compiled\n",
      "cpp files compiled\n"
     ]
    }
   ],
   "source": [
    "from consav import cpptools\n",
    "cpptools.compile('test_numba',compiler='vs',dllfilename='test_numba_vs')\n",
    "cpptools.compile('test_numba',compiler='intel',dllfilename='test_numba_intel')"
   ]
  },
  {
   "cell_type": "markdown",
   "metadata": {},
   "source": [
    "Run tests with different number of threads:"
   ]
  },
  {
   "cell_type": "code",
   "execution_count": 6,
   "metadata": {},
   "outputs": [
    {
     "name": "stdout",
     "output_type": "stream",
     "text": [
      "threads = 8\n",
      " threading_layer = tbb\n",
      "  test 0.00000000 in 0.8 secs\n",
      "  test (fastmath=true) 0.00000000 in 0.0 secs\n",
      " threading_layer = omp\n",
      "  test 0.00000000 in 0.9 secs\n",
      "  test (fastmath=true) 0.00000000 in 0.0 secs\n",
      "  test (cpp, vs) 0.00000000 in 0.8 secs\n",
      "  test (cpp, intel) 0.00000000 in 0.9 secs\n",
      "\n",
      "threads = 4\n",
      " threading_layer = tbb\n",
      "  test 0.00000000 in 1.7 secs\n",
      "  test (fastmath=true) 0.00000000 in 0.0 secs\n",
      " threading_layer = omp\n",
      "  test 0.00000000 in 1.7 secs\n",
      "  test (fastmath=true) 0.00000000 in 0.0 secs\n",
      "  test (cpp, vs) 0.00000000 in 1.7 secs\n",
      "  test (cpp, intel) 0.00000000 in 1.5 secs\n",
      "\n",
      "threads = 2\n",
      " threading_layer = tbb\n",
      "  test 0.00000000 in 3.3 secs\n",
      "  test (fastmath=true) 0.00000000 in 0.0 secs\n",
      " threading_layer = omp\n",
      "  test 0.00000000 in 3.3 secs\n",
      "  test (fastmath=true) 0.00000000 in 0.0 secs\n",
      "  test (cpp, vs) 0.00000000 in 3.3 secs\n",
      "  test (cpp, intel) 0.00000000 in 3.0 secs\n",
      "\n",
      "threads = 1\n",
      " threading_layer = tbb\n",
      "  test 0.00000000 in 6.5 secs\n",
      "  test (fastmath=true) 0.00000000 in 0.0 secs\n",
      " threading_layer = omp\n",
      "  test 0.00000000 in 6.5 secs\n",
      "  test (fastmath=true) 0.00000000 in 0.0 secs\n",
      "  test (cpp, vs) 0.00000000 in 6.5 secs\n",
      "  test (cpp, intel) 0.00000000 in 6.1 secs\n",
      "\n"
     ]
    }
   ],
   "source": [
    "for threads in [8,4,2,1]:\n",
    "    \n",
    "        print(f'threads = {threads}')\n",
    "        \n",
    "        print(f' threading_layer = tbb')\n",
    "        runtools.write_numba_config(threads=threads,threading_layer='tbb')\n",
    "        !python test_numba.py\n",
    "        \n",
    "        print(f' threading_layer = omp')\n",
    "        runtools.write_numba_config(threads=threads,threading_layer='omp')\n",
    "        !python test_numba.py\n",
    "        \n",
    "        print('')"
   ]
  }
 ],
 "metadata": {
  "kernelspec": {
   "display_name": "Python 3",
   "language": "python",
   "name": "python3"
  },
  "language_info": {
   "codemirror_mode": {
    "name": "ipython",
    "version": 3
   },
   "file_extension": ".py",
   "mimetype": "text/x-python",
   "name": "python",
   "nbconvert_exporter": "python",
   "pygments_lexer": "ipython3",
   "version": "3.7.1"
  },
  "toc": {
   "base_numbering": 1,
   "nav_menu": {},
   "number_sections": true,
   "sideBar": true,
   "skip_h1_title": false,
   "title_cell": "Table of Contents",
   "title_sidebar": "Contents",
   "toc_cell": true,
   "toc_position": {},
   "toc_section_display": true,
   "toc_window_display": false
  },
  "toc-autonumbering": true
 },
 "nbformat": 4,
 "nbformat_minor": 2
}
