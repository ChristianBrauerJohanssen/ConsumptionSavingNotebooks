{
 "cells": [
  {
   "cell_type": "markdown",
   "metadata": {},
   "source": [
    "# Working with Numba"
   ]
  },
  {
   "cell_type": "markdown",
   "metadata": {},
   "source": [
    "This notebooks provides some examples of how to work with **Numba** and compare the speed-up with C++.\n",
    "\n",
    "From the **consav** package we will use the **runtools** module to control the behavior of **Numba**."
   ]
  },
  {
   "cell_type": "markdown",
   "metadata": {},
   "source": [
    "**Links:**\n",
    "\n",
    "- [Supported Python features](https://numba.pydata.org/numba-doc/dev/reference/pysupported.html)\n",
    "- [Supported Numpy features](https://numba.pydata.org/numba-doc/dev/reference/numpysupported.html)\n",
    "\n",
    "**Requirements:** You must have these two compilers installed:\n",
    "\n",
    "* **vs**: Free *Microsoft Visual Studio 2017 Community Edition* ([link](https://visualstudio.microsoft.com/downloads/))\n",
    "* **intel:** Costly *Intel Parallel Studio 2018 Composer Edition* ([link](https://software.intel.com/en-us/parallel-studio-xe))\n",
    "\n",
    "**Computer used for timings:** Windows 10 computer with two Intel(R) Xeon(R) Gold 6154 3.00 GHz CPUs (18 cores, 36 logical processes each) and 192 GB of RAM."
   ]
  },
  {
   "cell_type": "code",
   "execution_count": 1,
   "metadata": {},
   "outputs": [],
   "source": [
    "THREADS = [1,4,8,16,32,64]"
   ]
  },
  {
   "cell_type": "markdown",
   "metadata": {},
   "source": [
    "# Decorating Python functions"
   ]
  },
  {
   "cell_type": "markdown",
   "metadata": {},
   "source": [
    "Imports and numba settings:"
   ]
  },
  {
   "cell_type": "code",
   "execution_count": 2,
   "metadata": {},
   "outputs": [],
   "source": [
    "import time\n",
    "import numpy as np\n",
    "\n",
    "from consav import runtools\n",
    "runtools.write_numba_config(threads=8,threading_layer='tbb')\n",
    "import numba as nb # must be imported after write_numba_config!\n",
    "#nb.config.__dict__ # see all config options"
   ]
  },
  {
   "cell_type": "markdown",
   "metadata": {},
   "source": [
    "## Functions"
   ]
  },
  {
   "cell_type": "code",
   "execution_count": 3,
   "metadata": {},
   "outputs": [],
   "source": [
    "def test_standard(X,Y,Z,NX,NY):\n",
    "\n",
    "    # X is lenght NX\n",
    "    # Y is lenght NY\n",
    "    # Z is length NX\n",
    "\n",
    "    for i in range(NX):\n",
    "        Z[i] = 0\n",
    "        for j in range(NY):\n",
    "            Z[i] += np.exp(np.log(X[i]*Y[j]+0.001))/(X[i]*Y[j])-1\n",
    "\n",
    "@nb.njit\n",
    "def test(X,Y,Z,NX,NY):\n",
    "    for i in nb.prange(NX):\n",
    "        Z[i] = 0\n",
    "        for j in range(NY):\n",
    "            Z[i] += np.exp(np.log(X[i]*Y[j]+0.001))/(X[i]*Y[j])-1\n",
    "            \n",
    "@nb.njit(parallel=True)\n",
    "def test_par(X,Y,Z,NX,NY):\n",
    "    for i in nb.prange(NX):\n",
    "        Z[i] = 0\n",
    "        for j in range(NY):\n",
    "            Z[i] += np.exp(np.log(X[i]*Y[j]+0.001))/(X[i]*Y[j])-1\n",
    "\n",
    "@nb.njit(parallel=True,fastmath=True)\n",
    "def test_par_fast(X,Y,Z,NX,NY):\n",
    "    for i in nb.prange(NX):\n",
    "        Z[i] = 0\n",
    "        for j in range(NY):\n",
    "            Z[i] += np.exp(np.log(X[i]*Y[j]+0.001))/(X[i]*Y[j])-1"
   ]
  },
  {
   "cell_type": "markdown",
   "metadata": {},
   "source": [
    "## Settings"
   ]
  },
  {
   "cell_type": "markdown",
   "metadata": {},
   "source": [
    "Choose settings and make random draws:"
   ]
  },
  {
   "cell_type": "code",
   "execution_count": 4,
   "metadata": {},
   "outputs": [],
   "source": [
    "# a. settings\n",
    "NX = 100\n",
    "NY = 20000\n",
    "\n",
    "# b. random draws\n",
    "np.random.seed(1998)\n",
    "X = np.random.sample(NX)\n",
    "Y = np.random.sample(NY)\n",
    "Z = np.zeros(NX)"
   ]
  },
  {
   "cell_type": "markdown",
   "metadata": {},
   "source": [
    "## Examples"
   ]
  },
  {
   "cell_type": "code",
   "execution_count": 5,
   "metadata": {},
   "outputs": [
    {
     "name": "stdout",
     "output_type": "stream",
     "text": [
      "python     182878.74978038 in 6.39 secs\n",
      "numba      182878.74978038 in 0.03 secs\n",
      "numba par  182878.74978038 in 0.00 secs\n",
      "numba fast 182878.74978038 in 0.00 secs\n"
     ]
    }
   ],
   "source": [
    "tic = time.time()\n",
    "test_standard(X,Y,Z,NX,NY)\n",
    "toc = time.time()\n",
    "print(f'{\"python\":10s} {np.sum(Z):.8f} in {toc-tic:4.2f} secs')\n",
    "\n",
    "test(X,Y,Z,NX,NY) # test run\n",
    "tic = time.time()\n",
    "test(X,Y,Z,NX,NY)\n",
    "toc = time.time()\n",
    "print(f'{\"numba\":10s} {np.sum(Z):.8f} in {toc-tic:4.2f} secs')\n",
    "\n",
    "test_par(X,Y,Z,NX,NY) # test run\n",
    "tic = time.time()\n",
    "test_par(X,Y,Z,NX,NY)\n",
    "toc = time.time()\n",
    "print(f'{\"numba par\":10s} {np.sum(Z):.8f} in {toc-tic:4.2f} secs')\n",
    "\n",
    "test_par_fast(X,Y,Z,NX,NY) # test run\n",
    "tic = time.time()\n",
    "test_par_fast(X,Y,Z,NX,NY)\n",
    "toc = time.time()\n",
    "print(f'{\"numba fast\":10s} {np.sum(Z):.8f} in {toc-tic:4.2f} secs')"
   ]
  },
  {
   "cell_type": "markdown",
   "metadata": {},
   "source": [
    "**Conclusion:** Huge speed-up by numba. The `fastmath=True` option seems to be able to do some pure compiler magic on top of this."
   ]
  },
  {
   "cell_type": "markdown",
   "metadata": {},
   "source": [
    "## jitclass"
   ]
  },
  {
   "cell_type": "markdown",
   "metadata": {},
   "source": [
    "To parse around large amount of variables, **jitclasses** are usefull. They need to be declared, but can then be used in numba functions."
   ]
  },
  {
   "cell_type": "code",
   "execution_count": 6,
   "metadata": {},
   "outputs": [
    {
     "name": "stdout",
     "output_type": "stream",
     "text": [
      "[0. 0. 0. 0. 0. 0. 0. 0. 0. 0.]\n"
     ]
    }
   ],
   "source": [
    "# a. setup jit class\n",
    "parlist = [\n",
    "    ('X',nb.double[:]),\n",
    "    ('Y',nb.double[:]),    \n",
    "    ('Z',nb.double[:]),   \n",
    "    ('N',nb.int64),    \n",
    "    ('a',nb.double),\n",
    "    ('b',nb.double),\n",
    "    ('threads',nb.int64)\n",
    "]\n",
    "\n",
    "@nb.jitclass(parlist)\n",
    "class ParClass():\n",
    "    def __init__(self):\n",
    "        pass\n",
    "\n",
    "# b. create\n",
    "par = ParClass()\n",
    "par.N = 10\n",
    "par.X = np.zeros(par.N)\n",
    "par.Y = np.zeros(par.N)\n",
    "par.Z = np.zeros(0)\n",
    "par.a = 2\n",
    "par.b = 1\n",
    "par.threads = 4\n",
    "\n",
    "# c. call function\n",
    "@nb.jit\n",
    "def test(par):\n",
    "    par.Z = np.zeros(par.X.size)\n",
    "    for i in range(par.N):\n",
    "        par.Z[i] = par.X[i] + par.Y[i]\n",
    "    \n",
    "test(par)\n",
    "print(par.Z)"
   ]
  },
  {
   "cell_type": "markdown",
   "metadata": {},
   "source": [
    "# Test parallization in Numba and C++"
   ]
  },
  {
   "cell_type": "markdown",
   "metadata": {},
   "source": [
    "Compile C++ function for comparison:"
   ]
  },
  {
   "cell_type": "code",
   "execution_count": 7,
   "metadata": {},
   "outputs": [
    {
     "name": "stdout",
     "output_type": "stream",
     "text": [
      "cpp files compiled\n",
      "cpp files compiled\n"
     ]
    }
   ],
   "source": [
    "from consav import cpptools\n",
    "cpptools.compile('cppfuncs/test_numba',compiler='vs',dllfilename='test_numba_vs')\n",
    "cpptools.compile('cppfuncs/test_numba',compiler='intel',dllfilename='test_numba_intel')"
   ]
  },
  {
   "cell_type": "markdown",
   "metadata": {},
   "source": [
    "Run tests with **different number of threads**:"
   ]
  },
  {
   "cell_type": "code",
   "execution_count": 8,
   "metadata": {},
   "outputs": [
    {
     "name": "stdout",
     "output_type": "stream",
     "text": [
      "threads = 1\n",
      " threading_layer = tbb\n",
      "  numba      326725974.7 in 30.2 secs\n",
      " threading_layer = omp\n",
      "  numba      326725974.7 in 26.3 secs\n",
      "  c++, vs    326725974.7 in 26.7 secs\n",
      "  c++, intel 326725974.7 in 25.6 secs\n",
      "\n",
      "threads = 4\n",
      " threading_layer = tbb\n",
      "  numba      326725974.7 in 8.2 secs\n",
      " threading_layer = omp\n",
      "  numba      326725974.7 in 7.5 secs\n",
      "  c++, vs    326725974.7 in 6.9 secs\n",
      "  c++, intel 326725974.7 in 7.3 secs\n",
      "\n",
      "threads = 8\n",
      " threading_layer = tbb\n",
      "  numba      326725974.7 in 4.2 secs\n",
      " threading_layer = omp\n",
      "  numba      326725974.7 in 3.5 secs\n",
      "  c++, vs    326725974.7 in 3.5 secs\n",
      "  c++, intel 326725974.7 in 3.0 secs\n",
      "\n",
      "threads = 16\n",
      " threading_layer = tbb\n",
      "  numba      326725974.7 in 2.3 secs\n",
      " threading_layer = omp\n",
      "  numba      326725974.7 in 1.7 secs\n",
      "  c++, vs    326725974.7 in 1.8 secs\n",
      "  c++, intel 326725974.7 in 1.5 secs\n",
      "\n",
      "threads = 32\n",
      " threading_layer = tbb\n",
      "  numba      326725974.7 in 1.5 secs\n",
      " threading_layer = omp\n",
      "  numba      326725974.7 in 1.5 secs\n",
      "  c++, vs    326725974.7 in 1.6 secs\n",
      "  c++, intel 326725974.7 in 1.5 secs\n",
      "\n",
      "threads = 64\n",
      " threading_layer = tbb\n",
      "  numba      326725974.7 in 0.9 secs\n",
      " threading_layer = omp\n",
      "  numba      326725974.7 in 1.6 secs\n",
      "  c++, vs    326725974.7 in 1.8 secs\n",
      "  c++, intel 326725974.7 in 1.2 secs\n",
      "\n"
     ]
    }
   ],
   "source": [
    "for threads in THREADS:\n",
    "    \n",
    "        print(f'threads = {threads}')\n",
    "        \n",
    "        print(f' threading_layer = tbb')\n",
    "        runtools.write_numba_config(threads=threads,threading_layer='tbb')\n",
    "        !python test_numba.py\n",
    "\n",
    "        print(f' threading_layer = omp')\n",
    "        runtools.write_numba_config(threads=threads,threading_layer='omp')\n",
    "        !python test_numba.py\n",
    "        \n",
    "        print('')"
   ]
  },
  {
   "cell_type": "markdown",
   "metadata": {},
   "source": [
    "**Conclusion:**\n",
    "\n",
    "1. Numba is as efficient as pure C++\n",
    "2. Numba with `threading_layer=tbb` delivers the same speed-up as the intel C++ compiler\n",
    "3. Numba with `threading_layer=omp` delivers the same speed-up as the vs C++ compiler\n",
    "4. When there are many threads the intel C++ compiler (or numba with `threading_layer=tbb`) performs best"
   ]
  },
  {
   "cell_type": "markdown",
   "metadata": {},
   "source": [
    "# Reset"
   ]
  },
  {
   "cell_type": "code",
   "execution_count": 9,
   "metadata": {},
   "outputs": [],
   "source": [
    "runtools.write_numba_config(threads=8,threading_layer='omp') # rest to omp and 8 threads"
   ]
  }
 ],
 "metadata": {
  "kernelspec": {
   "display_name": "Python 3",
   "language": "python",
   "name": "python3"
  },
  "language_info": {
   "codemirror_mode": {
    "name": "ipython",
    "version": 3
   },
   "file_extension": ".py",
   "mimetype": "text/x-python",
   "name": "python",
   "nbconvert_exporter": "python",
   "pygments_lexer": "ipython3",
   "version": "3.7.4"
  },
  "toc": {
   "base_numbering": 1,
   "nav_menu": {},
   "number_sections": true,
   "sideBar": true,
   "skip_h1_title": false,
   "title_cell": "Table of Contents",
   "title_sidebar": "Contents",
   "toc_cell": true,
   "toc_position": {},
   "toc_section_display": true,
   "toc_window_display": false
  },
  "toc-autonumbering": true
 },
 "nbformat": 4,
 "nbformat_minor": 4
}
