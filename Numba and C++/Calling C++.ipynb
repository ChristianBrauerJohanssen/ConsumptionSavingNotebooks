{
 "cells": [
  {
   "cell_type": "markdown",
   "metadata": {},
   "source": [
    "# Calling C++"
   ]
  },
  {
   "cell_type": "markdown",
   "metadata": {},
   "source": [
    "Pyton contains multiple ways of calling functions written in C++. This notebooks shows how to use **ctypes** and **cffi** on a **Windows** computer. \n",
    "\n",
    "* **ctypes**: Recommended for calling C++ function *outside* **Numba**.\n",
    "* **cffi**: Required to call C++ function *inside* **Numba**. Structs not allowed.\n"
   ]
  },
  {
   "cell_type": "markdown",
   "metadata": {},
   "source": [
    "From the **consav** package we will use the **cpptools** module to compile and link to C++ files."
   ]
  },
  {
   "cell_type": "markdown",
   "metadata": {},
   "source": [
    "**Compilers:** Two compiler workflows have been implemented:\n",
    "\n",
    "* **vs**: Free *Microsoft Visual Studio 2017 Community Edition* ([link](https://visualstudio.microsoft.com/downloads/))\n",
    "* **intel:** Costly *Intel Parallel Studio 2018 Composer Edition* ([link](https://software.intel.com/en-us/parallel-studio-xe))\n",
    "\n",
    "For parallization we will use **OpenMP**.\n",
    "\n",
    "The **installation paths** might need to be adjusted. See arguments to the **cpptools.compile()** function."
   ]
  },
  {
   "cell_type": "code",
   "execution_count": 1,
   "metadata": {},
   "outputs": [],
   "source": [
    "compiler = 'vs'"
   ]
  },
  {
   "cell_type": "markdown",
   "metadata": {},
   "source": [
    "# ctypes"
   ]
  },
  {
   "cell_type": "code",
   "execution_count": 2,
   "metadata": {},
   "outputs": [],
   "source": [
    "# use 8 threads in numba\n",
    "from consav import runtools\n",
    "runtools.write_numba_config(disable=0,threads=8)"
   ]
  },
  {
   "cell_type": "code",
   "execution_count": 3,
   "metadata": {},
   "outputs": [],
   "source": [
    "import ctypes as ct\n",
    "import numpy as np\n",
    "import numba as nb\n",
    "from consav import cpptools"
   ]
  },
  {
   "cell_type": "code",
   "execution_count": 4,
   "metadata": {},
   "outputs": [
    {
     "name": "stdout",
     "output_type": "stream",
     "text": [
      "cpp files compiled\n",
      "cpp files loaded\n",
      "all assertions true for example.fun\n",
      "all assertions true for example.fun_nostruct\n",
      "cpp files delinked\n"
     ]
    }
   ],
   "source": [
    "# a. main class\n",
    "\n",
    "# list of elements\n",
    "parlist = [\n",
    "    ('X',nb.double[:]),\n",
    "    ('Y',nb.double[:]),    \n",
    "    ('N',nb.int32),    \n",
    "    ('a',nb.double),\n",
    "    ('b',nb.double),\n",
    "    ('threads',nb.int32)\n",
    "]\n",
    "# python class\n",
    "class ParClass():\n",
    "    def __init__(self):\n",
    "        pass\n",
    "\n",
    "# cpp struct \n",
    "\n",
    "#  return python version of the C++ struct\n",
    "#  write file with struct definition to include in .cpp-file (note: ensures order of fields is the same)\n",
    "ParStruct = cpptools.setup_struct(parlist,structname='par_struct',structfile='cppfuncs/par_struct.cpp')\n",
    "\n",
    "# b. compile\n",
    "cpptools.compile('cppfuncs/example',compiler=compiler) # adjust paths?\n",
    "\n",
    "# c. settings\n",
    "par = ParClass()\n",
    "par.N = 10\n",
    "par.X = np.linspace(0,10,par.N)\n",
    "par.Y = np.zeros(par.N)\n",
    "par.a = 2\n",
    "par.b = 1\n",
    "par.threads = 4\n",
    "\n",
    "# d. link\n",
    "\n",
    "# list of functions with argument types (long is int)\n",
    "funcs = [('fun',[ct.POINTER(ParStruct)]),\n",
    "         ('fun_nostruct',[ct.POINTER(ct.c_double),\n",
    "                          ct.POINTER(ct.c_double),\n",
    "                          ct.c_long,\n",
    "                          ct.c_double,\n",
    "                          ct.c_double,\n",
    "                          ct.c_long])]\n",
    "\n",
    "if compiler == 'vs':\n",
    "    example = cpptools.link('example',funcs,use_openmp_with_vs=True)\n",
    "else:\n",
    "    example = cpptools.link('example',funcs)\n",
    "\n",
    "# e. wrapper\n",
    "def wrapper(par):\n",
    "    p_par = cpptools.get_struct_pointer(par,ParStruct)\n",
    "    example.fun(p_par)\n",
    "\n",
    "def wrapper_nostruct(X,Y,N,a,b,threads):\n",
    "    p_X = np.ctypeslib.as_ctypes(X)\n",
    "    p_Y = np.ctypeslib.as_ctypes(Y)\n",
    "    example.fun_nostruct(p_X,p_Y,N,a,b,threads)\n",
    "    \n",
    "# f. calls and checks\n",
    "wrapper(par)\n",
    "assert np.allclose(par.X*(par.a+par.b),par.Y)\n",
    "print('all assertions true for example.fun')\n",
    "\n",
    "par.Y = np.zeros(par.N)\n",
    "wrapper_nostruct(par.X,par.Y,par.N,par.a,par.b,par.threads)\n",
    "assert np.allclose(par.X*(par.a+par.b),par.Y)\n",
    "print('all assertions true for example.fun_nostruct')\n",
    "\n",
    "# g. delink (remove dll file)\n",
    "cpptools.delink(example,'example')"
   ]
  },
  {
   "cell_type": "markdown",
   "metadata": {},
   "source": [
    "# cffi"
   ]
  },
  {
   "cell_type": "code",
   "execution_count": 5,
   "metadata": {},
   "outputs": [],
   "source": [
    "import os\n",
    "from cffi import FFI\n",
    "import numba as nb"
   ]
  },
  {
   "cell_type": "code",
   "execution_count": 6,
   "metadata": {},
   "outputs": [
    {
     "name": "stdout",
     "output_type": "stream",
     "text": [
      "cpp files compiled\n",
      "all assertions true for fun_nostruct\n",
      "all assertions true for fun_nostruct (in numba)\n"
     ]
    }
   ],
   "source": [
    "# a. main class\n",
    "\n",
    "# list of elements \n",
    "parlist = [\n",
    "    ('X',nb.double[:]),\n",
    "    ('Y',nb.double[:]),    \n",
    "    ('N',nb.int32),    \n",
    "    ('a',nb.double),\n",
    "    ('b',nb.double),\n",
    "    ('threads',nb.int32)\n",
    "]\n",
    "\n",
    "# python class\n",
    "@nb.jitclass(parlist)\n",
    "class ParClass():\n",
    "    def __init__(self):\n",
    "        pass\n",
    "\n",
    "# b. compile\n",
    "cpptools.compile('cppfuncs/example',compiler=compiler)\n",
    "\n",
    "# c. settings\n",
    "par = ParClass()\n",
    "par.N = 10\n",
    "par.X = np.zeros(par.N)\n",
    "par.Y = np.zeros(par.N)\n",
    "par.a = 2\n",
    "par.b = 1\n",
    "par.threads = 4\n",
    "\n",
    "# d. link\n",
    "ffi = FFI()\n",
    "ffi.cdef(r'''void fun_nostruct(double *X, double *Y, int N, double a, double b, int threads);''')\n",
    "example = ffi.dlopen(\"example.dll\")\n",
    "\n",
    "# e. regular call\n",
    "p_X = ffi.cast('double *', par.X.ctypes.data)\n",
    "p_Y = ffi.cast('double *', par.Y.ctypes.data)\n",
    "example.fun_nostruct(p_X,p_Y,par.N,par.a,par.b,par.threads)\n",
    "assert np.allclose(par.X*(par.a+par.b),par.Y)\n",
    "print('all assertions true for fun_nostruct')\n",
    "\n",
    "# f. numba call\n",
    "fun_nostruct_numba = example.fun_nostruct\n",
    "@nb.njit\n",
    "def wrapper_nostruct(X,Y,N,a,b,threads):\n",
    "    p_X = ffi.from_buffer(X)\n",
    "    p_Y = ffi.from_buffer(Y)\n",
    "    fun_nostruct_numba(p_X,p_Y,N,a,b,threads)\n",
    "\n",
    "par.Y = np.zeros(par.N)\n",
    "wrapper_nostruct(par.X,par.Y,par.N,par.a,par.b,par.threads)\n",
    "assert np.allclose(par.X*(par.a+par.b),par.Y)\n",
    "print('all assertions true for fun_nostruct (in numba)')\n",
    "\n",
    "# g. clean up\n",
    "ffi.dlclose(example)\n",
    "os.remove('example.dll')"
   ]
  }
 ],
 "metadata": {
  "kernelspec": {
   "display_name": "Python 3",
   "language": "python",
   "name": "python3"
  },
  "language_info": {
   "codemirror_mode": {
    "name": "ipython",
    "version": 3
   },
   "file_extension": ".py",
   "mimetype": "text/x-python",
   "name": "python",
   "nbconvert_exporter": "python",
   "pygments_lexer": "ipython3",
   "version": "3.7.1"
  },
  "toc": {
   "base_numbering": 1,
   "nav_menu": {},
   "number_sections": true,
   "sideBar": true,
   "skip_h1_title": false,
   "title_cell": "Table of Contents",
   "title_sidebar": "Contents",
   "toc_cell": true,
   "toc_position": {},
   "toc_section_display": true,
   "toc_window_display": false
  },
  "toc-autonumbering": true
 },
 "nbformat": 4,
 "nbformat_minor": 2
}
