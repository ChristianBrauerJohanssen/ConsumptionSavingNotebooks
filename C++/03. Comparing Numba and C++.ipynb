{
 "cells": [
  {
   "cell_type": "markdown",
   "metadata": {},
   "source": [
    "# Comparing Numba and C++"
   ]
  },
  {
   "cell_type": "markdown",
   "metadata": {},
   "source": [
    "This notebooks provides an example of how **Numba** compares in speed-up to C++."
   ]
  },
  {
   "cell_type": "markdown",
   "metadata": {},
   "source": [
    "**Computer used for timings:** Windows 10 computer with two Intel(R) Xeon(R) Gold 6254 3.10 GHz CPUs (18 cores, 36 logical processes each) and 768 GB of RAM."
   ]
  },
  {
   "cell_type": "markdown",
   "metadata": {},
   "source": [
    "# Imports"
   ]
  },
  {
   "cell_type": "code",
   "execution_count": 1,
   "metadata": {},
   "outputs": [],
   "source": [
    "%load_ext autoreload\n",
    "%autoreload 2"
   ]
  },
  {
   "cell_type": "code",
   "execution_count": 2,
   "metadata": {},
   "outputs": [],
   "source": [
    "import time\n",
    "import ctypes as ct\n",
    "import numpy as np\n",
    "import numba as nb"
   ]
  },
  {
   "cell_type": "code",
   "execution_count": 3,
   "metadata": {},
   "outputs": [],
   "source": [
    "from consav import cpptools"
   ]
  },
  {
   "cell_type": "code",
   "execution_count": 4,
   "metadata": {},
   "outputs": [],
   "source": [
    "DO_INTEL = False"
   ]
  },
  {
   "cell_type": "markdown",
   "metadata": {},
   "source": [
    "# Numba"
   ]
  },
  {
   "cell_type": "code",
   "execution_count": 5,
   "metadata": {},
   "outputs": [
    {
     "name": "stdout",
     "output_type": "stream",
     "text": [
      "This computer has 8 CPUs\n",
      "Numba is using 8 CPUs\n"
     ]
    }
   ],
   "source": [
    "print(f'This computer has {nb.config.NUMBA_DEFAULT_NUM_THREADS} CPUs')\n",
    "print(f'Numba is using {nb.config.NUMBA_NUM_THREADS} CPUs')\n",
    "\n",
    "threads_list = [x for x in np.arange(1,nb.config.NUMBA_NUM_THREADS+1) if x in [1,4,8] or x%8 == 0]\n",
    "compilers = ['vs','intel'] if DO_INTEL else ['vs']"
   ]
  },
  {
   "cell_type": "code",
   "execution_count": 6,
   "metadata": {},
   "outputs": [],
   "source": [
    "nb.config.THREADING_LAYER = 'tbb' # alternative: 'omp'"
   ]
  },
  {
   "cell_type": "markdown",
   "metadata": {},
   "source": [
    "**Test function:**"
   ]
  },
  {
   "cell_type": "code",
   "execution_count": 7,
   "metadata": {},
   "outputs": [],
   "source": [
    "# a. test function\n",
    "@nb.njit(parallel=True)\n",
    "def test_func(X,Y,Z):\n",
    "    for i in nb.prange(X.size):\n",
    "        Z[i] = 0\n",
    "        for j in range(Y.size):\n",
    "            Z[i] += np.exp(np.log(X[i]*Y[j]+0.001))/(X[i]*Y[j])-1\n",
    "            \n",
    "# b. settings\n",
    "NX = 40000\n",
    "NY = 40000\n",
    "\n",
    "# c. random draws\n",
    "np.random.seed(1998)\n",
    "X = np.random.sample(NX)\n",
    "Y = np.random.sample(NY)\n",
    "Z = np.zeros(NX)"
   ]
  },
  {
   "cell_type": "markdown",
   "metadata": {},
   "source": [
    "**Test runs:**"
   ]
  },
  {
   "cell_type": "code",
   "execution_count": 8,
   "metadata": {},
   "outputs": [],
   "source": [
    "NYtest = 2\n",
    "Ytest = np.random.sample(NYtest)\n",
    "test_func(X,Ytest,Z)"
   ]
  },
  {
   "cell_type": "markdown",
   "metadata": {},
   "source": [
    "**Timed runs:**"
   ]
  },
  {
   "cell_type": "code",
   "execution_count": 9,
   "metadata": {},
   "outputs": [
    {
     "name": "stdout",
     "output_type": "stream",
     "text": [
      "tbb with  1 threads in 29.4 secs [checksum: 326725974.7]\n",
      "tbb with  2 threads in 15.3 secs [checksum: 326725974.7]\n",
      "tbb with  4 threads in  8.9 secs [checksum: 326725974.7]\n",
      "tbb with  8 threads in  7.5 secs [checksum: 326725974.7]\n"
     ]
    }
   ],
   "source": [
    "for threads in threads_list:\n",
    "\n",
    "    # b. set threads\n",
    "    nb.set_num_threads(threads)\n",
    "\n",
    "    # c. run\n",
    "    tic = time.time()\n",
    "    test_func(X,Y,Z)\n",
    "    toc = time.time()\n",
    "\n",
    "    print(f'{nb.threading_layer()} with {threads:2d} threads in {toc-tic:4.1f} secs [checksum: {np.sum(Z):.1f}]')"
   ]
  },
  {
   "cell_type": "markdown",
   "metadata": {},
   "source": [
    "# C++"
   ]
  },
  {
   "cell_type": "markdown",
   "metadata": {},
   "source": [
    "**Link** C++ functions (`cppfuncs/compare_with_numba.cpp)`:"
   ]
  },
  {
   "cell_type": "code",
   "execution_count": 10,
   "metadata": {},
   "outputs": [],
   "source": [
    "filename = 'cppfuncs/compare_with_numba.cpp'\n",
    "compare_with_numba_vs = cpptools.link_to_cpp(filename,options={'compiler':'vs','dllfilename':'example_numba_vs.dll'})\n",
    "if DO_INTEL: compare_with_numba_intel = cpptools.link_to_cpp(filename,options={'compiler':'intel','dllfilename':'example_numba_intel.dll'})"
   ]
  },
  {
   "cell_type": "markdown",
   "metadata": {},
   "source": [
    "**Timed runs:**"
   ]
  },
  {
   "cell_type": "code",
   "execution_count": 11,
   "metadata": {},
   "outputs": [
    {
     "name": "stdout",
     "output_type": "stream",
     "text": [
      "vs with  1 in 27.4 secs [checksum: 326725974.7]\n",
      "vs with  2 in 14.6 secs [checksum: 326725974.7]\n",
      "vs with  4 in  9.1 secs [checksum: 326725974.7]\n",
      "vs with  8 in  7.4 secs [checksum: 326725974.7]\n",
      "\n"
     ]
    }
   ],
   "source": [
    "for compiler in compilers:    \n",
    "    for threads in threads_list:    \n",
    "        \n",
    "        tic = time.time()\n",
    "        if compiler == 'vs':\n",
    "            compare_with_numba_vs.test_func(X,Y,Z,NX,NY,threads)\n",
    "        else:\n",
    "            compare_with_numba_intel.test_func(X,Y,Z,NX,NY,threads)    \n",
    "        toc = time.time()\n",
    "        \n",
    "        print(f'{compiler} with {threads:2d} in {toc-tic:4.1f} secs [checksum: {np.sum(Z):.1f}]')\n",
    "    \n",
    "    print('')"
   ]
  },
  {
   "cell_type": "markdown",
   "metadata": {},
   "source": [
    "**Clean-up:**"
   ]
  },
  {
   "cell_type": "code",
   "execution_count": 12,
   "metadata": {},
   "outputs": [],
   "source": [
    "compare_with_numba_vs.clean_up()\n",
    "if DO_INTEL: compare_with_numba_intel.clean_up()"
   ]
  },
  {
   "cell_type": "markdown",
   "metadata": {},
   "source": [
    "# Conclusions"
   ]
  },
  {
   "cell_type": "markdown",
   "metadata": {},
   "source": [
    "1. Numba is almost as efficient as pure C++\n",
    "2. In C++ performance is best with `compiler='intel'` - especially with > 36 cores \n",
    "3. With `nb.config:THREADING_LAYER = 'tbb'` performance is similar to `compiler='intel'`\n",
    "4. With `nb.config:THREADING_LAYER = 'omp'` performance is similar to `compiler='vs'`"
   ]
  }
 ],
 "metadata": {
  "kernelspec": {
   "display_name": "Python 3",
   "language": "python",
   "name": "python3"
  },
  "language_info": {
   "codemirror_mode": {
    "name": "ipython",
    "version": 3
   },
   "file_extension": ".py",
   "mimetype": "text/x-python",
   "name": "python",
   "nbconvert_exporter": "python",
   "pygments_lexer": "ipython3",
   "version": "3.8.5"
  },
  "toc": {
   "base_numbering": 1,
   "nav_menu": {},
   "number_sections": true,
   "sideBar": true,
   "skip_h1_title": false,
   "title_cell": "Table of Contents",
   "title_sidebar": "Contents",
   "toc_cell": true,
   "toc_position": {},
   "toc_section_display": true,
   "toc_window_display": false
  },
  "toc-autonumbering": true
 },
 "nbformat": 4,
 "nbformat_minor": 4
}
